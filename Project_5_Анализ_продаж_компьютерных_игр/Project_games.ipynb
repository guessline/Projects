{
  "cells": [
    {
      "cell_type": "markdown",
      "metadata": {
        "id": "WG7MmtE38E-8"
      },
      "source": [
        "### *Описание проекта.*\n",
        "#### Я работаю в интернет-магазине «Стримчик», который продаёт по всему миру компьютерные игры. Из открытых источников доступны исторические данные о продажах игр, оценки пользователей и экспертов, жанры и платформы (например, Xbox или PlayStation).\n",
        "\n",
        "### *Цель проекта.*\n",
        "#### Выявить определяющие успешность игры закономерности. Это позволит сделать ставку на потенциально популярный продукт и спланировать рекламные кампании.\n",
        "\n",
        "### Описание данных\n",
        "*\tName — название игры\n",
        "*\tPlatform — платформа\n",
        "*\tYear_of_Release — год выпуска\n",
        "*\tGenre — жанр игры\n",
        "*\tNA_sales — продажи в Северной Америке (миллионы проданных копий)\n",
        "*\tEU_sales — продажи в Европе (миллионы проданных копий)\n",
        "*\tJP_sales — продажи в Японии (миллионы проданных копий)\n",
        "*\tOther_sales — продажи в других странах (миллионы проданных копий)\n",
        "*\tCritic_Score — оценка критиков (максимум 100)\n",
        "*\tUser_Score — оценка пользователей (максимум 10)\n",
        "*\tRating — рейтинг от организации ESRB (англ. Entertainment Software Rating Board). Эта ассоциация определяет рейтинг компьютерных игр и присваивает им подходящую возрастную категорию.\n",
        "\n",
        "#### *Проект подготовлен Дмитрием Фроловым.*"
      ]
    },
    {
      "cell_type": "markdown",
      "metadata": {
        "id": "rnilV2eA_AD-"
      },
      "source": [
        "### ШАГ 1. Открываем файл с данными и изучаем общую информацию."
      ]
    },
    {
      "cell_type": "code",
      "execution_count": null,
      "metadata": {
        "id": "KjfLyIdT1Z7Y"
      },
      "outputs": [],
      "source": [
        "# Загружаем библиотеки.\n",
        "import pandas as pd\n",
        "import numpy as np\n",
        "from scipy import stats as st\n",
        "import matplotlib.pyplot as plt\n",
        "import seaborn as sns\n",
        "sns.set(style = \"darkgrid\")\n",
        "import warnings\n",
        "warnings.filterwarnings(\"ignore\")\n",
        "warnings.filterwarnings( \"ignore\", module = \"matplotlib\\..*\" )"
      ]
    },
    {
      "cell_type": "code",
      "execution_count": null,
      "metadata": {
        "id": "g034SqDU9veH"
      },
      "outputs": [],
      "source": [
        "# Загружаем данные.\n",
        "games = pd.read_csv('/datasets/games.csv')"
      ]
    },
    {
      "cell_type": "code",
      "execution_count": null,
      "metadata": {
        "colab": {
          "base_uri": "https://localhost:8080/"
        },
        "id": "JADx2lg594bc",
        "outputId": "ac813e9d-2683-4bee-a4ec-5a1fee8e8094"
      },
      "outputs": [
        {
          "data": {
            "text/plain": [
              "(16715, 11)"
            ]
          },
          "execution_count": 3,
          "metadata": {},
          "output_type": "execute_result"
        }
      ],
      "source": [
        "# проверяем размер датасета.\n",
        "games.shape"
      ]
    },
    {
      "cell_type": "code",
      "execution_count": null,
      "metadata": {
        "colab": {
          "base_uri": "https://localhost:8080/"
        },
        "id": "kur2A1d8-FGI",
        "outputId": "0ce4f9b2-3ac7-41a0-bea5-53df42f32622"
      },
      "outputs": [
        {
          "name": "stdout",
          "output_type": "stream",
          "text": [
            "<class 'pandas.core.frame.DataFrame'>\n",
            "RangeIndex: 16715 entries, 0 to 16714\n",
            "Data columns (total 11 columns):\n",
            " #   Column           Non-Null Count  Dtype  \n",
            "---  ------           --------------  -----  \n",
            " 0   Name             16713 non-null  object \n",
            " 1   Platform         16715 non-null  object \n",
            " 2   Year_of_Release  16446 non-null  float64\n",
            " 3   Genre            16713 non-null  object \n",
            " 4   NA_sales         16715 non-null  float64\n",
            " 5   EU_sales         16715 non-null  float64\n",
            " 6   JP_sales         16715 non-null  float64\n",
            " 7   Other_sales      16715 non-null  float64\n",
            " 8   Critic_Score     8137 non-null   float64\n",
            " 9   User_Score       10014 non-null  object \n",
            " 10  Rating           9949 non-null   object \n",
            "dtypes: float64(6), object(5)\n",
            "memory usage: 1.4+ MB\n"
          ]
        }
      ],
      "source": [
        "# выводим список столбцов и их типов данных.\n",
        "games.info()"
      ]
    },
    {
      "cell_type": "code",
      "execution_count": null,
      "metadata": {
        "colab": {
          "base_uri": "https://localhost:8080/",
          "height": 206
        },
        "id": "M5IH0hSV-Sw3",
        "outputId": "577a0cb7-5a25-4f19-878c-e12cd6e64edd"
      },
      "outputs": [
        {
          "data": {
            "text/html": [
              "<div>\n",
              "<style scoped>\n",
              "    .dataframe tbody tr th:only-of-type {\n",
              "        vertical-align: middle;\n",
              "    }\n",
              "\n",
              "    .dataframe tbody tr th {\n",
              "        vertical-align: top;\n",
              "    }\n",
              "\n",
              "    .dataframe thead th {\n",
              "        text-align: right;\n",
              "    }\n",
              "</style>\n",
              "<table border=\"1\" class=\"dataframe\">\n",
              "  <thead>\n",
              "    <tr style=\"text-align: right;\">\n",
              "      <th></th>\n",
              "      <th>Name</th>\n",
              "      <th>Platform</th>\n",
              "      <th>Year_of_Release</th>\n",
              "      <th>Genre</th>\n",
              "      <th>NA_sales</th>\n",
              "      <th>EU_sales</th>\n",
              "      <th>JP_sales</th>\n",
              "      <th>Other_sales</th>\n",
              "      <th>Critic_Score</th>\n",
              "      <th>User_Score</th>\n",
              "      <th>Rating</th>\n",
              "    </tr>\n",
              "  </thead>\n",
              "  <tbody>\n",
              "    <tr>\n",
              "      <th>0</th>\n",
              "      <td>Wii Sports</td>\n",
              "      <td>Wii</td>\n",
              "      <td>2006.0</td>\n",
              "      <td>Sports</td>\n",
              "      <td>41.36</td>\n",
              "      <td>28.96</td>\n",
              "      <td>3.77</td>\n",
              "      <td>8.45</td>\n",
              "      <td>76.0</td>\n",
              "      <td>8</td>\n",
              "      <td>E</td>\n",
              "    </tr>\n",
              "    <tr>\n",
              "      <th>1</th>\n",
              "      <td>Super Mario Bros.</td>\n",
              "      <td>NES</td>\n",
              "      <td>1985.0</td>\n",
              "      <td>Platform</td>\n",
              "      <td>29.08</td>\n",
              "      <td>3.58</td>\n",
              "      <td>6.81</td>\n",
              "      <td>0.77</td>\n",
              "      <td>NaN</td>\n",
              "      <td>NaN</td>\n",
              "      <td>NaN</td>\n",
              "    </tr>\n",
              "    <tr>\n",
              "      <th>2</th>\n",
              "      <td>Mario Kart Wii</td>\n",
              "      <td>Wii</td>\n",
              "      <td>2008.0</td>\n",
              "      <td>Racing</td>\n",
              "      <td>15.68</td>\n",
              "      <td>12.76</td>\n",
              "      <td>3.79</td>\n",
              "      <td>3.29</td>\n",
              "      <td>82.0</td>\n",
              "      <td>8.3</td>\n",
              "      <td>E</td>\n",
              "    </tr>\n",
              "    <tr>\n",
              "      <th>3</th>\n",
              "      <td>Wii Sports Resort</td>\n",
              "      <td>Wii</td>\n",
              "      <td>2009.0</td>\n",
              "      <td>Sports</td>\n",
              "      <td>15.61</td>\n",
              "      <td>10.93</td>\n",
              "      <td>3.28</td>\n",
              "      <td>2.95</td>\n",
              "      <td>80.0</td>\n",
              "      <td>8</td>\n",
              "      <td>E</td>\n",
              "    </tr>\n",
              "    <tr>\n",
              "      <th>4</th>\n",
              "      <td>Pokemon Red/Pokemon Blue</td>\n",
              "      <td>GB</td>\n",
              "      <td>1996.0</td>\n",
              "      <td>Role-Playing</td>\n",
              "      <td>11.27</td>\n",
              "      <td>8.89</td>\n",
              "      <td>10.22</td>\n",
              "      <td>1.00</td>\n",
              "      <td>NaN</td>\n",
              "      <td>NaN</td>\n",
              "      <td>NaN</td>\n",
              "    </tr>\n",
              "  </tbody>\n",
              "</table>\n",
              "</div>"
            ],
            "text/plain": [
              "                       Name Platform  Year_of_Release         Genre  NA_sales  \\\n",
              "0                Wii Sports      Wii           2006.0        Sports     41.36   \n",
              "1         Super Mario Bros.      NES           1985.0      Platform     29.08   \n",
              "2            Mario Kart Wii      Wii           2008.0        Racing     15.68   \n",
              "3         Wii Sports Resort      Wii           2009.0        Sports     15.61   \n",
              "4  Pokemon Red/Pokemon Blue       GB           1996.0  Role-Playing     11.27   \n",
              "\n",
              "   EU_sales  JP_sales  Other_sales  Critic_Score User_Score Rating  \n",
              "0     28.96      3.77         8.45          76.0          8      E  \n",
              "1      3.58      6.81         0.77           NaN        NaN    NaN  \n",
              "2     12.76      3.79         3.29          82.0        8.3      E  \n",
              "3     10.93      3.28         2.95          80.0          8      E  \n",
              "4      8.89     10.22         1.00           NaN        NaN    NaN  "
            ]
          },
          "execution_count": 5,
          "metadata": {},
          "output_type": "execute_result"
        }
      ],
      "source": [
        "# выводим предварительный просмотр первых нескольких записей.\n",
        "games.head()"
      ]
    },
    {
      "cell_type": "code",
      "execution_count": null,
      "metadata": {
        "colab": {
          "base_uri": "https://localhost:8080/"
        },
        "id": "-QEBT782-khU",
        "outputId": "3e808511-8049-4354-d924-209fdcb35782"
      },
      "outputs": [
        {
          "name": "stdout",
          "output_type": "stream",
          "text": [
            "Количество явных дубликатов: 0\n"
          ]
        }
      ],
      "source": [
        "# сразу проверим датасет на наличие явных дубликатов, чтобы не обрабатывать заведомо некорректные данные.\n",
        "print('Количество явных дубликатов:', games.duplicated().sum())"
      ]
    },
    {
      "cell_type": "code",
      "execution_count": null,
      "metadata": {
        "colab": {
          "base_uri": "https://localhost:8080/"
        },
        "id": "uuU8IWtbbP8q",
        "outputId": "2975263f-ac97-4986-8265-fd2ebc2ff529"
      },
      "outputs": [
        {
          "data": {
            "text/plain": [
              "Name                  2\n",
              "Platform              0\n",
              "Year_of_Release     269\n",
              "Genre                 2\n",
              "NA_sales              0\n",
              "EU_sales              0\n",
              "JP_sales              0\n",
              "Other_sales           0\n",
              "Critic_Score       8578\n",
              "User_Score         6701\n",
              "Rating             6766\n",
              "dtype: int64"
            ]
          },
          "execution_count": 7,
          "metadata": {},
          "output_type": "execute_result"
        }
      ],
      "source": [
        "# проверяем датасет на количество пропусков\n",
        "games.isna().sum()"
      ]
    },
    {
      "cell_type": "code",
      "execution_count": null,
      "metadata": {
        "colab": {
          "base_uri": "https://localhost:8080/"
        },
        "id": "a6EATCSb8-g2",
        "outputId": "9d494249-fe4e-4e44-fc1b-f6a6d051204e",
        "scrolled": true
      },
      "outputs": [
        {
          "data": {
            "text/plain": [
              "PS2     2161\n",
              "DS      2151\n",
              "PS3     1331\n",
              "Wii     1320\n",
              "X360    1262\n",
              "PSP     1209\n",
              "PS      1197\n",
              "PC       974\n",
              "XB       824\n",
              "GBA      822\n",
              "GC       556\n",
              "3DS      520\n",
              "PSV      430\n",
              "PS4      392\n",
              "N64      319\n",
              "XOne     247\n",
              "SNES     239\n",
              "SAT      173\n",
              "WiiU     147\n",
              "2600     133\n",
              "NES       98\n",
              "GB        98\n",
              "DC        52\n",
              "GEN       29\n",
              "NG        12\n",
              "SCD        6\n",
              "WS         6\n",
              "3DO        3\n",
              "TG16       2\n",
              "PCFX       1\n",
              "GG         1\n",
              "Name: Platform, dtype: int64"
            ]
          },
          "execution_count": 8,
          "metadata": {},
          "output_type": "execute_result"
        }
      ],
      "source": [
        "# посмотрим на состав и количество в столбце 'Platform'\n",
        "games['Platform'].value_counts()"
      ]
    },
    {
      "cell_type": "code",
      "execution_count": null,
      "metadata": {
        "colab": {
          "base_uri": "https://localhost:8080/"
        },
        "id": "N6XxnvBu-zDR",
        "outputId": "8b4a5a3b-7610-4033-e974-278a9cbc8871"
      },
      "outputs": [
        {
          "data": {
            "text/plain": [
              "Action          3369\n",
              "Sports          2348\n",
              "Misc            1750\n",
              "Role-Playing    1498\n",
              "Shooter         1323\n",
              "Adventure       1303\n",
              "Racing          1249\n",
              "Platform         888\n",
              "Simulation       873\n",
              "Fighting         849\n",
              "Strategy         683\n",
              "Puzzle           580\n",
              "Name: Genre, dtype: int64"
            ]
          },
          "execution_count": 9,
          "metadata": {},
          "output_type": "execute_result"
        }
      ],
      "source": [
        "# поcмотрим на состав и количество в столбце 'Genre'\n",
        "games['Genre'].value_counts()"
      ]
    },
    {
      "cell_type": "markdown",
      "metadata": {
        "id": "RPoVGUIGgUf0"
      },
      "source": [
        "#### Вывод.\n",
        "* прочли файл games;\n",
        "* проверили размер датасета:  строк - 16715, столбцов - 11;\n",
        "* вывели список список столбцов и их типов данных;\n",
        "* проверили на наличие явных дубликатов, дубликаты отсутствуют;\n",
        "* проверили датасет на наличие пропусков.\n",
        "* посмотрели на состав и количество повторов в столбцах 'Platform' и 'Genre'."
      ]
    },
    {
      "cell_type": "markdown",
      "metadata": {
        "id": "gBEBQIaX_Wi3"
      },
      "source": [
        "### ШАГ 2. Подготавливаем данные."
      ]
    },
    {
      "cell_type": "code",
      "execution_count": null,
      "metadata": {
        "id": "SEgC8KYXELOL"
      },
      "outputs": [],
      "source": [
        "# приводим названия столбцов к нижнему регистру.\n",
        "games.columns = games.columns.str.lower()"
      ]
    },
    {
      "cell_type": "code",
      "execution_count": null,
      "metadata": {
        "id": "RP2s8TDpAPpE"
      },
      "outputs": [],
      "source": [
        "# приведем названия cтолбцов к нижнему регистру методом str.lower().\n",
        "games['name'] = games['name'].str.lower()\n",
        "games['platform'] = games['platform'].str.lower()\n",
        "games['genre'] = games['genre'].str.lower()\n",
        "games['user_score'] = games['user_score'].str.lower()\n",
        "games['rating'] = games['rating'].str.lower()"
      ]
    },
    {
      "cell_type": "code",
      "execution_count": null,
      "metadata": {
        "colab": {
          "base_uri": "https://localhost:8080/",
          "height": 206
        },
        "id": "_mAvfh6HASaI",
        "outputId": "9538f995-fd2c-48a3-bdd6-a675f14a0f97"
      },
      "outputs": [
        {
          "data": {
            "text/html": [
              "<div>\n",
              "<style scoped>\n",
              "    .dataframe tbody tr th:only-of-type {\n",
              "        vertical-align: middle;\n",
              "    }\n",
              "\n",
              "    .dataframe tbody tr th {\n",
              "        vertical-align: top;\n",
              "    }\n",
              "\n",
              "    .dataframe thead th {\n",
              "        text-align: right;\n",
              "    }\n",
              "</style>\n",
              "<table border=\"1\" class=\"dataframe\">\n",
              "  <thead>\n",
              "    <tr style=\"text-align: right;\">\n",
              "      <th></th>\n",
              "      <th>name</th>\n",
              "      <th>platform</th>\n",
              "      <th>year_of_release</th>\n",
              "      <th>genre</th>\n",
              "      <th>na_sales</th>\n",
              "      <th>eu_sales</th>\n",
              "      <th>jp_sales</th>\n",
              "      <th>other_sales</th>\n",
              "      <th>critic_score</th>\n",
              "      <th>user_score</th>\n",
              "      <th>rating</th>\n",
              "    </tr>\n",
              "  </thead>\n",
              "  <tbody>\n",
              "    <tr>\n",
              "      <th>0</th>\n",
              "      <td>wii sports</td>\n",
              "      <td>wii</td>\n",
              "      <td>2006.0</td>\n",
              "      <td>sports</td>\n",
              "      <td>41.36</td>\n",
              "      <td>28.96</td>\n",
              "      <td>3.77</td>\n",
              "      <td>8.45</td>\n",
              "      <td>76.0</td>\n",
              "      <td>8</td>\n",
              "      <td>e</td>\n",
              "    </tr>\n",
              "    <tr>\n",
              "      <th>1</th>\n",
              "      <td>super mario bros.</td>\n",
              "      <td>nes</td>\n",
              "      <td>1985.0</td>\n",
              "      <td>platform</td>\n",
              "      <td>29.08</td>\n",
              "      <td>3.58</td>\n",
              "      <td>6.81</td>\n",
              "      <td>0.77</td>\n",
              "      <td>NaN</td>\n",
              "      <td>NaN</td>\n",
              "      <td>NaN</td>\n",
              "    </tr>\n",
              "    <tr>\n",
              "      <th>2</th>\n",
              "      <td>mario kart wii</td>\n",
              "      <td>wii</td>\n",
              "      <td>2008.0</td>\n",
              "      <td>racing</td>\n",
              "      <td>15.68</td>\n",
              "      <td>12.76</td>\n",
              "      <td>3.79</td>\n",
              "      <td>3.29</td>\n",
              "      <td>82.0</td>\n",
              "      <td>8.3</td>\n",
              "      <td>e</td>\n",
              "    </tr>\n",
              "    <tr>\n",
              "      <th>3</th>\n",
              "      <td>wii sports resort</td>\n",
              "      <td>wii</td>\n",
              "      <td>2009.0</td>\n",
              "      <td>sports</td>\n",
              "      <td>15.61</td>\n",
              "      <td>10.93</td>\n",
              "      <td>3.28</td>\n",
              "      <td>2.95</td>\n",
              "      <td>80.0</td>\n",
              "      <td>8</td>\n",
              "      <td>e</td>\n",
              "    </tr>\n",
              "    <tr>\n",
              "      <th>4</th>\n",
              "      <td>pokemon red/pokemon blue</td>\n",
              "      <td>gb</td>\n",
              "      <td>1996.0</td>\n",
              "      <td>role-playing</td>\n",
              "      <td>11.27</td>\n",
              "      <td>8.89</td>\n",
              "      <td>10.22</td>\n",
              "      <td>1.00</td>\n",
              "      <td>NaN</td>\n",
              "      <td>NaN</td>\n",
              "      <td>NaN</td>\n",
              "    </tr>\n",
              "  </tbody>\n",
              "</table>\n",
              "</div>"
            ],
            "text/plain": [
              "                       name platform  year_of_release         genre  na_sales  \\\n",
              "0                wii sports      wii           2006.0        sports     41.36   \n",
              "1         super mario bros.      nes           1985.0      platform     29.08   \n",
              "2            mario kart wii      wii           2008.0        racing     15.68   \n",
              "3         wii sports resort      wii           2009.0        sports     15.61   \n",
              "4  pokemon red/pokemon blue       gb           1996.0  role-playing     11.27   \n",
              "\n",
              "   eu_sales  jp_sales  other_sales  critic_score user_score rating  \n",
              "0     28.96      3.77         8.45          76.0          8      e  \n",
              "1      3.58      6.81         0.77           NaN        NaN    NaN  \n",
              "2     12.76      3.79         3.29          82.0        8.3      e  \n",
              "3     10.93      3.28         2.95          80.0          8      e  \n",
              "4      8.89     10.22         1.00           NaN        NaN    NaN  "
            ]
          },
          "execution_count": 12,
          "metadata": {},
          "output_type": "execute_result"
        }
      ],
      "source": [
        "# проверяем изменения в столбцах после приведений к нижнему регистру.\n",
        "games.head(5)"
      ]
    },
    {
      "cell_type": "markdown",
      "metadata": {
        "id": "pmD_Stcus87h"
      },
      "source": [
        "#### Манипуляции с tbd.\n",
        "##### В столбце 'user_score' присутствует аббревиатура tbd. To Be Decided или To Be Determined TBD. Будет определено. TBD - аббревиатура от английского To Be Determined (будет определено) или To Be Decided (будет решено). Используется, если какая-то информация еще не определена или решение по вопросу не принято. Акроним служит для отметки неясностей или пропусков, которые надо заполнить, в информации требований. По этой причине предлагаю заменить 'tbd' на 'NaN'.\n"
      ]
    },
    {
      "cell_type": "code",
      "execution_count": null,
      "metadata": {
        "id": "BNBkV4vUtjMA"
      },
      "outputs": [],
      "source": [
        "# заменим tbd на Nan\n",
        "games['user_score'] = games['user_score'].replace('tbd', np.nan, regex=True)"
      ]
    },
    {
      "cell_type": "markdown",
      "metadata": {
        "id": "3sM8_wp3KKl3"
      },
      "source": [
        "#### Преобразование данных в необходимые типы.\n",
        "*  year_of_release - меняем с float на int, так как год должен быть целым   числом;\n",
        "* critic_score - меняем с float64 на int, поскольку рейтинг критиков представляет собой целые числа;\n",
        "* user_score - меняем с object на float, поскольку рейтинг пользователей представляет собой вещественные числа.  "
      ]
    },
    {
      "cell_type": "code",
      "execution_count": null,
      "metadata": {
        "id": "saOel7FJASzd"
      },
      "outputs": [],
      "source": [
        "# преобразовываем данные столбца 'year_of_release' в тип int \n",
        "games['year_of_release'] = games['year_of_release'].astype('Int64', errors = 'ignore')\n",
        "games['critic_score'] = pd.to_numeric(games['critic_score'], downcast='integer')\n",
        "games['user_score'] = pd.to_numeric(games['user_score'], downcast='float', errors ='coerce')"
      ]
    },
    {
      "cell_type": "code",
      "execution_count": null,
      "metadata": {
        "colab": {
          "base_uri": "https://localhost:8080/"
        },
        "id": "L7zEebxYATvz",
        "outputId": "999d1cbd-bcb2-416e-999d-17cdcd0675bb"
      },
      "outputs": [
        {
          "name": "stdout",
          "output_type": "stream",
          "text": [
            "<class 'pandas.core.frame.DataFrame'>\n",
            "RangeIndex: 16715 entries, 0 to 16714\n",
            "Data columns (total 11 columns):\n",
            " #   Column           Non-Null Count  Dtype  \n",
            "---  ------           --------------  -----  \n",
            " 0   name             16713 non-null  object \n",
            " 1   platform         16715 non-null  object \n",
            " 2   year_of_release  16446 non-null  Int64  \n",
            " 3   genre            16713 non-null  object \n",
            " 4   na_sales         16715 non-null  float64\n",
            " 5   eu_sales         16715 non-null  float64\n",
            " 6   jp_sales         16715 non-null  float64\n",
            " 7   other_sales      16715 non-null  float64\n",
            " 8   critic_score     8137 non-null   float64\n",
            " 9   user_score       7590 non-null   float32\n",
            " 10  rating           9949 non-null   object \n",
            "dtypes: Int64(1), float32(1), float64(5), object(4)\n",
            "memory usage: 1.4+ MB\n"
          ]
        }
      ],
      "source": [
        "# проверяем изменение типа.\n",
        "games.info()"
      ]
    },
    {
      "cell_type": "code",
      "execution_count": null,
      "metadata": {
        "colab": {
          "base_uri": "https://localhost:8080/"
        },
        "id": "S_YceN3e78o2",
        "outputId": "c207cf0a-c7f1-46fd-91cc-9a1a6f1668d5"
      },
      "outputs": [
        {
          "data": {
            "text/plain": [
              "name                  2\n",
              "platform              0\n",
              "year_of_release     269\n",
              "genre                 2\n",
              "na_sales              0\n",
              "eu_sales              0\n",
              "jp_sales              0\n",
              "other_sales           0\n",
              "critic_score       8578\n",
              "user_score         9125\n",
              "rating             6766\n",
              "dtype: int64"
            ]
          },
          "execution_count": 16,
          "metadata": {},
          "output_type": "execute_result"
        }
      ],
      "source": [
        "# определяем пропуски в столбцах\n",
        "games.isna().sum()"
      ]
    },
    {
      "cell_type": "code",
      "execution_count": null,
      "metadata": {
        "id": "vpV74JKyV8wa"
      },
      "outputs": [],
      "source": [
        "# Удаляем строки с NaN в столбцах name, year_of_release, genre.\n",
        "games = games.dropna(subset=['name','year_of_release', 'genre'])"
      ]
    },
    {
      "cell_type": "code",
      "execution_count": null,
      "metadata": {
        "colab": {
          "base_uri": "https://localhost:8080/"
        },
        "id": "XXnvOJwlXalT",
        "outputId": "83f606aa-8491-4f22-ed36-e1585edee8f3"
      },
      "outputs": [
        {
          "data": {
            "text/plain": [
              "name                  0\n",
              "platform              0\n",
              "year_of_release       0\n",
              "genre                 0\n",
              "na_sales              0\n",
              "eu_sales              0\n",
              "jp_sales              0\n",
              "other_sales           0\n",
              "critic_score       8461\n",
              "user_score         8981\n",
              "rating             6676\n",
              "dtype: int64"
            ]
          },
          "execution_count": 18,
          "metadata": {},
          "output_type": "execute_result"
        }
      ],
      "source": [
        "# определяем пропускм в столбцах после удаления\n",
        "games.isna().sum()"
      ]
    },
    {
      "cell_type": "code",
      "execution_count": null,
      "metadata": {
        "colab": {
          "base_uri": "https://localhost:8080/",
          "height": 363
        },
        "id": "WUcekecKVzyp",
        "outputId": "6f87ed67-20d3-4bd0-e69e-e0e25b6a6a10"
      },
      "outputs": [
        {
          "data": {
            "text/html": [
              "<div>\n",
              "<style scoped>\n",
              "    .dataframe tbody tr th:only-of-type {\n",
              "        vertical-align: middle;\n",
              "    }\n",
              "\n",
              "    .dataframe tbody tr th {\n",
              "        vertical-align: top;\n",
              "    }\n",
              "\n",
              "    .dataframe thead th {\n",
              "        text-align: right;\n",
              "    }\n",
              "</style>\n",
              "<table border=\"1\" class=\"dataframe\">\n",
              "  <thead>\n",
              "    <tr style=\"text-align: right;\">\n",
              "      <th></th>\n",
              "      <th>name</th>\n",
              "      <th>platform</th>\n",
              "      <th>year_of_release</th>\n",
              "      <th>genre</th>\n",
              "      <th>na_sales</th>\n",
              "      <th>eu_sales</th>\n",
              "      <th>jp_sales</th>\n",
              "      <th>other_sales</th>\n",
              "      <th>critic_score</th>\n",
              "      <th>user_score</th>\n",
              "      <th>rating</th>\n",
              "      <th>total_sales</th>\n",
              "    </tr>\n",
              "  </thead>\n",
              "  <tbody>\n",
              "    <tr>\n",
              "      <th>0</th>\n",
              "      <td>wii sports</td>\n",
              "      <td>wii</td>\n",
              "      <td>2006</td>\n",
              "      <td>sports</td>\n",
              "      <td>41.36</td>\n",
              "      <td>28.96</td>\n",
              "      <td>3.77</td>\n",
              "      <td>8.45</td>\n",
              "      <td>76.0</td>\n",
              "      <td>8.0</td>\n",
              "      <td>e</td>\n",
              "      <td>82.54</td>\n",
              "    </tr>\n",
              "    <tr>\n",
              "      <th>1</th>\n",
              "      <td>super mario bros.</td>\n",
              "      <td>nes</td>\n",
              "      <td>1985</td>\n",
              "      <td>platform</td>\n",
              "      <td>29.08</td>\n",
              "      <td>3.58</td>\n",
              "      <td>6.81</td>\n",
              "      <td>0.77</td>\n",
              "      <td>NaN</td>\n",
              "      <td>NaN</td>\n",
              "      <td>NaN</td>\n",
              "      <td>40.24</td>\n",
              "    </tr>\n",
              "    <tr>\n",
              "      <th>2</th>\n",
              "      <td>mario kart wii</td>\n",
              "      <td>wii</td>\n",
              "      <td>2008</td>\n",
              "      <td>racing</td>\n",
              "      <td>15.68</td>\n",
              "      <td>12.76</td>\n",
              "      <td>3.79</td>\n",
              "      <td>3.29</td>\n",
              "      <td>82.0</td>\n",
              "      <td>8.3</td>\n",
              "      <td>e</td>\n",
              "      <td>35.52</td>\n",
              "    </tr>\n",
              "    <tr>\n",
              "      <th>3</th>\n",
              "      <td>wii sports resort</td>\n",
              "      <td>wii</td>\n",
              "      <td>2009</td>\n",
              "      <td>sports</td>\n",
              "      <td>15.61</td>\n",
              "      <td>10.93</td>\n",
              "      <td>3.28</td>\n",
              "      <td>2.95</td>\n",
              "      <td>80.0</td>\n",
              "      <td>8.0</td>\n",
              "      <td>e</td>\n",
              "      <td>32.77</td>\n",
              "    </tr>\n",
              "    <tr>\n",
              "      <th>4</th>\n",
              "      <td>pokemon red/pokemon blue</td>\n",
              "      <td>gb</td>\n",
              "      <td>1996</td>\n",
              "      <td>role-playing</td>\n",
              "      <td>11.27</td>\n",
              "      <td>8.89</td>\n",
              "      <td>10.22</td>\n",
              "      <td>1.00</td>\n",
              "      <td>NaN</td>\n",
              "      <td>NaN</td>\n",
              "      <td>NaN</td>\n",
              "      <td>31.38</td>\n",
              "    </tr>\n",
              "    <tr>\n",
              "      <th>5</th>\n",
              "      <td>tetris</td>\n",
              "      <td>gb</td>\n",
              "      <td>1989</td>\n",
              "      <td>puzzle</td>\n",
              "      <td>23.20</td>\n",
              "      <td>2.26</td>\n",
              "      <td>4.22</td>\n",
              "      <td>0.58</td>\n",
              "      <td>NaN</td>\n",
              "      <td>NaN</td>\n",
              "      <td>NaN</td>\n",
              "      <td>30.26</td>\n",
              "    </tr>\n",
              "    <tr>\n",
              "      <th>6</th>\n",
              "      <td>new super mario bros.</td>\n",
              "      <td>ds</td>\n",
              "      <td>2006</td>\n",
              "      <td>platform</td>\n",
              "      <td>11.28</td>\n",
              "      <td>9.14</td>\n",
              "      <td>6.50</td>\n",
              "      <td>2.88</td>\n",
              "      <td>89.0</td>\n",
              "      <td>8.5</td>\n",
              "      <td>e</td>\n",
              "      <td>29.80</td>\n",
              "    </tr>\n",
              "    <tr>\n",
              "      <th>7</th>\n",
              "      <td>wii play</td>\n",
              "      <td>wii</td>\n",
              "      <td>2006</td>\n",
              "      <td>misc</td>\n",
              "      <td>13.96</td>\n",
              "      <td>9.18</td>\n",
              "      <td>2.93</td>\n",
              "      <td>2.84</td>\n",
              "      <td>58.0</td>\n",
              "      <td>6.6</td>\n",
              "      <td>e</td>\n",
              "      <td>28.91</td>\n",
              "    </tr>\n",
              "    <tr>\n",
              "      <th>8</th>\n",
              "      <td>new super mario bros. wii</td>\n",
              "      <td>wii</td>\n",
              "      <td>2009</td>\n",
              "      <td>platform</td>\n",
              "      <td>14.44</td>\n",
              "      <td>6.94</td>\n",
              "      <td>4.70</td>\n",
              "      <td>2.24</td>\n",
              "      <td>87.0</td>\n",
              "      <td>8.4</td>\n",
              "      <td>e</td>\n",
              "      <td>28.32</td>\n",
              "    </tr>\n",
              "    <tr>\n",
              "      <th>9</th>\n",
              "      <td>duck hunt</td>\n",
              "      <td>nes</td>\n",
              "      <td>1984</td>\n",
              "      <td>shooter</td>\n",
              "      <td>26.93</td>\n",
              "      <td>0.63</td>\n",
              "      <td>0.28</td>\n",
              "      <td>0.47</td>\n",
              "      <td>NaN</td>\n",
              "      <td>NaN</td>\n",
              "      <td>NaN</td>\n",
              "      <td>28.31</td>\n",
              "    </tr>\n",
              "  </tbody>\n",
              "</table>\n",
              "</div>"
            ],
            "text/plain": [
              "                        name platform  year_of_release         genre  \\\n",
              "0                 wii sports      wii             2006        sports   \n",
              "1          super mario bros.      nes             1985      platform   \n",
              "2             mario kart wii      wii             2008        racing   \n",
              "3          wii sports resort      wii             2009        sports   \n",
              "4   pokemon red/pokemon blue       gb             1996  role-playing   \n",
              "5                     tetris       gb             1989        puzzle   \n",
              "6      new super mario bros.       ds             2006      platform   \n",
              "7                   wii play      wii             2006          misc   \n",
              "8  new super mario bros. wii      wii             2009      platform   \n",
              "9                  duck hunt      nes             1984       shooter   \n",
              "\n",
              "   na_sales  eu_sales  jp_sales  other_sales  critic_score  user_score rating  \\\n",
              "0     41.36     28.96      3.77         8.45          76.0         8.0      e   \n",
              "1     29.08      3.58      6.81         0.77           NaN         NaN    NaN   \n",
              "2     15.68     12.76      3.79         3.29          82.0         8.3      e   \n",
              "3     15.61     10.93      3.28         2.95          80.0         8.0      e   \n",
              "4     11.27      8.89     10.22         1.00           NaN         NaN    NaN   \n",
              "5     23.20      2.26      4.22         0.58           NaN         NaN    NaN   \n",
              "6     11.28      9.14      6.50         2.88          89.0         8.5      e   \n",
              "7     13.96      9.18      2.93         2.84          58.0         6.6      e   \n",
              "8     14.44      6.94      4.70         2.24          87.0         8.4      e   \n",
              "9     26.93      0.63      0.28         0.47           NaN         NaN    NaN   \n",
              "\n",
              "   total_sales  \n",
              "0        82.54  \n",
              "1        40.24  \n",
              "2        35.52  \n",
              "3        32.77  \n",
              "4        31.38  \n",
              "5        30.26  \n",
              "6        29.80  \n",
              "7        28.91  \n",
              "8        28.32  \n",
              "9        28.31  "
            ]
          },
          "execution_count": 19,
          "metadata": {},
          "output_type": "execute_result"
        }
      ],
      "source": [
        "# посчитаем суммарные продажи во всех регионах и запишим их в отдельный столбец. Проверим вызовом метода head()\n",
        "#df[['column_1','column_2','column_3', 'column_4']].sum(axis = 1)\n",
        "games['total_sales'] = games[['na_sales', 'eu_sales', 'jp_sales', 'other_sales']].sum(axis = 1)\n",
        "games.head(10)"
      ]
    },
    {
      "cell_type": "code",
      "execution_count": null,
      "metadata": {
        "colab": {
          "base_uri": "https://localhost:8080/"
        },
        "id": "rPtsxEJ4aV2H",
        "outputId": "7c513048-47d6-4428-d4a9-395802952d91"
      },
      "outputs": [
        {
          "data": {
            "text/plain": [
              "(16444, 12)"
            ]
          },
          "execution_count": 20,
          "metadata": {},
          "output_type": "execute_result"
        }
      ],
      "source": [
        "# проверяем размер датасета после преобразований.\n",
        "games.shape"
      ]
    },
    {
      "cell_type": "markdown",
      "metadata": {
        "id": "i2WINJ7aebzX"
      },
      "source": [
        "#### Вывод.\n",
        "* изначальное количество строк в датасете - 16715, после преобразований - 16444. Уменьшилось на 271 строку за счет удаления пропусков в столбцах - 'year_of_release', 'name' и 'genre';\n",
        "* приведен в нужный тип данных int столбец  'year_of_release', поскольку год должен быть целым числом;\n",
        "* посчитаны суммарные продажи и записаны в отдельный столбец 'total_sales'."
      ]
    },
    {
      "cell_type": "markdown",
      "metadata": {
        "id": "A5IdKPie_g3l"
      },
      "source": [
        "### ШАГ 3. Проводим исследовательский анализ данных."
      ]
    },
    {
      "cell_type": "markdown",
      "metadata": {
        "id": "0pwjD9w5wvOF"
      },
      "source": [
        "#### Уточняем сколько игр выпускалось в разные годы."
      ]
    },
    {
      "cell_type": "code",
      "execution_count": null,
      "metadata": {
        "colab": {
          "base_uri": "https://localhost:8080/"
        },
        "id": "pBb7cK5HAUVn",
        "outputId": "c3c70bb0-50cf-4160-f9c5-b0b0aac59bf5",
        "scrolled": true
      },
      "outputs": [
        {
          "data": {
            "text/plain": [
              "2008    1427\n",
              "2009    1426\n",
              "2010    1255\n",
              "2007    1197\n",
              "2011    1136\n",
              "2006    1006\n",
              "2005     939\n",
              "2002     829\n",
              "2003     775\n",
              "2004     762\n",
              "2012     653\n",
              "2015     606\n",
              "2014     581\n",
              "2013     544\n",
              "2016     502\n",
              "2001     482\n",
              "1998     379\n",
              "2000     350\n",
              "1999     338\n",
              "1997     289\n",
              "1996     263\n",
              "1995     219\n",
              "1994     121\n",
              "1993      60\n",
              "1981      46\n",
              "1992      43\n",
              "1991      41\n",
              "1982      36\n",
              "1986      21\n",
              "1983      17\n",
              "1989      17\n",
              "1990      16\n",
              "1987      16\n",
              "1988      15\n",
              "1985      14\n",
              "1984      14\n",
              "1980       9\n",
              "Name: year_of_release, dtype: Int64"
            ]
          },
          "execution_count": 21,
          "metadata": {},
          "output_type": "execute_result"
        }
      ],
      "source": [
        "# применяем метод value_counts() для расчета количества игр в разрезе годов.\n",
        "games['year_of_release'].value_counts()"
      ]
    },
    {
      "cell_type": "code",
      "execution_count": null,
      "metadata": {
        "colab": {
          "base_uri": "https://localhost:8080/",
          "height": 503
        },
        "id": "ZD-r5KPXyWBa",
        "outputId": "a2d36549-627a-4524-a29b-c4ed1414929b"
      },
      "outputs": [
        {
          "data": {
            "image/png": "[encoded data removed]",
            "text/plain": [
              "<Figure size 864x576 with 2 Axes>"
            ]
          },
          "metadata": {},
          "output_type": "display_data"
        }
      ],
      "source": [
        "# выводим столбчатую гистограмму в двух разрезах.\n",
        "fig, axes = plt.subplots(2, 1, figsize=(12, 8))\n",
        "\n",
        "games['year_of_release'].value_counts().sort_index().plot.bar(\n",
        "    ax=axes[0]\n",
        ")\n",
        "\n",
        "games['year_of_release'].value_counts().head(20).plot.bar(\n",
        "    ax=axes[1]\n",
        ");"
      ]
    },
    {
      "cell_type": "markdown",
      "metadata": {
        "id": "1luBEd6yzGEl"
      },
      "source": [
        "##### На гистограмме видно, что с 1980 года по 1990 год количество продаж было относительно малым, с 1991 год наблюдался рост вплоть до 2008-2009 года, затем количество продаж пошло на убыль до 2016 года. "
      ]
    },
    {
      "cell_type": "code",
      "execution_count": null,
      "metadata": {
        "colab": {
          "base_uri": "https://localhost:8080/",
          "height": 1000
        },
        "id": "9bayNeRl0GKr",
        "outputId": "96d931eb-9c83-4ebb-db96-3a47db0db9fb"
      },
      "outputs": [
        {
          "data": {
            "text/html": [
              "<div>\n",
              "<style scoped>\n",
              "    .dataframe tbody tr th:only-of-type {\n",
              "        vertical-align: middle;\n",
              "    }\n",
              "\n",
              "    .dataframe tbody tr th {\n",
              "        vertical-align: top;\n",
              "    }\n",
              "\n",
              "    .dataframe thead tr th {\n",
              "        text-align: left;\n",
              "    }\n",
              "\n",
              "    .dataframe thead tr:last-of-type th {\n",
              "        text-align: right;\n",
              "    }\n",
              "</style>\n",
              "<table border=\"1\" class=\"dataframe\">\n",
              "  <thead>\n",
              "    <tr>\n",
              "      <th></th>\n",
              "      <th colspan=\"21\" halign=\"left\">total_sales</th>\n",
              "    </tr>\n",
              "    <tr>\n",
              "      <th>year_of_release</th>\n",
              "      <th>1980</th>\n",
              "      <th>1981</th>\n",
              "      <th>1982</th>\n",
              "      <th>1983</th>\n",
              "      <th>1984</th>\n",
              "      <th>1985</th>\n",
              "      <th>1986</th>\n",
              "      <th>1987</th>\n",
              "      <th>1988</th>\n",
              "      <th>1989</th>\n",
              "      <th>...</th>\n",
              "      <th>2008</th>\n",
              "      <th>2009</th>\n",
              "      <th>2010</th>\n",
              "      <th>2011</th>\n",
              "      <th>2012</th>\n",
              "      <th>2013</th>\n",
              "      <th>2014</th>\n",
              "      <th>2015</th>\n",
              "      <th>2016</th>\n",
              "      <th>All</th>\n",
              "    </tr>\n",
              "    <tr>\n",
              "      <th>platform</th>\n",
              "      <th></th>\n",
              "      <th></th>\n",
              "      <th></th>\n",
              "      <th></th>\n",
              "      <th></th>\n",
              "      <th></th>\n",
              "      <th></th>\n",
              "      <th></th>\n",
              "      <th></th>\n",
              "      <th></th>\n",
              "      <th></th>\n",
              "      <th></th>\n",
              "      <th></th>\n",
              "      <th></th>\n",
              "      <th></th>\n",
              "      <th></th>\n",
              "      <th></th>\n",
              "      <th></th>\n",
              "      <th></th>\n",
              "      <th></th>\n",
              "      <th></th>\n",
              "    </tr>\n",
              "  </thead>\n",
              "  <tbody>\n",
              "    <tr>\n",
              "      <th>2600</th>\n",
              "      <td>11.38</td>\n",
              "      <td>35.68</td>\n",
              "      <td>28.88</td>\n",
              "      <td>5.84</td>\n",
              "      <td>0.27</td>\n",
              "      <td>0.45</td>\n",
              "      <td>0.67</td>\n",
              "      <td>1.94</td>\n",
              "      <td>0.74</td>\n",
              "      <td>0.63</td>\n",
              "      <td>...</td>\n",
              "      <td>0.00</td>\n",
              "      <td>0.00</td>\n",
              "      <td>0.00</td>\n",
              "      <td>0.00</td>\n",
              "      <td>0.00</td>\n",
              "      <td>0.00</td>\n",
              "      <td>0.00</td>\n",
              "      <td>0.00</td>\n",
              "      <td>0.00</td>\n",
              "      <td>86.48</td>\n",
              "    </tr>\n",
              "    <tr>\n",
              "      <th>3do</th>\n",
              "      <td>0.00</td>\n",
              "      <td>0.00</td>\n",
              "      <td>0.00</td>\n",
              "      <td>0.00</td>\n",
              "      <td>0.00</td>\n",
              "      <td>0.00</td>\n",
              "      <td>0.00</td>\n",
              "      <td>0.00</td>\n",
              "      <td>0.00</td>\n",
              "      <td>0.00</td>\n",
              "      <td>...</td>\n",
              "      <td>0.00</td>\n",
              "      <td>0.00</td>\n",
              "      <td>0.00</td>\n",
              "      <td>0.00</td>\n",
              "      <td>0.00</td>\n",
              "      <td>0.00</td>\n",
              "      <td>0.00</td>\n",
              "      <td>0.00</td>\n",
              "      <td>0.00</td>\n",
              "      <td>0.10</td>\n",
              "    </tr>\n",
              "    <tr>\n",
              "      <th>3ds</th>\n",
              "      <td>0.00</td>\n",
              "      <td>0.00</td>\n",
              "      <td>0.00</td>\n",
              "      <td>0.00</td>\n",
              "      <td>0.00</td>\n",
              "      <td>0.00</td>\n",
              "      <td>0.00</td>\n",
              "      <td>0.00</td>\n",
              "      <td>0.00</td>\n",
              "      <td>0.00</td>\n",
              "      <td>...</td>\n",
              "      <td>0.00</td>\n",
              "      <td>0.00</td>\n",
              "      <td>0.00</td>\n",
              "      <td>63.20</td>\n",
              "      <td>51.36</td>\n",
              "      <td>56.57</td>\n",
              "      <td>43.76</td>\n",
              "      <td>27.78</td>\n",
              "      <td>15.14</td>\n",
              "      <td>257.81</td>\n",
              "    </tr>\n",
              "    <tr>\n",
              "      <th>dc</th>\n",
              "      <td>0.00</td>\n",
              "      <td>0.00</td>\n",
              "      <td>0.00</td>\n",
              "      <td>0.00</td>\n",
              "      <td>0.00</td>\n",
              "      <td>0.00</td>\n",
              "      <td>0.00</td>\n",
              "      <td>0.00</td>\n",
              "      <td>0.00</td>\n",
              "      <td>0.00</td>\n",
              "      <td>...</td>\n",
              "      <td>0.04</td>\n",
              "      <td>0.00</td>\n",
              "      <td>0.00</td>\n",
              "      <td>0.00</td>\n",
              "      <td>0.00</td>\n",
              "      <td>0.00</td>\n",
              "      <td>0.00</td>\n",
              "      <td>0.00</td>\n",
              "      <td>0.00</td>\n",
              "      <td>15.95</td>\n",
              "    </tr>\n",
              "    <tr>\n",
              "      <th>ds</th>\n",
              "      <td>0.00</td>\n",
              "      <td>0.00</td>\n",
              "      <td>0.00</td>\n",
              "      <td>0.00</td>\n",
              "      <td>0.00</td>\n",
              "      <td>0.02</td>\n",
              "      <td>0.00</td>\n",
              "      <td>0.00</td>\n",
              "      <td>0.00</td>\n",
              "      <td>0.00</td>\n",
              "      <td>...</td>\n",
              "      <td>145.31</td>\n",
              "      <td>119.54</td>\n",
              "      <td>85.02</td>\n",
              "      <td>26.18</td>\n",
              "      <td>11.01</td>\n",
              "      <td>1.54</td>\n",
              "      <td>0.00</td>\n",
              "      <td>0.00</td>\n",
              "      <td>0.00</td>\n",
              "      <td>802.78</td>\n",
              "    </tr>\n",
              "    <tr>\n",
              "      <th>gb</th>\n",
              "      <td>0.00</td>\n",
              "      <td>0.00</td>\n",
              "      <td>0.00</td>\n",
              "      <td>0.00</td>\n",
              "      <td>0.00</td>\n",
              "      <td>0.00</td>\n",
              "      <td>0.00</td>\n",
              "      <td>0.00</td>\n",
              "      <td>1.43</td>\n",
              "      <td>64.97</td>\n",
              "      <td>...</td>\n",
              "      <td>0.00</td>\n",
              "      <td>0.00</td>\n",
              "      <td>0.00</td>\n",
              "      <td>0.00</td>\n",
              "      <td>0.00</td>\n",
              "      <td>0.00</td>\n",
              "      <td>0.00</td>\n",
              "      <td>0.00</td>\n",
              "      <td>0.00</td>\n",
              "      <td>254.43</td>\n",
              "    </tr>\n",
              "    <tr>\n",
              "      <th>gba</th>\n",
              "      <td>0.00</td>\n",
              "      <td>0.00</td>\n",
              "      <td>0.00</td>\n",
              "      <td>0.00</td>\n",
              "      <td>0.00</td>\n",
              "      <td>0.00</td>\n",
              "      <td>0.00</td>\n",
              "      <td>0.00</td>\n",
              "      <td>0.00</td>\n",
              "      <td>0.00</td>\n",
              "      <td>...</td>\n",
              "      <td>0.00</td>\n",
              "      <td>0.00</td>\n",
              "      <td>0.00</td>\n",
              "      <td>0.00</td>\n",
              "      <td>0.00</td>\n",
              "      <td>0.00</td>\n",
              "      <td>0.00</td>\n",
              "      <td>0.00</td>\n",
              "      <td>0.00</td>\n",
              "      <td>312.88</td>\n",
              "    </tr>\n",
              "    <tr>\n",
              "      <th>gc</th>\n",
              "      <td>0.00</td>\n",
              "      <td>0.00</td>\n",
              "      <td>0.00</td>\n",
              "      <td>0.00</td>\n",
              "      <td>0.00</td>\n",
              "      <td>0.00</td>\n",
              "      <td>0.00</td>\n",
              "      <td>0.00</td>\n",
              "      <td>0.00</td>\n",
              "      <td>0.00</td>\n",
              "      <td>...</td>\n",
              "      <td>0.00</td>\n",
              "      <td>0.00</td>\n",
              "      <td>0.00</td>\n",
              "      <td>0.00</td>\n",
              "      <td>0.00</td>\n",
              "      <td>0.00</td>\n",
              "      <td>0.00</td>\n",
              "      <td>0.00</td>\n",
              "      <td>0.00</td>\n",
              "      <td>196.73</td>\n",
              "    </tr>\n",
              "    <tr>\n",
              "      <th>gen</th>\n",
              "      <td>0.00</td>\n",
              "      <td>0.00</td>\n",
              "      <td>0.00</td>\n",
              "      <td>0.00</td>\n",
              "      <td>0.00</td>\n",
              "      <td>0.00</td>\n",
              "      <td>0.00</td>\n",
              "      <td>0.00</td>\n",
              "      <td>0.00</td>\n",
              "      <td>0.00</td>\n",
              "      <td>...</td>\n",
              "      <td>0.00</td>\n",
              "      <td>0.00</td>\n",
              "      <td>0.00</td>\n",
              "      <td>0.00</td>\n",
              "      <td>0.00</td>\n",
              "      <td>0.00</td>\n",
              "      <td>0.00</td>\n",
              "      <td>0.00</td>\n",
              "      <td>0.00</td>\n",
              "      <td>28.35</td>\n",
              "    </tr>\n",
              "    <tr>\n",
              "      <th>gg</th>\n",
              "      <td>0.00</td>\n",
              "      <td>0.00</td>\n",
              "      <td>0.00</td>\n",
              "      <td>0.00</td>\n",
              "      <td>0.00</td>\n",
              "      <td>0.00</td>\n",
              "      <td>0.00</td>\n",
              "      <td>0.00</td>\n",
              "      <td>0.00</td>\n",
              "      <td>0.00</td>\n",
              "      <td>...</td>\n",
              "      <td>0.00</td>\n",
              "      <td>0.00</td>\n",
              "      <td>0.00</td>\n",
              "      <td>0.00</td>\n",
              "      <td>0.00</td>\n",
              "      <td>0.00</td>\n",
              "      <td>0.00</td>\n",
              "      <td>0.00</td>\n",
              "      <td>0.00</td>\n",
              "      <td>0.04</td>\n",
              "    </tr>\n",
              "    <tr>\n",
              "      <th>n64</th>\n",
              "      <td>0.00</td>\n",
              "      <td>0.00</td>\n",
              "      <td>0.00</td>\n",
              "      <td>0.00</td>\n",
              "      <td>0.00</td>\n",
              "      <td>0.00</td>\n",
              "      <td>0.00</td>\n",
              "      <td>0.00</td>\n",
              "      <td>0.00</td>\n",
              "      <td>0.00</td>\n",
              "      <td>...</td>\n",
              "      <td>0.00</td>\n",
              "      <td>0.00</td>\n",
              "      <td>0.00</td>\n",
              "      <td>0.00</td>\n",
              "      <td>0.00</td>\n",
              "      <td>0.00</td>\n",
              "      <td>0.00</td>\n",
              "      <td>0.00</td>\n",
              "      <td>0.00</td>\n",
              "      <td>218.01</td>\n",
              "    </tr>\n",
              "    <tr>\n",
              "      <th>nes</th>\n",
              "      <td>0.00</td>\n",
              "      <td>0.00</td>\n",
              "      <td>0.00</td>\n",
              "      <td>10.96</td>\n",
              "      <td>50.08</td>\n",
              "      <td>53.44</td>\n",
              "      <td>36.41</td>\n",
              "      <td>19.76</td>\n",
              "      <td>45.01</td>\n",
              "      <td>7.85</td>\n",
              "      <td>...</td>\n",
              "      <td>0.00</td>\n",
              "      <td>0.00</td>\n",
              "      <td>0.00</td>\n",
              "      <td>0.00</td>\n",
              "      <td>0.00</td>\n",
              "      <td>0.00</td>\n",
              "      <td>0.00</td>\n",
              "      <td>0.00</td>\n",
              "      <td>0.00</td>\n",
              "      <td>251.05</td>\n",
              "    </tr>\n",
              "    <tr>\n",
              "      <th>ng</th>\n",
              "      <td>0.00</td>\n",
              "      <td>0.00</td>\n",
              "      <td>0.00</td>\n",
              "      <td>0.00</td>\n",
              "      <td>0.00</td>\n",
              "      <td>0.00</td>\n",
              "      <td>0.00</td>\n",
              "      <td>0.00</td>\n",
              "      <td>0.00</td>\n",
              "      <td>0.00</td>\n",
              "      <td>...</td>\n",
              "      <td>0.00</td>\n",
              "      <td>0.00</td>\n",
              "      <td>0.00</td>\n",
              "      <td>0.00</td>\n",
              "      <td>0.00</td>\n",
              "      <td>0.00</td>\n",
              "      <td>0.00</td>\n",
              "      <td>0.00</td>\n",
              "      <td>0.00</td>\n",
              "      <td>1.44</td>\n",
              "    </tr>\n",
              "    <tr>\n",
              "      <th>pc</th>\n",
              "      <td>0.00</td>\n",
              "      <td>0.00</td>\n",
              "      <td>0.00</td>\n",
              "      <td>0.00</td>\n",
              "      <td>0.00</td>\n",
              "      <td>0.04</td>\n",
              "      <td>0.00</td>\n",
              "      <td>0.00</td>\n",
              "      <td>0.03</td>\n",
              "      <td>0.00</td>\n",
              "      <td>...</td>\n",
              "      <td>12.42</td>\n",
              "      <td>16.91</td>\n",
              "      <td>24.28</td>\n",
              "      <td>35.03</td>\n",
              "      <td>23.22</td>\n",
              "      <td>12.38</td>\n",
              "      <td>13.28</td>\n",
              "      <td>8.52</td>\n",
              "      <td>5.25</td>\n",
              "      <td>255.76</td>\n",
              "    </tr>\n",
              "    <tr>\n",
              "      <th>pcfx</th>\n",
              "      <td>0.00</td>\n",
              "      <td>0.00</td>\n",
              "      <td>0.00</td>\n",
              "      <td>0.00</td>\n",
              "      <td>0.00</td>\n",
              "      <td>0.00</td>\n",
              "      <td>0.00</td>\n",
              "      <td>0.00</td>\n",
              "      <td>0.00</td>\n",
              "      <td>0.00</td>\n",
              "      <td>...</td>\n",
              "      <td>0.00</td>\n",
              "      <td>0.00</td>\n",
              "      <td>0.00</td>\n",
              "      <td>0.00</td>\n",
              "      <td>0.00</td>\n",
              "      <td>0.00</td>\n",
              "      <td>0.00</td>\n",
              "      <td>0.00</td>\n",
              "      <td>0.00</td>\n",
              "      <td>0.03</td>\n",
              "    </tr>\n",
              "    <tr>\n",
              "      <th>ps</th>\n",
              "      <td>0.00</td>\n",
              "      <td>0.00</td>\n",
              "      <td>0.00</td>\n",
              "      <td>0.00</td>\n",
              "      <td>0.00</td>\n",
              "      <td>0.00</td>\n",
              "      <td>0.00</td>\n",
              "      <td>0.00</td>\n",
              "      <td>0.00</td>\n",
              "      <td>0.00</td>\n",
              "      <td>...</td>\n",
              "      <td>0.00</td>\n",
              "      <td>0.00</td>\n",
              "      <td>0.00</td>\n",
              "      <td>0.00</td>\n",
              "      <td>0.00</td>\n",
              "      <td>0.00</td>\n",
              "      <td>0.00</td>\n",
              "      <td>0.00</td>\n",
              "      <td>0.00</td>\n",
              "      <td>727.58</td>\n",
              "    </tr>\n",
              "    <tr>\n",
              "      <th>ps2</th>\n",
              "      <td>0.00</td>\n",
              "      <td>0.00</td>\n",
              "      <td>0.00</td>\n",
              "      <td>0.00</td>\n",
              "      <td>0.00</td>\n",
              "      <td>0.00</td>\n",
              "      <td>0.00</td>\n",
              "      <td>0.00</td>\n",
              "      <td>0.00</td>\n",
              "      <td>0.00</td>\n",
              "      <td>...</td>\n",
              "      <td>53.90</td>\n",
              "      <td>26.40</td>\n",
              "      <td>5.64</td>\n",
              "      <td>0.45</td>\n",
              "      <td>0.00</td>\n",
              "      <td>0.00</td>\n",
              "      <td>0.00</td>\n",
              "      <td>0.00</td>\n",
              "      <td>0.00</td>\n",
              "      <td>1233.56</td>\n",
              "    </tr>\n",
              "    <tr>\n",
              "      <th>ps3</th>\n",
              "      <td>0.00</td>\n",
              "      <td>0.00</td>\n",
              "      <td>0.00</td>\n",
              "      <td>0.00</td>\n",
              "      <td>0.00</td>\n",
              "      <td>0.00</td>\n",
              "      <td>0.00</td>\n",
              "      <td>0.00</td>\n",
              "      <td>0.00</td>\n",
              "      <td>0.00</td>\n",
              "      <td>...</td>\n",
              "      <td>118.52</td>\n",
              "      <td>130.93</td>\n",
              "      <td>142.17</td>\n",
              "      <td>156.78</td>\n",
              "      <td>107.36</td>\n",
              "      <td>113.25</td>\n",
              "      <td>47.76</td>\n",
              "      <td>16.82</td>\n",
              "      <td>3.60</td>\n",
              "      <td>931.34</td>\n",
              "    </tr>\n",
              "    <tr>\n",
              "      <th>ps4</th>\n",
              "      <td>0.00</td>\n",
              "      <td>0.00</td>\n",
              "      <td>0.00</td>\n",
              "      <td>0.00</td>\n",
              "      <td>0.00</td>\n",
              "      <td>0.00</td>\n",
              "      <td>0.00</td>\n",
              "      <td>0.00</td>\n",
              "      <td>0.00</td>\n",
              "      <td>0.00</td>\n",
              "      <td>...</td>\n",
              "      <td>0.00</td>\n",
              "      <td>0.00</td>\n",
              "      <td>0.00</td>\n",
              "      <td>0.00</td>\n",
              "      <td>0.00</td>\n",
              "      <td>25.99</td>\n",
              "      <td>100.00</td>\n",
              "      <td>118.90</td>\n",
              "      <td>69.25</td>\n",
              "      <td>314.14</td>\n",
              "    </tr>\n",
              "    <tr>\n",
              "      <th>psp</th>\n",
              "      <td>0.00</td>\n",
              "      <td>0.00</td>\n",
              "      <td>0.00</td>\n",
              "      <td>0.00</td>\n",
              "      <td>0.00</td>\n",
              "      <td>0.00</td>\n",
              "      <td>0.00</td>\n",
              "      <td>0.00</td>\n",
              "      <td>0.00</td>\n",
              "      <td>0.00</td>\n",
              "      <td>...</td>\n",
              "      <td>34.55</td>\n",
              "      <td>37.78</td>\n",
              "      <td>35.04</td>\n",
              "      <td>17.82</td>\n",
              "      <td>7.69</td>\n",
              "      <td>3.14</td>\n",
              "      <td>0.24</td>\n",
              "      <td>0.12</td>\n",
              "      <td>0.00</td>\n",
              "      <td>289.53</td>\n",
              "    </tr>\n",
              "    <tr>\n",
              "      <th>psv</th>\n",
              "      <td>0.00</td>\n",
              "      <td>0.00</td>\n",
              "      <td>0.00</td>\n",
              "      <td>0.00</td>\n",
              "      <td>0.00</td>\n",
              "      <td>0.00</td>\n",
              "      <td>0.00</td>\n",
              "      <td>0.00</td>\n",
              "      <td>0.00</td>\n",
              "      <td>0.00</td>\n",
              "      <td>...</td>\n",
              "      <td>0.00</td>\n",
              "      <td>0.00</td>\n",
              "      <td>0.00</td>\n",
              "      <td>4.63</td>\n",
              "      <td>16.19</td>\n",
              "      <td>10.59</td>\n",
              "      <td>11.90</td>\n",
              "      <td>6.25</td>\n",
              "      <td>4.25</td>\n",
              "      <td>53.81</td>\n",
              "    </tr>\n",
              "    <tr>\n",
              "      <th>sat</th>\n",
              "      <td>0.00</td>\n",
              "      <td>0.00</td>\n",
              "      <td>0.00</td>\n",
              "      <td>0.00</td>\n",
              "      <td>0.00</td>\n",
              "      <td>0.00</td>\n",
              "      <td>0.00</td>\n",
              "      <td>0.00</td>\n",
              "      <td>0.00</td>\n",
              "      <td>0.00</td>\n",
              "      <td>...</td>\n",
              "      <td>0.00</td>\n",
              "      <td>0.00</td>\n",
              "      <td>0.00</td>\n",
              "      <td>0.00</td>\n",
              "      <td>0.00</td>\n",
              "      <td>0.00</td>\n",
              "      <td>0.00</td>\n",
              "      <td>0.00</td>\n",
              "      <td>0.00</td>\n",
              "      <td>33.59</td>\n",
              "    </tr>\n",
              "    <tr>\n",
              "      <th>scd</th>\n",
              "      <td>0.00</td>\n",
              "      <td>0.00</td>\n",
              "      <td>0.00</td>\n",
              "      <td>0.00</td>\n",
              "      <td>0.00</td>\n",
              "      <td>0.00</td>\n",
              "      <td>0.00</td>\n",
              "      <td>0.00</td>\n",
              "      <td>0.00</td>\n",
              "      <td>0.00</td>\n",
              "      <td>...</td>\n",
              "      <td>0.00</td>\n",
              "      <td>0.00</td>\n",
              "      <td>0.00</td>\n",
              "      <td>0.00</td>\n",
              "      <td>0.00</td>\n",
              "      <td>0.00</td>\n",
              "      <td>0.00</td>\n",
              "      <td>0.00</td>\n",
              "      <td>0.00</td>\n",
              "      <td>1.86</td>\n",
              "    </tr>\n",
              "    <tr>\n",
              "      <th>snes</th>\n",
              "      <td>0.00</td>\n",
              "      <td>0.00</td>\n",
              "      <td>0.00</td>\n",
              "      <td>0.00</td>\n",
              "      <td>0.00</td>\n",
              "      <td>0.00</td>\n",
              "      <td>0.00</td>\n",
              "      <td>0.00</td>\n",
              "      <td>0.00</td>\n",
              "      <td>0.00</td>\n",
              "      <td>...</td>\n",
              "      <td>0.00</td>\n",
              "      <td>0.00</td>\n",
              "      <td>0.00</td>\n",
              "      <td>0.00</td>\n",
              "      <td>0.00</td>\n",
              "      <td>0.00</td>\n",
              "      <td>0.00</td>\n",
              "      <td>0.00</td>\n",
              "      <td>0.00</td>\n",
              "      <td>200.04</td>\n",
              "    </tr>\n",
              "    <tr>\n",
              "      <th>tg16</th>\n",
              "      <td>0.00</td>\n",
              "      <td>0.00</td>\n",
              "      <td>0.00</td>\n",
              "      <td>0.00</td>\n",
              "      <td>0.00</td>\n",
              "      <td>0.00</td>\n",
              "      <td>0.00</td>\n",
              "      <td>0.00</td>\n",
              "      <td>0.00</td>\n",
              "      <td>0.00</td>\n",
              "      <td>...</td>\n",
              "      <td>0.00</td>\n",
              "      <td>0.00</td>\n",
              "      <td>0.00</td>\n",
              "      <td>0.00</td>\n",
              "      <td>0.00</td>\n",
              "      <td>0.00</td>\n",
              "      <td>0.00</td>\n",
              "      <td>0.00</td>\n",
              "      <td>0.00</td>\n",
              "      <td>0.16</td>\n",
              "    </tr>\n",
              "    <tr>\n",
              "      <th>wii</th>\n",
              "      <td>0.00</td>\n",
              "      <td>0.00</td>\n",
              "      <td>0.00</td>\n",
              "      <td>0.00</td>\n",
              "      <td>0.00</td>\n",
              "      <td>0.00</td>\n",
              "      <td>0.00</td>\n",
              "      <td>0.00</td>\n",
              "      <td>0.00</td>\n",
              "      <td>0.00</td>\n",
              "      <td>...</td>\n",
              "      <td>171.32</td>\n",
              "      <td>206.97</td>\n",
              "      <td>127.95</td>\n",
              "      <td>59.65</td>\n",
              "      <td>21.71</td>\n",
              "      <td>8.59</td>\n",
              "      <td>3.75</td>\n",
              "      <td>1.14</td>\n",
              "      <td>0.18</td>\n",
              "      <td>891.18</td>\n",
              "    </tr>\n",
              "    <tr>\n",
              "      <th>wiiu</th>\n",
              "      <td>0.00</td>\n",
              "      <td>0.00</td>\n",
              "      <td>0.00</td>\n",
              "      <td>0.00</td>\n",
              "      <td>0.00</td>\n",
              "      <td>0.00</td>\n",
              "      <td>0.00</td>\n",
              "      <td>0.00</td>\n",
              "      <td>0.00</td>\n",
              "      <td>0.00</td>\n",
              "      <td>...</td>\n",
              "      <td>0.00</td>\n",
              "      <td>0.00</td>\n",
              "      <td>0.00</td>\n",
              "      <td>0.00</td>\n",
              "      <td>17.56</td>\n",
              "      <td>21.65</td>\n",
              "      <td>22.03</td>\n",
              "      <td>16.35</td>\n",
              "      <td>4.60</td>\n",
              "      <td>82.19</td>\n",
              "    </tr>\n",
              "    <tr>\n",
              "      <th>ws</th>\n",
              "      <td>0.00</td>\n",
              "      <td>0.00</td>\n",
              "      <td>0.00</td>\n",
              "      <td>0.00</td>\n",
              "      <td>0.00</td>\n",
              "      <td>0.00</td>\n",
              "      <td>0.00</td>\n",
              "      <td>0.00</td>\n",
              "      <td>0.00</td>\n",
              "      <td>0.00</td>\n",
              "      <td>...</td>\n",
              "      <td>0.00</td>\n",
              "      <td>0.00</td>\n",
              "      <td>0.00</td>\n",
              "      <td>0.00</td>\n",
              "      <td>0.00</td>\n",
              "      <td>0.00</td>\n",
              "      <td>0.00</td>\n",
              "      <td>0.00</td>\n",
              "      <td>0.00</td>\n",
              "      <td>1.42</td>\n",
              "    </tr>\n",
              "    <tr>\n",
              "      <th>x360</th>\n",
              "      <td>0.00</td>\n",
              "      <td>0.00</td>\n",
              "      <td>0.00</td>\n",
              "      <td>0.00</td>\n",
              "      <td>0.00</td>\n",
              "      <td>0.00</td>\n",
              "      <td>0.00</td>\n",
              "      <td>0.00</td>\n",
              "      <td>0.00</td>\n",
              "      <td>0.00</td>\n",
              "      <td>...</td>\n",
              "      <td>135.26</td>\n",
              "      <td>120.29</td>\n",
              "      <td>170.03</td>\n",
              "      <td>143.84</td>\n",
              "      <td>99.74</td>\n",
              "      <td>88.58</td>\n",
              "      <td>34.74</td>\n",
              "      <td>11.96</td>\n",
              "      <td>1.52</td>\n",
              "      <td>961.24</td>\n",
              "    </tr>\n",
              "    <tr>\n",
              "      <th>xb</th>\n",
              "      <td>0.00</td>\n",
              "      <td>0.00</td>\n",
              "      <td>0.00</td>\n",
              "      <td>0.00</td>\n",
              "      <td>0.00</td>\n",
              "      <td>0.00</td>\n",
              "      <td>0.00</td>\n",
              "      <td>0.00</td>\n",
              "      <td>0.00</td>\n",
              "      <td>0.00</td>\n",
              "      <td>...</td>\n",
              "      <td>0.18</td>\n",
              "      <td>0.00</td>\n",
              "      <td>0.00</td>\n",
              "      <td>0.00</td>\n",
              "      <td>0.00</td>\n",
              "      <td>0.00</td>\n",
              "      <td>0.00</td>\n",
              "      <td>0.00</td>\n",
              "      <td>0.00</td>\n",
              "      <td>251.57</td>\n",
              "    </tr>\n",
              "    <tr>\n",
              "      <th>xone</th>\n",
              "      <td>0.00</td>\n",
              "      <td>0.00</td>\n",
              "      <td>0.00</td>\n",
              "      <td>0.00</td>\n",
              "      <td>0.00</td>\n",
              "      <td>0.00</td>\n",
              "      <td>0.00</td>\n",
              "      <td>0.00</td>\n",
              "      <td>0.00</td>\n",
              "      <td>0.00</td>\n",
              "      <td>...</td>\n",
              "      <td>0.00</td>\n",
              "      <td>0.00</td>\n",
              "      <td>0.00</td>\n",
              "      <td>0.00</td>\n",
              "      <td>0.00</td>\n",
              "      <td>18.96</td>\n",
              "      <td>54.07</td>\n",
              "      <td>60.14</td>\n",
              "      <td>26.15</td>\n",
              "      <td>159.32</td>\n",
              "    </tr>\n",
              "    <tr>\n",
              "      <th>All</th>\n",
              "      <td>11.38</td>\n",
              "      <td>35.68</td>\n",
              "      <td>28.88</td>\n",
              "      <td>16.80</td>\n",
              "      <td>50.35</td>\n",
              "      <td>53.95</td>\n",
              "      <td>37.08</td>\n",
              "      <td>21.70</td>\n",
              "      <td>47.21</td>\n",
              "      <td>73.45</td>\n",
              "      <td>...</td>\n",
              "      <td>671.50</td>\n",
              "      <td>658.82</td>\n",
              "      <td>590.13</td>\n",
              "      <td>507.58</td>\n",
              "      <td>355.84</td>\n",
              "      <td>361.24</td>\n",
              "      <td>331.53</td>\n",
              "      <td>267.98</td>\n",
              "      <td>129.94</td>\n",
              "      <td>8814.37</td>\n",
              "    </tr>\n",
              "  </tbody>\n",
              "</table>\n",
              "<p>32 rows × 38 columns</p>\n",
              "</div>"
            ],
            "text/plain": [
              "                total_sales                                                   \\\n",
              "year_of_release        1980   1981   1982   1983   1984   1985   1986   1987   \n",
              "platform                                                                       \n",
              "2600                  11.38  35.68  28.88   5.84   0.27   0.45   0.67   1.94   \n",
              "3do                    0.00   0.00   0.00   0.00   0.00   0.00   0.00   0.00   \n",
              "3ds                    0.00   0.00   0.00   0.00   0.00   0.00   0.00   0.00   \n",
              "dc                     0.00   0.00   0.00   0.00   0.00   0.00   0.00   0.00   \n",
              "ds                     0.00   0.00   0.00   0.00   0.00   0.02   0.00   0.00   \n",
              "gb                     0.00   0.00   0.00   0.00   0.00   0.00   0.00   0.00   \n",
              "gba                    0.00   0.00   0.00   0.00   0.00   0.00   0.00   0.00   \n",
              "gc                     0.00   0.00   0.00   0.00   0.00   0.00   0.00   0.00   \n",
              "gen                    0.00   0.00   0.00   0.00   0.00   0.00   0.00   0.00   \n",
              "gg                     0.00   0.00   0.00   0.00   0.00   0.00   0.00   0.00   \n",
              "n64                    0.00   0.00   0.00   0.00   0.00   0.00   0.00   0.00   \n",
              "nes                    0.00   0.00   0.00  10.96  50.08  53.44  36.41  19.76   \n",
              "ng                     0.00   0.00   0.00   0.00   0.00   0.00   0.00   0.00   \n",
              "pc                     0.00   0.00   0.00   0.00   0.00   0.04   0.00   0.00   \n",
              "pcfx                   0.00   0.00   0.00   0.00   0.00   0.00   0.00   0.00   \n",
              "ps                     0.00   0.00   0.00   0.00   0.00   0.00   0.00   0.00   \n",
              "ps2                    0.00   0.00   0.00   0.00   0.00   0.00   0.00   0.00   \n",
              "ps3                    0.00   0.00   0.00   0.00   0.00   0.00   0.00   0.00   \n",
              "ps4                    0.00   0.00   0.00   0.00   0.00   0.00   0.00   0.00   \n",
              "psp                    0.00   0.00   0.00   0.00   0.00   0.00   0.00   0.00   \n",
              "psv                    0.00   0.00   0.00   0.00   0.00   0.00   0.00   0.00   \n",
              "sat                    0.00   0.00   0.00   0.00   0.00   0.00   0.00   0.00   \n",
              "scd                    0.00   0.00   0.00   0.00   0.00   0.00   0.00   0.00   \n",
              "snes                   0.00   0.00   0.00   0.00   0.00   0.00   0.00   0.00   \n",
              "tg16                   0.00   0.00   0.00   0.00   0.00   0.00   0.00   0.00   \n",
              "wii                    0.00   0.00   0.00   0.00   0.00   0.00   0.00   0.00   \n",
              "wiiu                   0.00   0.00   0.00   0.00   0.00   0.00   0.00   0.00   \n",
              "ws                     0.00   0.00   0.00   0.00   0.00   0.00   0.00   0.00   \n",
              "x360                   0.00   0.00   0.00   0.00   0.00   0.00   0.00   0.00   \n",
              "xb                     0.00   0.00   0.00   0.00   0.00   0.00   0.00   0.00   \n",
              "xone                   0.00   0.00   0.00   0.00   0.00   0.00   0.00   0.00   \n",
              "All                   11.38  35.68  28.88  16.80  50.35  53.95  37.08  21.70   \n",
              "\n",
              "                               ...                                          \\\n",
              "year_of_release   1988   1989  ...    2008    2009    2010    2011    2012   \n",
              "platform                       ...                                           \n",
              "2600              0.74   0.63  ...    0.00    0.00    0.00    0.00    0.00   \n",
              "3do               0.00   0.00  ...    0.00    0.00    0.00    0.00    0.00   \n",
              "3ds               0.00   0.00  ...    0.00    0.00    0.00   63.20   51.36   \n",
              "dc                0.00   0.00  ...    0.04    0.00    0.00    0.00    0.00   \n",
              "ds                0.00   0.00  ...  145.31  119.54   85.02   26.18   11.01   \n",
              "gb                1.43  64.97  ...    0.00    0.00    0.00    0.00    0.00   \n",
              "gba               0.00   0.00  ...    0.00    0.00    0.00    0.00    0.00   \n",
              "gc                0.00   0.00  ...    0.00    0.00    0.00    0.00    0.00   \n",
              "gen               0.00   0.00  ...    0.00    0.00    0.00    0.00    0.00   \n",
              "gg                0.00   0.00  ...    0.00    0.00    0.00    0.00    0.00   \n",
              "n64               0.00   0.00  ...    0.00    0.00    0.00    0.00    0.00   \n",
              "nes              45.01   7.85  ...    0.00    0.00    0.00    0.00    0.00   \n",
              "ng                0.00   0.00  ...    0.00    0.00    0.00    0.00    0.00   \n",
              "pc                0.03   0.00  ...   12.42   16.91   24.28   35.03   23.22   \n",
              "pcfx              0.00   0.00  ...    0.00    0.00    0.00    0.00    0.00   \n",
              "ps                0.00   0.00  ...    0.00    0.00    0.00    0.00    0.00   \n",
              "ps2               0.00   0.00  ...   53.90   26.40    5.64    0.45    0.00   \n",
              "ps3               0.00   0.00  ...  118.52  130.93  142.17  156.78  107.36   \n",
              "ps4               0.00   0.00  ...    0.00    0.00    0.00    0.00    0.00   \n",
              "psp               0.00   0.00  ...   34.55   37.78   35.04   17.82    7.69   \n",
              "psv               0.00   0.00  ...    0.00    0.00    0.00    4.63   16.19   \n",
              "sat               0.00   0.00  ...    0.00    0.00    0.00    0.00    0.00   \n",
              "scd               0.00   0.00  ...    0.00    0.00    0.00    0.00    0.00   \n",
              "snes              0.00   0.00  ...    0.00    0.00    0.00    0.00    0.00   \n",
              "tg16              0.00   0.00  ...    0.00    0.00    0.00    0.00    0.00   \n",
              "wii               0.00   0.00  ...  171.32  206.97  127.95   59.65   21.71   \n",
              "wiiu              0.00   0.00  ...    0.00    0.00    0.00    0.00   17.56   \n",
              "ws                0.00   0.00  ...    0.00    0.00    0.00    0.00    0.00   \n",
              "x360              0.00   0.00  ...  135.26  120.29  170.03  143.84   99.74   \n",
              "xb                0.00   0.00  ...    0.18    0.00    0.00    0.00    0.00   \n",
              "xone              0.00   0.00  ...    0.00    0.00    0.00    0.00    0.00   \n",
              "All              47.21  73.45  ...  671.50  658.82  590.13  507.58  355.84   \n",
              "\n",
              "                                                          \n",
              "year_of_release    2013    2014    2015    2016      All  \n",
              "platform                                                  \n",
              "2600               0.00    0.00    0.00    0.00    86.48  \n",
              "3do                0.00    0.00    0.00    0.00     0.10  \n",
              "3ds               56.57   43.76   27.78   15.14   257.81  \n",
              "dc                 0.00    0.00    0.00    0.00    15.95  \n",
              "ds                 1.54    0.00    0.00    0.00   802.78  \n",
              "gb                 0.00    0.00    0.00    0.00   254.43  \n",
              "gba                0.00    0.00    0.00    0.00   312.88  \n",
              "gc                 0.00    0.00    0.00    0.00   196.73  \n",
              "gen                0.00    0.00    0.00    0.00    28.35  \n",
              "gg                 0.00    0.00    0.00    0.00     0.04  \n",
              "n64                0.00    0.00    0.00    0.00   218.01  \n",
              "nes                0.00    0.00    0.00    0.00   251.05  \n",
              "ng                 0.00    0.00    0.00    0.00     1.44  \n",
              "pc                12.38   13.28    8.52    5.25   255.76  \n",
              "pcfx               0.00    0.00    0.00    0.00     0.03  \n",
              "ps                 0.00    0.00    0.00    0.00   727.58  \n",
              "ps2                0.00    0.00    0.00    0.00  1233.56  \n",
              "ps3              113.25   47.76   16.82    3.60   931.34  \n",
              "ps4               25.99  100.00  118.90   69.25   314.14  \n",
              "psp                3.14    0.24    0.12    0.00   289.53  \n",
              "psv               10.59   11.90    6.25    4.25    53.81  \n",
              "sat                0.00    0.00    0.00    0.00    33.59  \n",
              "scd                0.00    0.00    0.00    0.00     1.86  \n",
              "snes               0.00    0.00    0.00    0.00   200.04  \n",
              "tg16               0.00    0.00    0.00    0.00     0.16  \n",
              "wii                8.59    3.75    1.14    0.18   891.18  \n",
              "wiiu              21.65   22.03   16.35    4.60    82.19  \n",
              "ws                 0.00    0.00    0.00    0.00     1.42  \n",
              "x360              88.58   34.74   11.96    1.52   961.24  \n",
              "xb                 0.00    0.00    0.00    0.00   251.57  \n",
              "xone              18.96   54.07   60.14   26.15   159.32  \n",
              "All              361.24  331.53  267.98  129.94  8814.37  \n",
              "\n",
              "[32 rows x 38 columns]"
            ]
          },
          "metadata": {},
          "output_type": "display_data"
        }
      ],
      "source": [
        "# посмотрим как менялись продажи по платформам по годам.\n",
        "platform_year = pd.pivot_table(games,\n",
        "               index = ['platform'],\n",
        "               columns = ['year_of_release'],\n",
        "               values = ['total_sales'],\n",
        "               aggfunc = 'sum',\n",
        "               fill_value = 0,\n",
        "               margins = True)\n",
        "display(platform_year)"
      ]
    },
    {
      "cell_type": "code",
      "execution_count": null,
      "metadata": {
        "colab": {
          "base_uri": "https://localhost:8080/",
          "height": 1000
        },
        "id": "bG6BEjciHzGS",
        "outputId": "1e4d73c6-fcdf-4d14-cdd9-94fe1496cfde",
        "scrolled": true
      },
      "outputs": [
        {
          "data": {
            "text/html": [
              "<div>\n",
              "<style scoped>\n",
              "    .dataframe tbody tr th:only-of-type {\n",
              "        vertical-align: middle;\n",
              "    }\n",
              "\n",
              "    .dataframe tbody tr th {\n",
              "        vertical-align: top;\n",
              "    }\n",
              "\n",
              "    .dataframe thead th {\n",
              "        text-align: right;\n",
              "    }\n",
              "</style>\n",
              "<table border=\"1\" class=\"dataframe\">\n",
              "  <thead>\n",
              "    <tr style=\"text-align: right;\">\n",
              "      <th></th>\n",
              "      <th>total_sales</th>\n",
              "    </tr>\n",
              "    <tr>\n",
              "      <th>platform</th>\n",
              "      <th></th>\n",
              "    </tr>\n",
              "  </thead>\n",
              "  <tbody>\n",
              "    <tr>\n",
              "      <th>ps2</th>\n",
              "      <td>1233.56</td>\n",
              "    </tr>\n",
              "    <tr>\n",
              "      <th>x360</th>\n",
              "      <td>961.24</td>\n",
              "    </tr>\n",
              "    <tr>\n",
              "      <th>ps3</th>\n",
              "      <td>931.34</td>\n",
              "    </tr>\n",
              "    <tr>\n",
              "      <th>wii</th>\n",
              "      <td>891.18</td>\n",
              "    </tr>\n",
              "    <tr>\n",
              "      <th>ds</th>\n",
              "      <td>802.78</td>\n",
              "    </tr>\n",
              "    <tr>\n",
              "      <th>ps</th>\n",
              "      <td>727.58</td>\n",
              "    </tr>\n",
              "    <tr>\n",
              "      <th>ps4</th>\n",
              "      <td>314.14</td>\n",
              "    </tr>\n",
              "    <tr>\n",
              "      <th>gba</th>\n",
              "      <td>312.88</td>\n",
              "    </tr>\n",
              "    <tr>\n",
              "      <th>psp</th>\n",
              "      <td>289.53</td>\n",
              "    </tr>\n",
              "    <tr>\n",
              "      <th>3ds</th>\n",
              "      <td>257.81</td>\n",
              "    </tr>\n",
              "    <tr>\n",
              "      <th>pc</th>\n",
              "      <td>255.76</td>\n",
              "    </tr>\n",
              "    <tr>\n",
              "      <th>gb</th>\n",
              "      <td>254.43</td>\n",
              "    </tr>\n",
              "    <tr>\n",
              "      <th>xb</th>\n",
              "      <td>251.57</td>\n",
              "    </tr>\n",
              "    <tr>\n",
              "      <th>nes</th>\n",
              "      <td>251.05</td>\n",
              "    </tr>\n",
              "    <tr>\n",
              "      <th>n64</th>\n",
              "      <td>218.01</td>\n",
              "    </tr>\n",
              "    <tr>\n",
              "      <th>snes</th>\n",
              "      <td>200.04</td>\n",
              "    </tr>\n",
              "    <tr>\n",
              "      <th>gc</th>\n",
              "      <td>196.73</td>\n",
              "    </tr>\n",
              "    <tr>\n",
              "      <th>xone</th>\n",
              "      <td>159.32</td>\n",
              "    </tr>\n",
              "    <tr>\n",
              "      <th>2600</th>\n",
              "      <td>86.48</td>\n",
              "    </tr>\n",
              "    <tr>\n",
              "      <th>wiiu</th>\n",
              "      <td>82.19</td>\n",
              "    </tr>\n",
              "    <tr>\n",
              "      <th>psv</th>\n",
              "      <td>53.81</td>\n",
              "    </tr>\n",
              "    <tr>\n",
              "      <th>sat</th>\n",
              "      <td>33.59</td>\n",
              "    </tr>\n",
              "    <tr>\n",
              "      <th>gen</th>\n",
              "      <td>28.35</td>\n",
              "    </tr>\n",
              "    <tr>\n",
              "      <th>dc</th>\n",
              "      <td>15.95</td>\n",
              "    </tr>\n",
              "    <tr>\n",
              "      <th>scd</th>\n",
              "      <td>1.86</td>\n",
              "    </tr>\n",
              "    <tr>\n",
              "      <th>ng</th>\n",
              "      <td>1.44</td>\n",
              "    </tr>\n",
              "    <tr>\n",
              "      <th>ws</th>\n",
              "      <td>1.42</td>\n",
              "    </tr>\n",
              "    <tr>\n",
              "      <th>tg16</th>\n",
              "      <td>0.16</td>\n",
              "    </tr>\n",
              "    <tr>\n",
              "      <th>3do</th>\n",
              "      <td>0.10</td>\n",
              "    </tr>\n",
              "    <tr>\n",
              "      <th>gg</th>\n",
              "      <td>0.04</td>\n",
              "    </tr>\n",
              "    <tr>\n",
              "      <th>pcfx</th>\n",
              "      <td>0.03</td>\n",
              "    </tr>\n",
              "  </tbody>\n",
              "</table>\n",
              "</div>"
            ],
            "text/plain": [
              "          total_sales\n",
              "platform             \n",
              "ps2           1233.56\n",
              "x360           961.24\n",
              "ps3            931.34\n",
              "wii            891.18\n",
              "ds             802.78\n",
              "ps             727.58\n",
              "ps4            314.14\n",
              "gba            312.88\n",
              "psp            289.53\n",
              "3ds            257.81\n",
              "pc             255.76\n",
              "gb             254.43\n",
              "xb             251.57\n",
              "nes            251.05\n",
              "n64            218.01\n",
              "snes           200.04\n",
              "gc             196.73\n",
              "xone           159.32\n",
              "2600            86.48\n",
              "wiiu            82.19\n",
              "psv             53.81\n",
              "sat             33.59\n",
              "gen             28.35\n",
              "dc              15.95\n",
              "scd              1.86\n",
              "ng               1.44\n",
              "ws               1.42\n",
              "tg16             0.16\n",
              "3do              0.10\n",
              "gg               0.04\n",
              "pcfx             0.03"
            ]
          },
          "metadata": {},
          "output_type": "display_data"
        }
      ],
      "source": [
        "# отсортируем суммарные продажи по убыванию.\n",
        "total_sales_sum = {'total_sales': 'sum' }\n",
        "plat_sales = games.groupby(['platform']).agg(total_sales_sum)\n",
        "display(plat_sales.sort_values('total_sales', ascending = False))"
      ]
    },
    {
      "cell_type": "code",
      "execution_count": null,
      "metadata": {
        "colab": {
          "base_uri": "https://localhost:8080/",
          "height": 429
        },
        "id": "OFlDT8Cl5XUp",
        "outputId": "4a96010f-c381-455d-ddac-c9dcfad0c08d"
      },
      "outputs": [
        {
          "data": {
            "text/plain": [
              "Text(0, 0.5, 'Продажи')"
            ]
          },
          "execution_count": 25,
          "metadata": {},
          "output_type": "execute_result"
        },
        {
          "data": {
            "image/png": "[encoded data removed]",
            "text/plain": [
              "<Figure size 936x432 with 1 Axes>"
            ]
          },
          "metadata": {},
          "output_type": "display_data"
        }
      ],
      "source": [
        "# построим гистограмму продаж платформ.\n",
        "platform_sales = games.pivot_table(\n",
        "    index='platform', values='total_sales', aggfunc='sum').sort_values(by='total_sales', ascending=False)\n",
        "plt.figure(figsize=(13,6))\n",
        "sns.barplot(x=platform_sales.index,y=platform_sales['total_sales'])\n",
        "plt.title(\"Продажи платформ \")\n",
        "plt.xlabel(\"Платформа\")\n",
        "plt.ylabel(\"Продажи\")"
      ]
    },
    {
      "cell_type": "markdown",
      "metadata": {
        "id": "PIK-sLm4QvMj"
      },
      "source": [
        "##### рассмотрим далее гистограммы распределения по годам по платформам с наибольшими суммарными продажами (top-5):\n",
        "* ps2\n",
        "* x360\n",
        "* ps3\n",
        "* wii\n",
        "* ds"
      ]
    },
    {
      "cell_type": "code",
      "execution_count": null,
      "metadata": {
        "id": "1jK3oCy2xEcO"
      },
      "outputs": [],
      "source": [
        "# делаем срез из датафрейма games по платформам из top-5 (ps2, x360, ps3, wii, ds)\n",
        "top5 = games.query('platform == \"ps2\" or platform == \"x360\" or platform == \"ps3\" or platform == \"wii\" or platform == \"ds\"')"
      ]
    },
    {
      "cell_type": "code",
      "execution_count": null,
      "metadata": {
        "colab": {
          "base_uri": "https://localhost:8080/"
        },
        "id": "jU6N4hmPFWwI",
        "outputId": "9846d300-96f6-4649-cef3-c4678ad150aa"
      },
      "outputs": [
        {
          "data": {
            "text/plain": [
              "array(['wii', 'ds', 'x360', 'ps3', 'ps2'], dtype=object)"
            ]
          },
          "execution_count": 27,
          "metadata": {},
          "output_type": "execute_result"
        }
      ],
      "source": [
        "#Составим список платформ из top-5.\n",
        "top5_list = top5['platform'].unique()\n",
        "top5_list"
      ]
    },
    {
      "cell_type": "code",
      "execution_count": null,
      "metadata": {
        "colab": {
          "base_uri": "https://localhost:8080/",
          "height": 1000
        },
        "id": "cFH-iQ0EADNb",
        "outputId": "03e9858b-df71-4a02-bf14-2f5a5ed02699"
      },
      "outputs": [
        {
          "data": {
            "image/png": "[encoded data removed]",
            "text/plain": [
              "<Figure size 936x288 with 1 Axes>"
            ]
          },
          "metadata": {},
          "output_type": "display_data"
        },
        {
          "data": {
            "image/png": "[encoded data removed]",
            "text/plain": [
              "<Figure size 936x288 with 1 Axes>"
            ]
          },
          "metadata": {},
          "output_type": "display_data"
        },
        {
          "data": {
            "image/png": "[encoded data removed]",
            "text/plain": [
              "<Figure size 936x288 with 1 Axes>"
            ]
          },
          "metadata": {},
          "output_type": "display_data"
        },
        {
          "data": {
            "image/png": "[encoded data removed]",
            "text/plain": [
              "<Figure size 936x288 with 1 Axes>"
            ]
          },
          "metadata": {},
          "output_type": "display_data"
        },
        {
          "data": {
            "image/png": "[encoded data removed]",
            "text/plain": [
              "<Figure size 936x288 with 1 Axes>"
            ]
          },
          "metadata": {},
          "output_type": "display_data"
        }
      ],
      "source": [
        "#Построим распределения по годам для каждой платформы.\n",
        "for platform in top5_list:\n",
        "    top5[top5['platform'] == platform].pivot_table(index='year_of_release', values='total_sales', aggfunc='sum').plot(\n",
        "        kind='bar', figsize=(13,4))\n",
        "    plt.title(platform)"
      ]
    },
    {
      "cell_type": "markdown",
      "metadata": {
        "id": "szpQRT7S01y0"
      },
      "source": [
        "#### на основании представленных гистограмм можно сделать вывод, что жизненный цикл платформы находится в диапазоне 10-11 лет."
      ]
    },
    {
      "cell_type": "markdown",
      "metadata": {
        "id": "JxQ4a-aYJsq5"
      },
      "source": [
        "#### Определим соответствующий актуальный период."
      ]
    },
    {
      "cell_type": "code",
      "execution_count": null,
      "metadata": {
        "colab": {
          "base_uri": "https://localhost:8080/"
        },
        "id": "4fvRaN-KNnFX",
        "outputId": "7cc378a7-0e61-450f-b748-cf19f7ab0ab7"
      },
      "outputs": [
        {
          "name": "stdout",
          "output_type": "stream",
          "text": [
            "Медиана жизненного цикла платформ из списка top-5 =  11 лет\n"
          ]
        }
      ],
      "source": [
        "#Сгруппируем данные и определим за какой характерный срок появляются новые и исчезают старые платформы.\n",
        "z = top5.pivot_table(values='year_of_release', index='platform', aggfunc=lambda x: len(x.unique())).median()\n",
        "print('Медиана жизненного цикла платформ из списка top-5 = ', int(z[0]), 'лет')"
      ]
    },
    {
      "cell_type": "markdown",
      "metadata": {
        "id": "_3j9gXBwN72V"
      },
      "source": [
        "#### предлагаю считать актуальным периодом половину периода от медианы жизненного цикла = 11/2 = 5,5 лет, округлим до 5 лет. Таким образом, диапазон соответствующего актуального периода будет охватывать период с 2012 до 2016 года."
      ]
    },
    {
      "cell_type": "markdown",
      "metadata": {
        "id": "VISm11oRQdiU"
      },
      "source": [
        "#### Определим платформы, которые лидируют, растут или падают и выберем несколько потенциально прибыльных платформ."
      ]
    },
    {
      "cell_type": "code",
      "execution_count": null,
      "metadata": {
        "id": "WPqTsK_O4_fd"
      },
      "outputs": [],
      "source": [
        "games['year_of_release'] = games['year_of_release'].astype('int')"
      ]
    },
    {
      "cell_type": "code",
      "execution_count": null,
      "metadata": {
        "id": "sD9t_QemQ_mB"
      },
      "outputs": [],
      "source": [
        "# делаем срез по данным с 2012 года.\n",
        "games_act = games.query('year_of_release >= 2012')"
      ]
    },
    {
      "cell_type": "code",
      "execution_count": null,
      "metadata": {
        "colab": {
          "base_uri": "https://localhost:8080/",
          "height": 426
        },
        "id": "wUkQ07T6XLRx",
        "outputId": "6bb83a4b-bbe6-4180-df51-302c08931050"
      },
      "outputs": [
        {
          "data": {
            "text/html": [
              "<div>\n",
              "<style scoped>\n",
              "    .dataframe tbody tr th:only-of-type {\n",
              "        vertical-align: middle;\n",
              "    }\n",
              "\n",
              "    .dataframe tbody tr th {\n",
              "        vertical-align: top;\n",
              "    }\n",
              "\n",
              "    .dataframe thead th {\n",
              "        text-align: right;\n",
              "    }\n",
              "</style>\n",
              "<table border=\"1\" class=\"dataframe\">\n",
              "  <thead>\n",
              "    <tr style=\"text-align: right;\">\n",
              "      <th></th>\n",
              "      <th>total_sales</th>\n",
              "    </tr>\n",
              "    <tr>\n",
              "      <th>platform</th>\n",
              "      <th></th>\n",
              "    </tr>\n",
              "  </thead>\n",
              "  <tbody>\n",
              "    <tr>\n",
              "      <th>ps4</th>\n",
              "      <td>314.14</td>\n",
              "    </tr>\n",
              "    <tr>\n",
              "      <th>ps3</th>\n",
              "      <td>288.79</td>\n",
              "    </tr>\n",
              "    <tr>\n",
              "      <th>x360</th>\n",
              "      <td>236.54</td>\n",
              "    </tr>\n",
              "    <tr>\n",
              "      <th>3ds</th>\n",
              "      <td>194.61</td>\n",
              "    </tr>\n",
              "    <tr>\n",
              "      <th>xone</th>\n",
              "      <td>159.32</td>\n",
              "    </tr>\n",
              "    <tr>\n",
              "      <th>wiiu</th>\n",
              "      <td>82.19</td>\n",
              "    </tr>\n",
              "    <tr>\n",
              "      <th>pc</th>\n",
              "      <td>62.65</td>\n",
              "    </tr>\n",
              "    <tr>\n",
              "      <th>psv</th>\n",
              "      <td>49.18</td>\n",
              "    </tr>\n",
              "    <tr>\n",
              "      <th>wii</th>\n",
              "      <td>35.37</td>\n",
              "    </tr>\n",
              "    <tr>\n",
              "      <th>ds</th>\n",
              "      <td>12.55</td>\n",
              "    </tr>\n",
              "    <tr>\n",
              "      <th>psp</th>\n",
              "      <td>11.19</td>\n",
              "    </tr>\n",
              "  </tbody>\n",
              "</table>\n",
              "</div>"
            ],
            "text/plain": [
              "          total_sales\n",
              "platform             \n",
              "ps4            314.14\n",
              "ps3            288.79\n",
              "x360           236.54\n",
              "3ds            194.61\n",
              "xone           159.32\n",
              "wiiu            82.19\n",
              "pc              62.65\n",
              "psv             49.18\n",
              "wii             35.37\n",
              "ds              12.55\n",
              "psp             11.19"
            ]
          },
          "metadata": {},
          "output_type": "display_data"
        }
      ],
      "source": [
        "# отсортируем суммарные продажи по убыванию с 2012 года.\n",
        "total_sales_sum1 = {'total_sales': 'sum' }\n",
        "platform_sales1 = games_act.groupby(['platform']).agg(total_sales_sum1)\n",
        "display(platform_sales1.sort_values('total_sales', ascending = False))"
      ]
    },
    {
      "cell_type": "code",
      "execution_count": null,
      "metadata": {
        "colab": {
          "base_uri": "https://localhost:8080/",
          "height": 429
        },
        "id": "Q6PU4k46RQms",
        "outputId": "bc12d69e-a048-44f5-b242-f332a30c1fe3"
      },
      "outputs": [
        {
          "data": {
            "text/plain": [
              "Text(0, 0.5, 'Продажи')"
            ]
          },
          "execution_count": 33,
          "metadata": {},
          "output_type": "execute_result"
        },
        {
          "data": {
            "image/png": "[encoded data removed]",
            "text/plain": [
              "<Figure size 936x432 with 1 Axes>"
            ]
          },
          "metadata": {},
          "output_type": "display_data"
        }
      ],
      "source": [
        "# построим гистограмму продаж платформ за актульный период времени с 2012 года.\n",
        "platform_sales1 = games_act.pivot_table(\n",
        "    index='platform', values='total_sales', aggfunc='sum').sort_values(by='total_sales', ascending=False)\n",
        "plt.figure(figsize=(13,6))\n",
        "sns.barplot(x=platform_sales1.index,y=platform_sales1['total_sales'])\n",
        "plt.title(\"Продажи платформ\")\n",
        "plt.xlabel(\"Платформа\")\n",
        "plt.ylabel(\"Продажи\")"
      ]
    },
    {
      "cell_type": "code",
      "execution_count": null,
      "metadata": {
        "colab": {
          "base_uri": "https://localhost:8080/",
          "height": 464
        },
        "id": "QcFrXrLhbGyz",
        "outputId": "beaac9b1-a6e6-469f-a4c8-457409c39ba9"
      },
      "outputs": [
        {
          "data": {
            "image/png": "[encoded data removed]",
            "text/plain": [
              "<Figure size 1440x504 with 1 Axes>"
            ]
          },
          "metadata": {},
          "output_type": "display_data"
        }
      ],
      "source": [
        "games_line = games_act.pivot_table(index='year_of_release',\n",
        "                             columns ='platform',\n",
        "                             values='total_sales',\n",
        "                             aggfunc='sum' )\n",
        "\n",
        "games_line.plot(figsize=(20,7))\n",
        "plt.title('Продажи платформ')\n",
        "plt.xlabel('года')\n",
        "plt.ylabel('Продажи')\n",
        "plt.show()"
      ]
    },
    {
      "cell_type": "markdown",
      "metadata": {
        "id": "ColF_6aDaQEg"
      },
      "source": [
        "#### C 2012 года лидируют по продажам платформы: ps4, ps3, x360.\n",
        "* рост продаж не наблюдается ни у одной из платформ исходя из графика."
      ]
    },
    {
      "cell_type": "markdown",
      "metadata": {
        "id": "7GZgSRUbek2t"
      },
      "source": [
        "#### Потенциально прибыльные продажи определим по топ-списку из 5 платформ лидирующих по продажам за последний актуальный год - за 2016 года."
      ]
    },
    {
      "cell_type": "code",
      "execution_count": null,
      "metadata": {
        "id": "qPQEBvY5fXzy"
      },
      "outputs": [],
      "source": [
        "top5_2016 = games.query('year_of_release == 2016')"
      ]
    },
    {
      "cell_type": "code",
      "execution_count": null,
      "metadata": {
        "colab": {
          "base_uri": "https://localhost:8080/",
          "height": 429
        },
        "id": "GarS0rxZfn_I",
        "outputId": "9f8e4d86-77e4-461d-cd87-231e14493b1a"
      },
      "outputs": [
        {
          "data": {
            "text/plain": [
              "Text(0, 0.5, 'Продажи')"
            ]
          },
          "execution_count": 36,
          "metadata": {},
          "output_type": "execute_result"
        },
        {
          "data": {
            "image/png": "[encoded data removed]",
            "text/plain": [
              "<Figure size 936x432 with 1 Axes>"
            ]
          },
          "metadata": {},
          "output_type": "display_data"
        }
      ],
      "source": [
        "# построим гистограмму потенциально прибыльных платформ за 2016 г.\n",
        "platform_sales2 = top5_2016.pivot_table(\n",
        "    index='platform', values='total_sales', aggfunc='sum').sort_values(by='total_sales', ascending=False)\n",
        "plt.figure(figsize=(13,6))\n",
        "sns.barplot(x=platform_sales2.index,y=platform_sales2['total_sales'])\n",
        "plt.title(\"Продажи платформ\")\n",
        "plt.xlabel(\"Платформа\")\n",
        "plt.ylabel(\"Продажи\")"
      ]
    },
    {
      "cell_type": "code",
      "execution_count": null,
      "metadata": {
        "id": "KvVqc0SbuuNi"
      },
      "outputs": [],
      "source": [
        "top5_2016_upd = top5_2016.query('platform == \"ps4\" or platform == \"xone\" or platform == \"3ds\" or platform == \"pc\" or platform == \"wiiu\"')"
      ]
    },
    {
      "cell_type": "code",
      "execution_count": null,
      "metadata": {
        "colab": {
          "base_uri": "https://localhost:8080/",
          "height": 410
        },
        "id": "qtsBPBEK0qtn",
        "outputId": "c77a3333-b6d6-4c30-9998-868685e3b56e"
      },
      "outputs": [
        {
          "data": {
            "image/png": "[encoded data removed]",
            "text/plain": [
              "<Figure size 1440x432 with 1 Axes>"
            ]
          },
          "metadata": {},
          "output_type": "display_data"
        }
      ],
      "source": [
        "# диаграмма размах по общим продажам в разрезе платформ\n",
        "fig, ax = plt.subplots(figsize=(20,6))\n",
        "sns.boxplot(y=\"platform\", x='total_sales', data=top5_2016_upd, orient='h', palette='rocket')\n",
        "ax.set_xticks(np.arange(0,2,0.1))\n",
        "plt.title('График ящик с усами по глобальным продажам по платформам в актуальном периоде 2016')\n",
        "ax.set_xlabel('продажи млн. шт')\n",
        "ax.set_ylabel('наименование платформы')\n",
        "ax.set_xlim(0, 2)\n",
        "plt.show()"
      ]
    },
    {
      "cell_type": "markdown",
      "metadata": {
        "id": "EOCEvVT22s6o"
      },
      "source": [
        " #### Резюме.\n",
        " * самое большое медианное значение и межквартильный размах у платформы wiiu;\n",
        " * самое маленькое медианное значение и самые маленькие \"усы\" у платформы pc;\n",
        " * наибольшее количество выбросов и самые длинные \"усы\" наблюдается у платформы ps4.\n",
        " * наличие подобных продолжительных выбросов у платформы ps4 и xone может быть связано с постэффектом прежней популярности - они продавались большими партиями.\n"
      ]
    },
    {
      "cell_type": "markdown",
      "metadata": {
        "id": "1igxsj2RAID6"
      },
      "source": [
        "#### Посмотрим, как влияют на продажи внутри одной популярной платформы отзывы пользователей и критиков - ps4. Построим диаграмму рассеяния и посчитаем корреляцию между отзывами и продажами. "
      ]
    },
    {
      "cell_type": "code",
      "execution_count": null,
      "metadata": {
        "colab": {
          "base_uri": "https://localhost:8080/",
          "height": 343
        },
        "id": "65wrlQQVtuwj",
        "outputId": "83ace1e2-2f4a-4353-ca3d-2536550d9ed2"
      },
      "outputs": [
        {
          "name": "stderr",
          "output_type": "stream",
          "text": [
            "*c* argument looks like a single numeric RGB or RGBA sequence, which should be avoided as value-mapping will have precedence in case its length matches with *x* & *y*.  Please use the *color* keyword-argument or provide a 2-D array with a single row if you intend to specify the same RGB or RGBA value for all points.\n"
          ]
        },
        {
          "data": {
            "text/plain": [
              "<AxesSubplot:xlabel='critic_score', ylabel='total_sales'>"
            ]
          },
          "execution_count": 39,
          "metadata": {},
          "output_type": "execute_result"
        },
        {
          "data": {
            "image/png": "[encoded data removed]",
            "text/plain": [
              "<Figure size 432x288 with 1 Axes>"
            ]
          },
          "metadata": {},
          "output_type": "display_data"
        }
      ],
      "source": [
        "# Сгенерируем диаграмму рассеяния, показывающую взаимосвязь между продажами и рейтингом критиков для популярной платформы ps4.\n",
        "ps4 = games_act.query('platform == \"ps4\"')\n",
        "ps4.plot(x = 'critic_score', y = 'total_sales', kind = 'scatter')"
      ]
    },
    {
      "cell_type": "code",
      "execution_count": null,
      "metadata": {
        "colab": {
          "base_uri": "https://localhost:8080/",
          "height": 343
        },
        "id": "w7srv1dc2jSQ",
        "outputId": "0c16899c-a5b3-4b6b-998c-6e2c64903704"
      },
      "outputs": [
        {
          "name": "stderr",
          "output_type": "stream",
          "text": [
            "*c* argument looks like a single numeric RGB or RGBA sequence, which should be avoided as value-mapping will have precedence in case its length matches with *x* & *y*.  Please use the *color* keyword-argument or provide a 2-D array with a single row if you intend to specify the same RGB or RGBA value for all points.\n"
          ]
        },
        {
          "data": {
            "text/plain": [
              "<AxesSubplot:xlabel='user_score', ylabel='total_sales'>"
            ]
          },
          "execution_count": 40,
          "metadata": {},
          "output_type": "execute_result"
        },
        {
          "data": {
            "image/png": "[encoded data removed]",
            "text/plain": [
              "<Figure size 432x288 with 1 Axes>"
            ]
          },
          "metadata": {},
          "output_type": "display_data"
        }
      ],
      "source": [
        "# Сгенерируем диаграмму рассеяния, показывающую взаимосвязь между продажами и рейтингом пользователей для популярной платформы ps4.\n",
        "ps4.plot(x = 'user_score', y = 'total_sales', kind = 'scatter')"
      ]
    },
    {
      "cell_type": "code",
      "execution_count": null,
      "metadata": {
        "colab": {
          "base_uri": "https://localhost:8080/"
        },
        "id": "lC9-JU-e4tym",
        "outputId": "fc43461a-a587-4840-fb6c-f9fd46e9c5ba"
      },
      "outputs": [
        {
          "name": "stdout",
          "output_type": "stream",
          "text": [
            "корреляция для платформы ps4 = 0.40656790206178095\n"
          ]
        }
      ],
      "source": [
        "# рассчитываем корреляцию для столбцов 'critic_score' и 'total_sales'\n",
        "print('корреляция для платформы ps4 =', ps4['critic_score'].corr(ps4['total_sales']))"
      ]
    },
    {
      "cell_type": "code",
      "execution_count": null,
      "metadata": {
        "colab": {
          "base_uri": "https://localhost:8080/"
        },
        "id": "7TCGacDW5Sxv",
        "outputId": "fff84ec4-3321-49a5-8207-4bef57c872fe"
      },
      "outputs": [
        {
          "name": "stdout",
          "output_type": "stream",
          "text": [
            "корреляция для платформы ps4 = -0.031957109005188264\n"
          ]
        }
      ],
      "source": [
        "# рассчитываем корреляцию для столбцов 'user_score' и 'total_sales'\n",
        "print('корреляция для платформы ps4 =', ps4['user_score'].corr(ps4['total_sales']))"
      ]
    },
    {
      "cell_type": "markdown",
      "metadata": {
        "id": "3O1xnyQ-BzMr"
      },
      "source": [
        "#### Соотнесем выводы с продажами игр на других платформах."
      ]
    },
    {
      "cell_type": "code",
      "execution_count": null,
      "metadata": {
        "id": "BEr1Mc2K9imh"
      },
      "outputs": [],
      "source": [
        "# делаем срез из датафрейма games по платформам из top-5 (ps3, x360, 3ds, xone)\n",
        "top5_scat = games_act.query('platform == \"ps3\" or platform == \"x360\" or platform == \"3ds\" or platform == \"xone\"')"
      ]
    },
    {
      "cell_type": "code",
      "execution_count": null,
      "metadata": {
        "colab": {
          "base_uri": "https://localhost:8080/"
        },
        "id": "UcvwW2xpCVhj",
        "outputId": "14e4c8cb-a04b-4942-80ba-02674b0deb26"
      },
      "outputs": [
        {
          "data": {
            "text/plain": [
              "array(['ps3', 'x360', '3ds', 'xone'], dtype=object)"
            ]
          },
          "execution_count": 44,
          "metadata": {},
          "output_type": "execute_result"
        }
      ],
      "source": [
        "#Составим список платформ из top-5.\n",
        "top5_scat_list = top5_scat['platform'].unique()\n",
        "top5_scat_list"
      ]
    },
    {
      "cell_type": "code",
      "execution_count": null,
      "metadata": {
        "colab": {
          "base_uri": "https://localhost:8080/",
          "height": 1000
        },
        "id": "ltLLnAqXC3lC",
        "outputId": "562f079f-ff75-4360-e9af-ecfa7097a323"
      },
      "outputs": [
        {
          "name": "stderr",
          "output_type": "stream",
          "text": [
            "*c* argument looks like a single numeric RGB or RGBA sequence, which should be avoided as value-mapping will have precedence in case its length matches with *x* & *y*.  Please use the *color* keyword-argument or provide a 2-D array with a single row if you intend to specify the same RGB or RGBA value for all points.\n",
            "*c* argument looks like a single numeric RGB or RGBA sequence, which should be avoided as value-mapping will have precedence in case its length matches with *x* & *y*.  Please use the *color* keyword-argument or provide a 2-D array with a single row if you intend to specify the same RGB or RGBA value for all points.\n",
            "*c* argument looks like a single numeric RGB or RGBA sequence, which should be avoided as value-mapping will have precedence in case its length matches with *x* & *y*.  Please use the *color* keyword-argument or provide a 2-D array with a single row if you intend to specify the same RGB or RGBA value for all points.\n",
            "*c* argument looks like a single numeric RGB or RGBA sequence, which should be avoided as value-mapping will have precedence in case its length matches with *x* & *y*.  Please use the *color* keyword-argument or provide a 2-D array with a single row if you intend to specify the same RGB or RGBA value for all points.\n"
          ]
        },
        {
          "data": {
            "image/png": "[encoded data removed]",
            "text/plain": [
              "<Figure size 432x288 with 1 Axes>"
            ]
          },
          "metadata": {},
          "output_type": "display_data"
        },
        {
          "data": {
            "image/png": "[encoded data removed]",
            "text/plain": [
              "<Figure size 432x288 with 1 Axes>"
            ]
          },
          "metadata": {},
          "output_type": "display_data"
        },
        {
          "data": {
            "image/png": "[encoded data removed]",
            "text/plain": [
              "<Figure size 432x288 with 1 Axes>"
            ]
          },
          "metadata": {},
          "output_type": "display_data"
        },
        {
          "data": {
            "image/png": "[encoded data removed]",
            "text/plain": [
              "<Figure size 432x288 with 1 Axes>"
            ]
          },
          "metadata": {},
          "output_type": "display_data"
        }
      ],
      "source": [
        "# напишем цикл и сгенерируем диаграммы рассеяния для ps3, x360, 3ds, xone для оценок критиков.\n",
        "for platform in top5_scat_list:\n",
        "  top5_scat[top5_scat['platform'] == platform].plot(x = 'critic_score', y = 'total_sales', kind = 'scatter')"
      ]
    },
    {
      "cell_type": "code",
      "execution_count": null,
      "metadata": {
        "colab": {
          "base_uri": "https://localhost:8080/",
          "height": 1000
        },
        "id": "Ewy1OEK-XC7H",
        "outputId": "2582f120-9a7a-436d-9383-e728d1d56675"
      },
      "outputs": [
        {
          "name": "stderr",
          "output_type": "stream",
          "text": [
            "*c* argument looks like a single numeric RGB or RGBA sequence, which should be avoided as value-mapping will have precedence in case its length matches with *x* & *y*.  Please use the *color* keyword-argument or provide a 2-D array with a single row if you intend to specify the same RGB or RGBA value for all points.\n",
            "*c* argument looks like a single numeric RGB or RGBA sequence, which should be avoided as value-mapping will have precedence in case its length matches with *x* & *y*.  Please use the *color* keyword-argument or provide a 2-D array with a single row if you intend to specify the same RGB or RGBA value for all points.\n",
            "*c* argument looks like a single numeric RGB or RGBA sequence, which should be avoided as value-mapping will have precedence in case its length matches with *x* & *y*.  Please use the *color* keyword-argument or provide a 2-D array with a single row if you intend to specify the same RGB or RGBA value for all points.\n",
            "*c* argument looks like a single numeric RGB or RGBA sequence, which should be avoided as value-mapping will have precedence in case its length matches with *x* & *y*.  Please use the *color* keyword-argument or provide a 2-D array with a single row if you intend to specify the same RGB or RGBA value for all points.\n"
          ]
        },
        {
          "data": {
            "image/png": "[encoded data removed]",
            "text/plain": [
              "<Figure size 432x288 with 1 Axes>"
            ]
          },
          "metadata": {},
          "output_type": "display_data"
        },
        {
          "data": {
            "image/png": "[encoded data removed]",
            "text/plain": [
              "<Figure size 432x288 with 1 Axes>"
            ]
          },
          "metadata": {},
          "output_type": "display_data"
        },
        {
          "data": {
            "image/png": "[encoded data removed]",
            "text/plain": [
              "<Figure size 432x288 with 1 Axes>"
            ]
          },
          "metadata": {},
          "output_type": "display_data"
        },
        {
          "data": {
            "image/png": "[encoded data removed]",
            "text/plain": [
              "<Figure size 432x288 with 1 Axes>"
            ]
          },
          "metadata": {},
          "output_type": "display_data"
        }
      ],
      "source": [
        "# напишем цикл и сгенерируем диаграммы рассеяния для ps3, x360, 3ds, xone для оценок пользователей.\n",
        "for platform in top5_scat_list:\n",
        "  top5_scat[top5_scat['platform'] == platform].plot(x = 'user_score', y = 'total_sales', kind = 'scatter')"
      ]
    },
    {
      "cell_type": "code",
      "execution_count": null,
      "metadata": {
        "colab": {
          "base_uri": "https://localhost:8080/"
        },
        "id": "iJCGWrhf_EeM",
        "outputId": "5d23aa5f-afba-4634-c956-4899a7f57dd2"
      },
      "outputs": [
        {
          "name": "stdout",
          "output_type": "stream",
          "text": [
            "корреляция для платформы ps3 = 0.3314972592629587\n",
            "корреляция для платформы x360 = 0.3605734888507336\n",
            "корреляция для платформы 3ds = 0.3208028695360785\n",
            "корреляция для платформы xone = 0.4169983280084017\n"
          ]
        }
      ],
      "source": [
        "# рассчитываем корреляцию для столбцов 'critic_score' и 'total_sales' для остальных платформ из top-5.\n",
        "for platform in top5_scat_list:\n",
        "  print('корреляция для платформы ' + str(platform), '=', top5_scat[top5_scat['platform'] == platform]['critic_score'].\n",
        "        corr(top5_scat[top5_scat['platform'] == platform]['total_sales']))"
      ]
    },
    {
      "cell_type": "code",
      "execution_count": null,
      "metadata": {
        "colab": {
          "base_uri": "https://localhost:8080/"
        },
        "id": "0zhaR6mU_EUH",
        "outputId": "732ca1a8-4abf-490a-aff7-b9b7ed66a491"
      },
      "outputs": [
        {
          "name": "stdout",
          "output_type": "stream",
          "text": [
            "корреляция для платформы ps3 = -0.005143521263447908\n",
            "корреляция для платформы x360 = 0.00616398880247941\n",
            "корреляция для платформы 3ds = 0.19758261153521017\n",
            "корреляция для платформы xone = -0.06892505319711206\n"
          ]
        }
      ],
      "source": [
        "# рассчитываем корреляцию для столбцов 'user_score' и 'total_sales' для остальных платформ из top-5.\n",
        "for platform in top5_scat_list:\n",
        "  print('корреляция для платформы ' + str(platform), '=', top5_scat[top5_scat['platform'] == platform]['user_score'].\n",
        "        corr(top5_scat[top5_scat['platform'] == platform]['total_sales']))"
      ]
    },
    {
      "cell_type": "markdown",
      "metadata": {
        "id": "VJRXpUU16Bvh"
      },
      "source": [
        "#### Вывод исходя из полученных данных по корреляции:\n",
        "#### по платформе ps4:\n",
        "* рейтинг критиков - суммарные продажи - корр = 0.41 - слабовыраженная корреляция.\n",
        "* рейтинг пользователей цена - суммарные продажи - корр = -0.03 - корреляция отсутствует.\n",
        "#### по платформе ps3:\n",
        "* рейтинг критиков - суммарные продажи - корр = 0.33 - слабовыраженная корреляция.\n",
        "* рейтинг пользователей цена - суммарные продажи - корр = -0.005 - корреляция отсутствует.\n",
        "#### по платформе x360:\n",
        "* рейтинг критиков - суммарные продажи - корр = 0.36 - слабовыраженная корреляция.\n",
        "* рейтинг пользователей цена - суммарные продажи - корр = 0.006 - корреляция отсутствует.\n",
        "#### по платформе 3ds:\n",
        "* рейтинг критиков - суммарные продажи - корр = 0.32 - слабовыраженная корреляция.\n",
        "* рейтинг пользователей цена - суммарные продажи - корр = 0.20 -  корреляция отсутствует.\n",
        "#### по платформе xone:\n",
        "* рейтинг критиков - суммарные продажи - корр = 0.42 - слабая корреляция.\n",
        "* рейтинг пользователей цена - суммарные продажи - корр = -0.07 - корреляция отсутствует.\n",
        "\n",
        "####  Вывод.\n",
        "#### между рейтингом критиков и суммарными продажами присутствует слабовыраженная корреляция и корреляция отсутствует между рейтингом пользователей и суммарными продажами.\n",
        "\n",
        "\n"
      ]
    },
    {
      "cell_type": "markdown",
      "metadata": {
        "id": "-5BDoyxjhcZh"
      },
      "source": [
        "#### определим жанр, где игры приносят стабильно высокий доход."
      ]
    },
    {
      "cell_type": "code",
      "execution_count": null,
      "metadata": {
        "colab": {
          "base_uri": "https://localhost:8080/",
          "height": 426
        },
        "id": "uqNg_cIimAWX",
        "outputId": "4a5fb9a4-a8c8-48c9-8da5-f487dd91b5c7"
      },
      "outputs": [
        {
          "data": {
            "text/html": [
              "<div>\n",
              "<style scoped>\n",
              "    .dataframe tbody tr th:only-of-type {\n",
              "        vertical-align: middle;\n",
              "    }\n",
              "\n",
              "    .dataframe tbody tr th {\n",
              "        vertical-align: top;\n",
              "    }\n",
              "\n",
              "    .dataframe thead th {\n",
              "        text-align: right;\n",
              "    }\n",
              "</style>\n",
              "<table border=\"1\" class=\"dataframe\">\n",
              "  <thead>\n",
              "    <tr style=\"text-align: right;\">\n",
              "      <th></th>\n",
              "      <th>genre</th>\n",
              "      <th>total_sales</th>\n",
              "    </tr>\n",
              "  </thead>\n",
              "  <tbody>\n",
              "    <tr>\n",
              "      <th>0</th>\n",
              "      <td>shooter</td>\n",
              "      <td>0.813191</td>\n",
              "    </tr>\n",
              "    <tr>\n",
              "      <th>1</th>\n",
              "      <td>sports</td>\n",
              "      <td>0.489375</td>\n",
              "    </tr>\n",
              "    <tr>\n",
              "      <th>2</th>\n",
              "      <td>role-playing</td>\n",
              "      <td>0.336667</td>\n",
              "    </tr>\n",
              "    <tr>\n",
              "      <th>3</th>\n",
              "      <td>fighting</td>\n",
              "      <td>0.279375</td>\n",
              "    </tr>\n",
              "    <tr>\n",
              "      <th>4</th>\n",
              "      <td>platform</td>\n",
              "      <td>0.215333</td>\n",
              "    </tr>\n",
              "    <tr>\n",
              "      <th>5</th>\n",
              "      <td>action</td>\n",
              "      <td>0.169157</td>\n",
              "    </tr>\n",
              "    <tr>\n",
              "      <th>6</th>\n",
              "      <td>racing</td>\n",
              "      <td>0.116250</td>\n",
              "    </tr>\n",
              "    <tr>\n",
              "      <th>7</th>\n",
              "      <td>simulation</td>\n",
              "      <td>0.105000</td>\n",
              "    </tr>\n",
              "    <tr>\n",
              "      <th>8</th>\n",
              "      <td>strategy</td>\n",
              "      <td>0.086923</td>\n",
              "    </tr>\n",
              "    <tr>\n",
              "      <th>9</th>\n",
              "      <td>misc</td>\n",
              "      <td>0.081250</td>\n",
              "    </tr>\n",
              "    <tr>\n",
              "      <th>10</th>\n",
              "      <td>adventure</td>\n",
              "      <td>0.068214</td>\n",
              "    </tr>\n",
              "    <tr>\n",
              "      <th>11</th>\n",
              "      <td>puzzle</td>\n",
              "      <td>0.010000</td>\n",
              "    </tr>\n",
              "  </tbody>\n",
              "</table>\n",
              "</div>"
            ],
            "text/plain": [
              "           genre  total_sales\n",
              "0        shooter     0.813191\n",
              "1         sports     0.489375\n",
              "2   role-playing     0.336667\n",
              "3       fighting     0.279375\n",
              "4       platform     0.215333\n",
              "5         action     0.169157\n",
              "6         racing     0.116250\n",
              "7     simulation     0.105000\n",
              "8       strategy     0.086923\n",
              "9           misc     0.081250\n",
              "10     adventure     0.068214\n",
              "11        puzzle     0.010000"
            ]
          },
          "execution_count": 49,
          "metadata": {},
          "output_type": "execute_result"
        }
      ],
      "source": [
        "genre_top5 = top5_2016.pivot_table(index='genre',\n",
        "                           values='total_sales',\n",
        "                           aggfunc='mean').sort_values(by='total_sales', ascending=False)\n",
        "genre_top5 = genre_top5.reset_index().rename_axis(None, axis=1)\n",
        "genre_top5"
      ]
    },
    {
      "cell_type": "code",
      "execution_count": null,
      "metadata": {
        "colab": {
          "base_uri": "https://localhost:8080/",
          "height": 431
        },
        "id": "xcmkG5JGyCRz",
        "outputId": "c13c9525-56ed-4fda-fc68-ecb8ba2db610"
      },
      "outputs": [
        {
          "data": {
            "text/plain": [
              "Text(0, 0.5, 'total_sales')"
            ]
          },
          "execution_count": 50,
          "metadata": {},
          "output_type": "execute_result"
        },
        {
          "data": {
            "image/png": "[encoded data removed]",
            "text/plain": [
              "<Figure size 864x432 with 1 Axes>"
            ]
          },
          "metadata": {},
          "output_type": "display_data"
        }
      ],
      "source": [
        "# выведем гистограмму распределения продаж по жанрам по убыванию.\n",
        "plt.figure(figsize=(12,6))\n",
        "plt.title('Distribution',fontsize=15)\n",
        "sns.barplot(data=genre_top5, x='genre', y='total_sales')\n",
        "plt.xlabel('genre',fontsize=12)\n",
        "plt.ylabel('total_sales',fontsize=12)"
      ]
    },
    {
      "cell_type": "markdown",
      "metadata": {
        "id": "yYYQ3KMGCVpT"
      },
      "source": [
        "#### Самые прибыльные жанры:\n",
        "* shooter;\n",
        "* sports;\n",
        "* role-playing.\n",
        "#### Низкие продажи наблюдаются у:\n",
        "* misc;\n",
        "* adventure;\n",
        "* puzzle."
      ]
    },
    {
      "cell_type": "markdown",
      "metadata": {
        "id": "E9jMzXapOZr6"
      },
      "source": [
        "##### Вывод.\n",
        "\n",
        "1. В период  с 1980 года по 1990 год количество продаж было относительно малым, с 1991 год наблюдался рост вплоть до 2008-2009 года, затем количество продаж пошло на убыль до 2016 года. \n",
        "2. Топ-5 платформ с наибольшими суммарными продажами (top-5):\n",
        "* ps2\n",
        "* x360\n",
        "* ps3\n",
        "* wii\n",
        "* ds.\n",
        "3. Жизненный цикл платформы находится в диапазоне 10-11 лет.\n",
        "4. Диапазон соответствующего актуального периода охватывает период с 2012 до 2016 года.\n",
        "5. C 2012 года лидируют по продажам платформы: ps4, ps3, x360.\n",
        "* рост продаж не наблюдается ни у одной из платформ.\n",
        "6. Потенциально прибыльными платформами по отношению к 2016 году являются:\n",
        "* ps4;\n",
        "* xone;\n",
        "* 3ds\n",
        "7. резюме по графику \"ящик с усами\"\n",
        "* самое большое медианное значение и межквартильный размах у платформы wiiu;\n",
        "* самое маленькое медианное значение и самые маленькие \"усы\" у платформы pc;\n",
        "* наибольшее количество выбросов и самые длинные \"усы\" наблюдается у платформы ps4.\n",
        "* наличие подобных продолжительных выбросов у платформы ps4 и xone может быть связано с постэффектом прежней популярности - они продавались большими партиями.\n",
        "8. Вывод исходя из полученных данных по корреляции:\n",
        "* между рейтингом критиков и суммарными продажами присутствует слабовыраженная корреляция;\n",
        "* корреляция отсутствует между рейтингом пользователей и суммарными продажами.\n",
        "9. Самые прибыльные жанры:\n",
        "* shooter;\n",
        "* sports;\n",
        "* role-playing.\n",
        "10. Низкие продажи наблюдаются у:\n",
        "* misc;\n",
        "* adventure;\n",
        "* puzzle.\n"
      ]
    },
    {
      "cell_type": "markdown",
      "metadata": {
        "id": "CqzFt8sl_qqI"
      },
      "source": [
        "### ШАГ 4. Составляем портрет пользователя каждого региона."
      ]
    },
    {
      "cell_type": "markdown",
      "metadata": {
        "id": "Kgypihw7bMQp"
      },
      "source": [
        "#### Портрет пользователя Северной Америки.\n",
        "#### Самые популярные платформы."
      ]
    },
    {
      "cell_type": "code",
      "execution_count": null,
      "metadata": {
        "colab": {
          "base_uri": "https://localhost:8080/",
          "height": 206
        },
        "id": "QLGEPRVTXQZN",
        "outputId": "450d2d48-f14d-4d06-d8bf-14d72fa9fb59"
      },
      "outputs": [
        {
          "data": {
            "text/html": [
              "<div>\n",
              "<style scoped>\n",
              "    .dataframe tbody tr th:only-of-type {\n",
              "        vertical-align: middle;\n",
              "    }\n",
              "\n",
              "    .dataframe tbody tr th {\n",
              "        vertical-align: top;\n",
              "    }\n",
              "\n",
              "    .dataframe thead th {\n",
              "        text-align: right;\n",
              "    }\n",
              "</style>\n",
              "<table border=\"1\" class=\"dataframe\">\n",
              "  <thead>\n",
              "    <tr style=\"text-align: right;\">\n",
              "      <th></th>\n",
              "      <th>index</th>\n",
              "      <th>platform</th>\n",
              "      <th>na_sales</th>\n",
              "      <th>sales_%</th>\n",
              "    </tr>\n",
              "  </thead>\n",
              "  <tbody>\n",
              "    <tr>\n",
              "      <th>0</th>\n",
              "      <td>3</td>\n",
              "      <td>ps4</td>\n",
              "      <td>114</td>\n",
              "      <td>40.43</td>\n",
              "    </tr>\n",
              "    <tr>\n",
              "      <th>1</th>\n",
              "      <td>8</td>\n",
              "      <td>xone</td>\n",
              "      <td>79</td>\n",
              "      <td>28.01</td>\n",
              "    </tr>\n",
              "    <tr>\n",
              "      <th>2</th>\n",
              "      <td>1</td>\n",
              "      <td>pc</td>\n",
              "      <td>21</td>\n",
              "      <td>7.45</td>\n",
              "    </tr>\n",
              "    <tr>\n",
              "      <th>3</th>\n",
              "      <td>0</td>\n",
              "      <td>3ds</td>\n",
              "      <td>19</td>\n",
              "      <td>6.74</td>\n",
              "    </tr>\n",
              "    <tr>\n",
              "      <th>4</th>\n",
              "      <td>2</td>\n",
              "      <td>ps3</td>\n",
              "      <td>17</td>\n",
              "      <td>6.03</td>\n",
              "    </tr>\n",
              "  </tbody>\n",
              "</table>\n",
              "</div>"
            ],
            "text/plain": [
              "   index platform  na_sales  sales_%\n",
              "0      3      ps4       114    40.43\n",
              "1      8     xone        79    28.01\n",
              "2      1       pc        21     7.45\n",
              "3      0      3ds        19     6.74\n",
              "4      2      ps3        17     6.03"
            ]
          },
          "metadata": {},
          "output_type": "display_data"
        }
      ],
      "source": [
        "na_rel = games.loc[(games['na_sales']!=0)&(games['year_of_release'] == 2016)]\n",
        "# формируем сводную таблицу.\n",
        "na_dist = na_rel.pivot_table(index='platform', values='na_sales',aggfunc='count',margins=True,margins_name='total').reset_index()\n",
        "# добавляем столбец sales_%.\n",
        "na_dist['sales_%'] = round(na_dist['na_sales']*100/na_dist.iloc[-1, 1], 2)\n",
        "na_dist.drop(na_dist.index[-1], inplace=True)\n",
        "# выводим доли продаж по убыванию по первым 5 платформам.\n",
        "display(na_dist.sort_values('na_sales',ascending=False).reset_index().head())"
      ]
    },
    {
      "cell_type": "markdown",
      "metadata": {
        "id": "goeQo0CQbzgX"
      },
      "source": [
        "##### Самые популярные платформы в Северной Америке:\n",
        "* ps4;\n",
        "* xone;\n",
        "* pc;\n",
        "* 3ds;\n",
        "* ps3."
      ]
    },
    {
      "cell_type": "markdown",
      "metadata": {
        "id": "LqkD0b5YcPD3"
      },
      "source": [
        "#### Портрет пользователя Европы.\n",
        "#### Самые популярные платформы.\n"
      ]
    },
    {
      "cell_type": "code",
      "execution_count": null,
      "metadata": {
        "colab": {
          "base_uri": "https://localhost:8080/",
          "height": 206
        },
        "id": "RouRcqRTcVzs",
        "outputId": "e45ffa50-0d3d-4d90-d5e5-2bba1fdf336d"
      },
      "outputs": [
        {
          "data": {
            "text/html": [
              "<div>\n",
              "<style scoped>\n",
              "    .dataframe tbody tr th:only-of-type {\n",
              "        vertical-align: middle;\n",
              "    }\n",
              "\n",
              "    .dataframe tbody tr th {\n",
              "        vertical-align: top;\n",
              "    }\n",
              "\n",
              "    .dataframe thead th {\n",
              "        text-align: right;\n",
              "    }\n",
              "</style>\n",
              "<table border=\"1\" class=\"dataframe\">\n",
              "  <thead>\n",
              "    <tr style=\"text-align: right;\">\n",
              "      <th></th>\n",
              "      <th>index</th>\n",
              "      <th>platform</th>\n",
              "      <th>eu_sales</th>\n",
              "      <th>sales_%</th>\n",
              "    </tr>\n",
              "  </thead>\n",
              "  <tbody>\n",
              "    <tr>\n",
              "      <th>0</th>\n",
              "      <td>3</td>\n",
              "      <td>ps4</td>\n",
              "      <td>164</td>\n",
              "      <td>32.67</td>\n",
              "    </tr>\n",
              "    <tr>\n",
              "      <th>1</th>\n",
              "      <td>8</td>\n",
              "      <td>xone</td>\n",
              "      <td>87</td>\n",
              "      <td>17.33</td>\n",
              "    </tr>\n",
              "    <tr>\n",
              "      <th>2</th>\n",
              "      <td>4</td>\n",
              "      <td>psv</td>\n",
              "      <td>85</td>\n",
              "      <td>16.93</td>\n",
              "    </tr>\n",
              "    <tr>\n",
              "      <th>3</th>\n",
              "      <td>1</td>\n",
              "      <td>pc</td>\n",
              "      <td>54</td>\n",
              "      <td>10.76</td>\n",
              "    </tr>\n",
              "    <tr>\n",
              "      <th>4</th>\n",
              "      <td>0</td>\n",
              "      <td>3ds</td>\n",
              "      <td>46</td>\n",
              "      <td>9.16</td>\n",
              "    </tr>\n",
              "  </tbody>\n",
              "</table>\n",
              "</div>"
            ],
            "text/plain": [
              "   index platform  eu_sales  sales_%\n",
              "0      3      ps4       164    32.67\n",
              "1      8     xone        87    17.33\n",
              "2      4      psv        85    16.93\n",
              "3      1       pc        54    10.76\n",
              "4      0      3ds        46     9.16"
            ]
          },
          "metadata": {},
          "output_type": "display_data"
        }
      ],
      "source": [
        "eu_rel = games.loc[(games['eu_sales']!=0)&(games['year_of_release'] == 2016)]\n",
        "# формируем сводную таблицу.\n",
        "eu_dist = top5_2016.pivot_table(index='platform', values='eu_sales',aggfunc='count',margins=True, margins_name = 'total').reset_index()\n",
        "# добавляем столбец sales_%.\n",
        "eu_dist['sales_%'] = round(eu_dist['eu_sales']*100/eu_dist.iloc[-1, 1], 2)\n",
        "eu_dist.drop(eu_dist.index[-1], inplace=True)\n",
        "# выводим доли продаж по убыванию по первым 5 платформам.\n",
        "display(eu_dist.sort_values('eu_sales',ascending=False).reset_index().head())"
      ]
    },
    {
      "cell_type": "markdown",
      "metadata": {
        "id": "_F6MpJqxdlvo"
      },
      "source": [
        "##### Самые популярные платформы в Европе:\n",
        "* ps4;\n",
        "* xone;\n",
        "* psv;\n",
        "* pc;\n",
        "* 3ds."
      ]
    },
    {
      "cell_type": "markdown",
      "metadata": {
        "id": "aKrPHgZCeKxq"
      },
      "source": [
        "#### Портрет пользователя Японии.\n",
        "#### Самые популярные платформы."
      ]
    },
    {
      "cell_type": "code",
      "execution_count": null,
      "metadata": {
        "colab": {
          "base_uri": "https://localhost:8080/",
          "height": 206
        },
        "id": "PgsIWHmceRwD",
        "outputId": "266a1f7d-375c-4dd6-9354-7f8f4a0dc92d"
      },
      "outputs": [
        {
          "data": {
            "text/html": [
              "<div>\n",
              "<style scoped>\n",
              "    .dataframe tbody tr th:only-of-type {\n",
              "        vertical-align: middle;\n",
              "    }\n",
              "\n",
              "    .dataframe tbody tr th {\n",
              "        vertical-align: top;\n",
              "    }\n",
              "\n",
              "    .dataframe thead th {\n",
              "        text-align: right;\n",
              "    }\n",
              "</style>\n",
              "<table border=\"1\" class=\"dataframe\">\n",
              "  <thead>\n",
              "    <tr style=\"text-align: right;\">\n",
              "      <th></th>\n",
              "      <th>index</th>\n",
              "      <th>platform</th>\n",
              "      <th>jp_sales</th>\n",
              "      <th>sales_%</th>\n",
              "    </tr>\n",
              "  </thead>\n",
              "  <tbody>\n",
              "    <tr>\n",
              "      <th>0</th>\n",
              "      <td>2</td>\n",
              "      <td>ps4</td>\n",
              "      <td>84</td>\n",
              "      <td>35.59</td>\n",
              "    </tr>\n",
              "    <tr>\n",
              "      <th>1</th>\n",
              "      <td>3</td>\n",
              "      <td>psv</td>\n",
              "      <td>81</td>\n",
              "      <td>34.32</td>\n",
              "    </tr>\n",
              "    <tr>\n",
              "      <th>2</th>\n",
              "      <td>0</td>\n",
              "      <td>3ds</td>\n",
              "      <td>39</td>\n",
              "      <td>16.53</td>\n",
              "    </tr>\n",
              "    <tr>\n",
              "      <th>3</th>\n",
              "      <td>1</td>\n",
              "      <td>ps3</td>\n",
              "      <td>24</td>\n",
              "      <td>10.17</td>\n",
              "    </tr>\n",
              "    <tr>\n",
              "      <th>4</th>\n",
              "      <td>4</td>\n",
              "      <td>wiiu</td>\n",
              "      <td>7</td>\n",
              "      <td>2.97</td>\n",
              "    </tr>\n",
              "  </tbody>\n",
              "</table>\n",
              "</div>"
            ],
            "text/plain": [
              "   index platform  jp_sales  sales_%\n",
              "0      2      ps4        84    35.59\n",
              "1      3      psv        81    34.32\n",
              "2      0      3ds        39    16.53\n",
              "3      1      ps3        24    10.17\n",
              "4      4     wiiu         7     2.97"
            ]
          },
          "metadata": {},
          "output_type": "display_data"
        }
      ],
      "source": [
        "# делаем срезы из датафрейма\n",
        "jp_rel = games.loc[(games['jp_sales']!=0)&(games['year_of_release'] == 2016)]\n",
        "# формируем сводную таблицу.\n",
        "jp_dist = jp_rel.pivot_table(index='platform', values='jp_sales',aggfunc='count',margins=True, margins_name = 'total').reset_index()\n",
        "# добавляем столбец sales_%.\n",
        "jp_dist['sales_%'] = round(jp_dist['jp_sales']*100/jp_dist.iloc[-1, 1], 2)\n",
        "jp_dist.drop(jp_dist.index[-1], inplace=True)\n",
        "# выводим доли продаж по убыванию по первым 5 платформам.\n",
        "display(jp_dist.sort_values('jp_sales',ascending=False).reset_index().head())"
      ]
    },
    {
      "cell_type": "markdown",
      "metadata": {
        "id": "uLhKqF5Ae8Ax"
      },
      "source": [
        "##### Самые популярные платформы в Японии:\n",
        "* ps4;\n",
        "* psv;\n",
        "* 3ds;\n",
        "* ps3;\n",
        "* wiiu."
      ]
    },
    {
      "cell_type": "markdown",
      "metadata": {
        "id": "YPwXrrAkmVnU"
      },
      "source": [
        "#### Резюме по кейсу \"популярные платформы\".\n",
        "* Самые популярные платформы в Америке и Европе и Японии - PS4. \n",
        "* на втором месте в Америке и Европе - Xone, в Японии - PSV.\n",
        "* на третьем месте в Америке - PC, в Европе - PSV, в Японии - 3DS."
      ]
    },
    {
      "cell_type": "markdown",
      "metadata": {
        "id": "TxoDdG13hP-1"
      },
      "source": [
        "#### Самые популярные жанры в Северной Америке."
      ]
    },
    {
      "cell_type": "code",
      "execution_count": null,
      "metadata": {
        "colab": {
          "base_uri": "https://localhost:8080/",
          "height": 206
        },
        "id": "6-bRL3PahmNt",
        "outputId": "3d54c1de-d134-408f-ac9e-49e77510ef24"
      },
      "outputs": [
        {
          "data": {
            "text/html": [
              "<div>\n",
              "<style scoped>\n",
              "    .dataframe tbody tr th:only-of-type {\n",
              "        vertical-align: middle;\n",
              "    }\n",
              "\n",
              "    .dataframe tbody tr th {\n",
              "        vertical-align: top;\n",
              "    }\n",
              "\n",
              "    .dataframe thead th {\n",
              "        text-align: right;\n",
              "    }\n",
              "</style>\n",
              "<table border=\"1\" class=\"dataframe\">\n",
              "  <thead>\n",
              "    <tr style=\"text-align: right;\">\n",
              "      <th></th>\n",
              "      <th>index</th>\n",
              "      <th>genre</th>\n",
              "      <th>na_sales</th>\n",
              "      <th>sales_%</th>\n",
              "    </tr>\n",
              "  </thead>\n",
              "  <tbody>\n",
              "    <tr>\n",
              "      <th>0</th>\n",
              "      <td>0</td>\n",
              "      <td>action</td>\n",
              "      <td>98</td>\n",
              "      <td>34.75</td>\n",
              "    </tr>\n",
              "    <tr>\n",
              "      <th>1</th>\n",
              "      <td>7</td>\n",
              "      <td>shooter</td>\n",
              "      <td>45</td>\n",
              "      <td>15.96</td>\n",
              "    </tr>\n",
              "    <tr>\n",
              "      <th>2</th>\n",
              "      <td>9</td>\n",
              "      <td>sports</td>\n",
              "      <td>31</td>\n",
              "      <td>10.99</td>\n",
              "    </tr>\n",
              "    <tr>\n",
              "      <th>3</th>\n",
              "      <td>6</td>\n",
              "      <td>role-playing</td>\n",
              "      <td>23</td>\n",
              "      <td>8.16</td>\n",
              "    </tr>\n",
              "    <tr>\n",
              "      <th>4</th>\n",
              "      <td>1</td>\n",
              "      <td>adventure</td>\n",
              "      <td>19</td>\n",
              "      <td>6.74</td>\n",
              "    </tr>\n",
              "  </tbody>\n",
              "</table>\n",
              "</div>"
            ],
            "text/plain": [
              "   index         genre  na_sales  sales_%\n",
              "0      0        action        98    34.75\n",
              "1      7       shooter        45    15.96\n",
              "2      9        sports        31    10.99\n",
              "3      6  role-playing        23     8.16\n",
              "4      1     adventure        19     6.74"
            ]
          },
          "metadata": {},
          "output_type": "display_data"
        }
      ],
      "source": [
        "# формируем сводную таблицу.\n",
        "na_dist_genre = na_rel.pivot_table(index='genre', values='na_sales',aggfunc='count',margins=True,margins_name='total').reset_index()\n",
        "# добавляем столбец sales_%.\n",
        "na_dist_genre['sales_%'] = round(na_dist_genre['na_sales']*100/na_dist_genre.iloc[-1, 1], 2)\n",
        "na_dist_genre.drop(na_dist_genre.index[-1], inplace=True)\n",
        "# выводим доли продаж по убыванию по первым 5 платформам.\n",
        "display(na_dist_genre.sort_values('na_sales',ascending=False).reset_index().head())"
      ]
    },
    {
      "cell_type": "markdown",
      "metadata": {
        "id": "nN-L-tnZhdDF"
      },
      "source": [
        "#### Самые популярные жанры в Европе."
      ]
    },
    {
      "cell_type": "code",
      "execution_count": null,
      "metadata": {
        "colab": {
          "base_uri": "https://localhost:8080/",
          "height": 206
        },
        "id": "BBp281g9h0Dc",
        "outputId": "f8816a60-fe1b-4fbe-918b-399c58cb9136"
      },
      "outputs": [
        {
          "data": {
            "text/html": [
              "<div>\n",
              "<style scoped>\n",
              "    .dataframe tbody tr th:only-of-type {\n",
              "        vertical-align: middle;\n",
              "    }\n",
              "\n",
              "    .dataframe tbody tr th {\n",
              "        vertical-align: top;\n",
              "    }\n",
              "\n",
              "    .dataframe thead th {\n",
              "        text-align: right;\n",
              "    }\n",
              "</style>\n",
              "<table border=\"1\" class=\"dataframe\">\n",
              "  <thead>\n",
              "    <tr style=\"text-align: right;\">\n",
              "      <th></th>\n",
              "      <th>index</th>\n",
              "      <th>genre</th>\n",
              "      <th>eu_sales</th>\n",
              "      <th>sales_%</th>\n",
              "    </tr>\n",
              "  </thead>\n",
              "  <tbody>\n",
              "    <tr>\n",
              "      <th>0</th>\n",
              "      <td>0</td>\n",
              "      <td>action</td>\n",
              "      <td>84</td>\n",
              "      <td>29.68</td>\n",
              "    </tr>\n",
              "    <tr>\n",
              "      <th>1</th>\n",
              "      <td>8</td>\n",
              "      <td>shooter</td>\n",
              "      <td>39</td>\n",
              "      <td>13.78</td>\n",
              "    </tr>\n",
              "    <tr>\n",
              "      <th>2</th>\n",
              "      <td>10</td>\n",
              "      <td>sports</td>\n",
              "      <td>39</td>\n",
              "      <td>13.78</td>\n",
              "    </tr>\n",
              "    <tr>\n",
              "      <th>3</th>\n",
              "      <td>7</td>\n",
              "      <td>role-playing</td>\n",
              "      <td>26</td>\n",
              "      <td>9.19</td>\n",
              "    </tr>\n",
              "    <tr>\n",
              "      <th>4</th>\n",
              "      <td>6</td>\n",
              "      <td>racing</td>\n",
              "      <td>22</td>\n",
              "      <td>7.77</td>\n",
              "    </tr>\n",
              "  </tbody>\n",
              "</table>\n",
              "</div>"
            ],
            "text/plain": [
              "   index         genre  eu_sales  sales_%\n",
              "0      0        action        84    29.68\n",
              "1      8       shooter        39    13.78\n",
              "2     10        sports        39    13.78\n",
              "3      7  role-playing        26     9.19\n",
              "4      6        racing        22     7.77"
            ]
          },
          "metadata": {},
          "output_type": "display_data"
        }
      ],
      "source": [
        "# формируем сводную таблицу.\n",
        "eu_dist_genre = eu_rel.pivot_table(index='genre', values='eu_sales',aggfunc='count',margins=True, margins_name = 'total').reset_index()\n",
        "# добавляем столбец sales_%.\n",
        "eu_dist_genre['sales_%'] = round(eu_dist_genre['eu_sales']*100/eu_dist_genre.iloc[-1, 1], 2)\n",
        "eu_dist_genre.drop(eu_dist_genre.index[-1], inplace=True)\n",
        "# выводим доли продаж по убыванию по первым 5 платформам.\n",
        "display(eu_dist_genre.sort_values('eu_sales',ascending=False).reset_index().head())"
      ]
    },
    {
      "cell_type": "markdown",
      "metadata": {
        "id": "QkkUefIthczb"
      },
      "source": [
        "#### Самые популярные жанры в Японии."
      ]
    },
    {
      "cell_type": "code",
      "execution_count": null,
      "metadata": {
        "colab": {
          "base_uri": "https://localhost:8080/",
          "height": 206
        },
        "id": "OM4lxYR3h0_L",
        "outputId": "133a9c2e-c1bd-4627-b2ae-06aa83f3c299"
      },
      "outputs": [
        {
          "data": {
            "text/html": [
              "<div>\n",
              "<style scoped>\n",
              "    .dataframe tbody tr th:only-of-type {\n",
              "        vertical-align: middle;\n",
              "    }\n",
              "\n",
              "    .dataframe tbody tr th {\n",
              "        vertical-align: top;\n",
              "    }\n",
              "\n",
              "    .dataframe thead th {\n",
              "        text-align: right;\n",
              "    }\n",
              "</style>\n",
              "<table border=\"1\" class=\"dataframe\">\n",
              "  <thead>\n",
              "    <tr style=\"text-align: right;\">\n",
              "      <th></th>\n",
              "      <th>index</th>\n",
              "      <th>genre</th>\n",
              "      <th>jp_sales</th>\n",
              "      <th>sales_%</th>\n",
              "    </tr>\n",
              "  </thead>\n",
              "  <tbody>\n",
              "    <tr>\n",
              "      <th>0</th>\n",
              "      <td>0</td>\n",
              "      <td>action</td>\n",
              "      <td>94</td>\n",
              "      <td>39.83</td>\n",
              "    </tr>\n",
              "    <tr>\n",
              "      <th>1</th>\n",
              "      <td>6</td>\n",
              "      <td>role-playing</td>\n",
              "      <td>41</td>\n",
              "      <td>17.37</td>\n",
              "    </tr>\n",
              "    <tr>\n",
              "      <th>2</th>\n",
              "      <td>1</td>\n",
              "      <td>adventure</td>\n",
              "      <td>35</td>\n",
              "      <td>14.83</td>\n",
              "    </tr>\n",
              "    <tr>\n",
              "      <th>3</th>\n",
              "      <td>3</td>\n",
              "      <td>misc</td>\n",
              "      <td>19</td>\n",
              "      <td>8.05</td>\n",
              "    </tr>\n",
              "    <tr>\n",
              "      <th>4</th>\n",
              "      <td>2</td>\n",
              "      <td>fighting</td>\n",
              "      <td>13</td>\n",
              "      <td>5.51</td>\n",
              "    </tr>\n",
              "  </tbody>\n",
              "</table>\n",
              "</div>"
            ],
            "text/plain": [
              "   index         genre  jp_sales  sales_%\n",
              "0      0        action        94    39.83\n",
              "1      6  role-playing        41    17.37\n",
              "2      1     adventure        35    14.83\n",
              "3      3          misc        19     8.05\n",
              "4      2      fighting        13     5.51"
            ]
          },
          "metadata": {},
          "output_type": "display_data"
        }
      ],
      "source": [
        "# формируем сводную таблицу.\n",
        "jp_dist_genre = jp_rel.pivot_table(index='genre', values='jp_sales',aggfunc='count',margins=True, margins_name = 'total').reset_index()\n",
        "# добавляем столбец sales_%.\n",
        "jp_dist_genre['sales_%'] = round(jp_dist_genre['jp_sales']*100/jp_dist_genre.iloc[-1, 1], 2)\n",
        "jp_dist_genre.drop(jp_dist_genre.index[-1], inplace=True)\n",
        "# выводим доли продаж по убыванию по первым 5 платформам.\n",
        "display(jp_dist_genre.sort_values('jp_sales',ascending=False).reset_index().head())"
      ]
    },
    {
      "cell_type": "markdown",
      "metadata": {
        "id": "Jad13RcFVYBu"
      },
      "source": [
        "#### Резюме по кейсу \"популярные жанры\".\n",
        "* Самый популярный жанр в Америке, Европе и Японии - action. \n",
        "* на втором месте в Америке и Европе - shooter, в Японии - role-playing.\n",
        "* на третьем месте в Америке и Европе - sports, в Японии - adventure."
      ]
    },
    {
      "cell_type": "markdown",
      "metadata": {
        "id": "OPaBcEByY8rr"
      },
      "source": [
        "#### Посмотрим на влияние рейтинга ESRB на продажи в отдельном регионе."
      ]
    },
    {
      "cell_type": "code",
      "execution_count": null,
      "metadata": {
        "colab": {
          "base_uri": "https://localhost:8080/",
          "height": 175
        },
        "id": "Zj4YZ_ZkXfRh",
        "outputId": "e7bc1cd4-3d88-47b5-e522-1ff264ca3de1"
      },
      "outputs": [
        {
          "data": {
            "text/html": [
              "<div>\n",
              "<style scoped>\n",
              "    .dataframe tbody tr th:only-of-type {\n",
              "        vertical-align: middle;\n",
              "    }\n",
              "\n",
              "    .dataframe tbody tr th {\n",
              "        vertical-align: top;\n",
              "    }\n",
              "\n",
              "    .dataframe thead th {\n",
              "        text-align: right;\n",
              "    }\n",
              "</style>\n",
              "<table border=\"1\" class=\"dataframe\">\n",
              "  <thead>\n",
              "    <tr style=\"text-align: right;\">\n",
              "      <th></th>\n",
              "      <th>rating</th>\n",
              "      <th>na_sales</th>\n",
              "    </tr>\n",
              "  </thead>\n",
              "  <tbody>\n",
              "    <tr>\n",
              "      <th>0</th>\n",
              "      <td>m</td>\n",
              "      <td>15.67</td>\n",
              "    </tr>\n",
              "    <tr>\n",
              "      <th>1</th>\n",
              "      <td>t</td>\n",
              "      <td>8.95</td>\n",
              "    </tr>\n",
              "    <tr>\n",
              "      <th>2</th>\n",
              "      <td>0</td>\n",
              "      <td>8.53</td>\n",
              "    </tr>\n",
              "    <tr>\n",
              "      <th>3</th>\n",
              "      <td>e</td>\n",
              "      <td>7.97</td>\n",
              "    </tr>\n",
              "    <tr>\n",
              "      <th>4</th>\n",
              "      <td>e10+</td>\n",
              "      <td>3.81</td>\n",
              "    </tr>\n",
              "  </tbody>\n",
              "</table>\n",
              "</div>"
            ],
            "text/plain": [
              "  rating  na_sales\n",
              "0      m     15.67\n",
              "1      t      8.95\n",
              "2      0      8.53\n",
              "3      e      7.97\n",
              "4   e10+      3.81"
            ]
          },
          "execution_count": 57,
          "metadata": {},
          "output_type": "execute_result"
        }
      ],
      "source": [
        "# посмотрим на влияние рейтинга ESRB в Северной Америке.\n",
        "top5_2016['rating'].fillna(0, inplace=True)\n",
        "rating_na = top5_2016.pivot_table(index='rating',\n",
        "                           values='na_sales',\n",
        "                           aggfunc='sum').sort_values(by='na_sales', ascending=False)\n",
        "rating_na = rating_na.reset_index().rename_axis(None, axis=1)\n",
        "rating_na"
      ]
    },
    {
      "cell_type": "code",
      "execution_count": null,
      "metadata": {
        "colab": {
          "base_uri": "https://localhost:8080/",
          "height": 175
        },
        "id": "td0hQlmCZhQO",
        "outputId": "4daddbdc-7a4e-4226-ec81-ee72f346a381"
      },
      "outputs": [
        {
          "data": {
            "text/html": [
              "<div>\n",
              "<style scoped>\n",
              "    .dataframe tbody tr th:only-of-type {\n",
              "        vertical-align: middle;\n",
              "    }\n",
              "\n",
              "    .dataframe tbody tr th {\n",
              "        vertical-align: top;\n",
              "    }\n",
              "\n",
              "    .dataframe thead th {\n",
              "        text-align: right;\n",
              "    }\n",
              "</style>\n",
              "<table border=\"1\" class=\"dataframe\">\n",
              "  <thead>\n",
              "    <tr style=\"text-align: right;\">\n",
              "      <th></th>\n",
              "      <th>rating</th>\n",
              "      <th>eu_sales</th>\n",
              "    </tr>\n",
              "  </thead>\n",
              "  <tbody>\n",
              "    <tr>\n",
              "      <th>0</th>\n",
              "      <td>m</td>\n",
              "      <td>16.54</td>\n",
              "    </tr>\n",
              "    <tr>\n",
              "      <th>1</th>\n",
              "      <td>e</td>\n",
              "      <td>13.61</td>\n",
              "    </tr>\n",
              "    <tr>\n",
              "      <th>2</th>\n",
              "      <td>t</td>\n",
              "      <td>9.79</td>\n",
              "    </tr>\n",
              "    <tr>\n",
              "      <th>3</th>\n",
              "      <td>0</td>\n",
              "      <td>7.47</td>\n",
              "    </tr>\n",
              "    <tr>\n",
              "      <th>4</th>\n",
              "      <td>e10+</td>\n",
              "      <td>3.81</td>\n",
              "    </tr>\n",
              "  </tbody>\n",
              "</table>\n",
              "</div>"
            ],
            "text/plain": [
              "  rating  eu_sales\n",
              "0      m     16.54\n",
              "1      e     13.61\n",
              "2      t      9.79\n",
              "3      0      7.47\n",
              "4   e10+      3.81"
            ]
          },
          "execution_count": 58,
          "metadata": {},
          "output_type": "execute_result"
        }
      ],
      "source": [
        "# посмотрим на влияние рейтинга ESRB в Европе.\n",
        "rating_eu = top5_2016.pivot_table(index='rating',\n",
        "                           values='eu_sales',\n",
        "                           aggfunc='sum').sort_values(by='eu_sales', ascending=False)\n",
        "rating_eu = rating_eu.reset_index().rename_axis(None, axis=1)\n",
        "rating_eu"
      ]
    },
    {
      "cell_type": "code",
      "execution_count": null,
      "metadata": {
        "colab": {
          "base_uri": "https://localhost:8080/",
          "height": 175
        },
        "id": "VNjj3ilrZg8t",
        "outputId": "fc9ec64e-684c-42d4-dad3-12bd30298e46"
      },
      "outputs": [
        {
          "data": {
            "text/html": [
              "<div>\n",
              "<style scoped>\n",
              "    .dataframe tbody tr th:only-of-type {\n",
              "        vertical-align: middle;\n",
              "    }\n",
              "\n",
              "    .dataframe tbody tr th {\n",
              "        vertical-align: top;\n",
              "    }\n",
              "\n",
              "    .dataframe thead th {\n",
              "        text-align: right;\n",
              "    }\n",
              "</style>\n",
              "<table border=\"1\" class=\"dataframe\">\n",
              "  <thead>\n",
              "    <tr style=\"text-align: right;\">\n",
              "      <th></th>\n",
              "      <th>rating</th>\n",
              "      <th>jp_sales</th>\n",
              "    </tr>\n",
              "  </thead>\n",
              "  <tbody>\n",
              "    <tr>\n",
              "      <th>0</th>\n",
              "      <td>0</td>\n",
              "      <td>14.32</td>\n",
              "    </tr>\n",
              "    <tr>\n",
              "      <th>1</th>\n",
              "      <td>t</td>\n",
              "      <td>2.27</td>\n",
              "    </tr>\n",
              "    <tr>\n",
              "      <th>2</th>\n",
              "      <td>m</td>\n",
              "      <td>1.20</td>\n",
              "    </tr>\n",
              "    <tr>\n",
              "      <th>3</th>\n",
              "      <td>e</td>\n",
              "      <td>1.07</td>\n",
              "    </tr>\n",
              "    <tr>\n",
              "      <th>4</th>\n",
              "      <td>e10+</td>\n",
              "      <td>0.45</td>\n",
              "    </tr>\n",
              "  </tbody>\n",
              "</table>\n",
              "</div>"
            ],
            "text/plain": [
              "  rating  jp_sales\n",
              "0      0     14.32\n",
              "1      t      2.27\n",
              "2      m      1.20\n",
              "3      e      1.07\n",
              "4   e10+      0.45"
            ]
          },
          "execution_count": 59,
          "metadata": {},
          "output_type": "execute_result"
        }
      ],
      "source": [
        "# посмотрим на влияние рейтинга ESRB в Японии.\n",
        "rating_jp = top5_2016.pivot_table(index='rating',\n",
        "                           values='jp_sales',\n",
        "                           aggfunc='sum').sort_values(by='jp_sales', ascending=False)\n",
        "rating_jp = rating_jp.reset_index().rename_axis(None, axis=1)\n",
        "rating_jp"
      ]
    },
    {
      "cell_type": "markdown",
      "metadata": {
        "id": "Z8NII4h7bE6x"
      },
      "source": [
        "#### Резюме.\n",
        "* рейтинг 'M'  лидирует для стран Америки и Европы ('M' - материалы игры не подходят для лиц младше 17 лет),  в Японии лидируют игры без рейтинга.\n",
        "* на втором месте - для Америки и Японии - рейтинг 'T', для Европы - рейтинг 'E' ('E' - содержание подходит для всех возврастов).\n",
        "* на третьем месте - для Европы рейтинг - 'T', для Японии - 'M', в Америке - игры без рейтинга."
      ]
    },
    {
      "cell_type": "markdown",
      "metadata": {
        "id": "cB2I7cg5dhWw"
      },
      "source": [
        "#### Выводы\n",
        "* Самые популярные платформы в Америке и Европе и Японии - PS4. \n",
        "* на втором месте в Америке и Европе - Xone, в Японии - PSV.\n",
        "* на третьем месте в Америке - PC, в Европе - PSV, в Японии - 3DS.\n",
        "* Самый популярный жанр в Америке, Европе и Японии - action. \n",
        "* на втором месте в Америке и Европе - shooter, в Японии - role-playing.\n",
        "* на третьем месте в Америке и Европе - sports, в Японии - adventure.\n",
        "* рейтинг 'M'  лидирует для стран Америки и Европы ('M' - материалы игры не подходят для лиц младше 17 лет),  в Японии лидируют игры без рейтинга.\n",
        "* на втором месте - для Америки и Японии - рейтинг 'T', для Европы - рейтинг 'E' ('E' - содержание подходит для всех возврастов).\n",
        "* на третьем месте - для Европы рейтинг - 'T', для Японии - 'M', в Америке - игры без рейтинга.\n"
      ]
    },
    {
      "cell_type": "markdown",
      "metadata": {
        "id": "f1bNmHOk_4o6"
      },
      "source": [
        "### ШАГ 5. Проверяем гипотезы."
      ]
    },
    {
      "cell_type": "markdown",
      "metadata": {
        "id": "NGJEQT0T-J0I"
      },
      "source": [
        "#### Проверяем гипотезу:\n",
        "* Средние пользовательские рейтинги платформ Xbox One и PC одинаковые\n"
      ]
    },
    {
      "cell_type": "markdown",
      "metadata": {
        "id": "CzQwK7ag8SI6"
      },
      "source": [
        "#### Сформулируем гипотезы:\n",
        "\n",
        "* нулевая гипотеза H₀: средние пользовательские рейтинги платформ Xbox One и PC одинаковые;\n",
        "* альтернативная гипотеза H₁: средние пользовательские рейтинги платформ Xbox One и PC различаются"
      ]
    },
    {
      "cell_type": "code",
      "execution_count": null,
      "metadata": {
        "colab": {
          "base_uri": "https://localhost:8080/"
        },
        "id": "DBeaDbKVwTtx",
        "outputId": "75055e72-4adf-481d-e7d0-cde7514d26b1"
      },
      "outputs": [
        {
          "name": "stdout",
          "output_type": "stream",
          "text": [
            "средний пользовательский рейтинг платформы Xbox One 6.5984855\n",
            "средний пользовательский рейтинг платформы PC 6.2977777\n",
            "p-значение: 0.35162688274315435\n",
            "Не получилось отвергнуть нулевую гипотезу\n"
          ]
        }
      ],
      "source": [
        "xone = games[(games['platform']=='xone') & (games['year_of_release']==2016)]['user_score']\n",
        "pc = games[(games['platform']=='pc') & (games['year_of_release']==2016)]['user_score']\n",
        "\n",
        "print('средний пользовательский рейтинг платформы Xbox One', xone.mean())\n",
        "print('средний пользовательский рейтинг платформы PC', pc.mean())\n",
        "alpha = 0.05 # задаем уровень стат. значимости\n",
        "\n",
        "results = st.ttest_ind(xone.dropna(), pc.dropna(), equal_var=False) # проведите стат. тест о равенстве глубины просмотра сайта за лето и осень\n",
        "\n",
        "# выводим на экран получившееся p-значение\n",
        "print('p-значение:', results.pvalue)\n",
        "\n",
        "if results.pvalue < alpha: # сравниваем получившееся p-значение с alpha\n",
        "    print('Отвергаем нулевую гипотезу')\n",
        "else:\n",
        "    print('Не получилось отвергнуть нулевую гипотезу')"
      ]
    },
    {
      "cell_type": "markdown",
      "metadata": {
        "id": "evM3ovV79S1p"
      },
      "source": [
        "#### Проверяем гипотезу.\n",
        "Средние пользовательские рейтинги жанров Action (англ. «действие», экшен-игры) и Sports (англ. «спортивные соревнования») разные."
      ]
    },
    {
      "cell_type": "markdown",
      "metadata": {
        "id": "fUSkX4r9-jqT"
      },
      "source": [
        "#### Сформулируем гипотезы:\n",
        "\n",
        "* нулевая гипотеза H₀: средние пользовательские рейтинги жанра Action и Sports одинаковы;\n",
        "* альтернативная гипотеза H₁: средние пользовательские рейтинги жанра Action и Sports различаются."
      ]
    },
    {
      "cell_type": "code",
      "execution_count": null,
      "metadata": {
        "colab": {
          "base_uri": "https://localhost:8080/"
        },
        "id": "HE_iOG0u_aIt",
        "outputId": "764f77a7-bcba-4772-9e73-3cfb5b63992a"
      },
      "outputs": [
        {
          "name": "stdout",
          "output_type": "stream",
          "text": [
            "средний пользовательский рейтинг жанра actions 6.6388235\n",
            "средний пользовательский рейтинг жанра sports 5.4324327\n",
            "p-значение: 0.002025027852311006\n",
            "Отвергаем нулевую гипотезу\n"
          ]
        }
      ],
      "source": [
        "action = games[(games['genre']=='action') & (games['year_of_release']==2016)]['user_score']\n",
        "sports = games[(games['genre']=='sports') & (games['year_of_release']==2016)]['user_score']\n",
        "\n",
        "print('средний пользовательский рейтинг жанра actions', action.mean())\n",
        "print('средний пользовательский рейтинг жанра sports', sports.mean())\n",
        "alpha = 0.05 # задаем  уровень стат. значимости\n",
        "\n",
        "results = st.ttest_ind(action.dropna(), sports.dropna(), equal_var=False) # проведите стат. тест о равенстве глубины просмотра сайта за лето и осень\n",
        "\n",
        "# выведим на экран получившееся p-значение\n",
        "print('p-значение:', results.pvalue)\n",
        "\n",
        "if results.pvalue < alpha: # сравниваем получившееся p-значение с alpha\n",
        "    print('Отвергаем нулевую гипотезу')\n",
        "else:\n",
        "    print('Не получилось отвергнуть нулевую гипотезу')"
      ]
    },
    {
      "cell_type": "markdown",
      "metadata": {
        "id": "Ixmg4cQiCyCv"
      },
      "source": [
        "#### Вывод по проверке гипотез.\n",
        "\n",
        "* гипотеза \"средние пользовательские рейтинги платформ Xbox one и PC одинаковые\". Нулевую гипотезу не удалось опровергнуть.\n",
        "- гипотеза \"средние пользовательские рейтинги жанров Action и Sports разные\". Отвергаем нулевую гипотезу.\n"
      ]
    },
    {
      "cell_type": "markdown",
      "metadata": {
        "id": "X7LRraMmADbj"
      },
      "source": [
        "### ШАГ 6. Общий вывод."
      ]
    },
    {
      "cell_type": "markdown",
      "metadata": {
        "id": "tQlQcz4wDYPp"
      },
      "source": [
        "\n",
        "1. В период  с 1980 года по 1990 год количество продаж было относительно малым, с 1991 год наблюдался рост вплоть до 2008-2009 года, затем количество продаж пошло на убыль до 2016 года. \n",
        "2. Топ-5 платформ с наибольшими суммарными продажами (top-5):\n",
        "* ps2\n",
        "* x360\n",
        "* ps3\n",
        "* wii\n",
        "* ds.\n",
        "3. Жизненный цикл платформы находится в диапазоне 10-11 лет.\n",
        "4. Диапазон соответствующего актуального периода охватывает период с 2012 до 2016 года.\n",
        "5. C 2012 года лидируют по продажам платформы: ps4, ps3, x360.\n",
        "* рост продаж не наблюдается ни у одной из платформ.\n",
        "6. Потенциально прибыльными платформами по отношению к 2016 году являются:\n",
        "* ps4;\n",
        "* xone;\n",
        "* 3ds\n",
        "7. резюме по графику \"ящик с усами\":\n",
        "* самое большое медианное значение и межквартильный размах у платформы wiiu;\n",
        "* самое маленькое медианное значение и самые маленькие \"усы\" у платформы pc;\n",
        "* наибольшее количество выбросов и самые длинные \"усы\" наблюдается у платформы ps4.\n",
        "* наличие подобных продолжительных выбросов у платформы ps4 и xone может быть связано с постэффектом прежней популярности - они продавались большими партиями.\n",
        "8. Вывод исходя из полученных данных по корреляции:\n",
        "* между рейтингом критиков и суммарными продажами присутствует слабовыраженная корреляция;\n",
        "* корреляция отсутствует между рейтингом пользователей и суммарными продажами.\n",
        "9. Самые прибыльные жанры:\n",
        "* shooter;\n",
        "* sports;\n",
        "* role-playing.\n",
        "Низкие продажи наблюдаются у:\n",
        "* misc;\n",
        "* adventure;\n",
        "* puzzle.\n",
        "10. Самые популярные платформы в Америке и Европе и Японии - PS4. \n",
        "* на втором месте в Америке и Европе - Xone, в Японии - PSV.\n",
        "* на третьем месте в Америке - PC, в Европе - PSV, в Японии - 3DS.\n",
        "11. Самый популярный жанр в Америке, Европе и Японии - action. \n",
        "* на втором месте в Америке и Европе - shooter, в Японии - role-playing.\n",
        "* на третьем месте в Америке и Европе - sports, в Японии - adventure.\n",
        "12. * рейтинг 'M'  лидирует для стран Америки и Европы ('M' - материалы игры не подходят для лиц младше 17 лет),  в Японии лидируют игры без рейтинга.\n",
        "* на втором месте - для Америки и Японии - рейтинг 'T', для Европы - рейтинг 'E' ('E' - содержание подходит для всех возврастов).\n",
        "* на третьем месте - для Европы рейтинг - 'T', для Японии - 'M', в Америке - игры без рейтинга.\n",
        "13. гипотеза \"средние пользовательские рейтинги платформ Xbox one и PC одинаковые\". Нулевую гипотезу не удалось опровергнуть.\n",
        "- гипотеза \"средние пользовательские рейтинги жанров Action и Sports разные\". Отвергаем нулевую гипотезу.\n"
      ]
    }
  ],
  "metadata": {
    "ExecuteTimeLog": [
      {
        "duration": 1472,
        "start_time": "2023-02-23T19:26:04.997Z"
      },
      {
        "duration": 63,
        "start_time": "2023-02-23T19:26:06.471Z"
      },
      {
        "duration": 109,
        "start_time": "2023-02-23T19:26:06.539Z"
      },
      {
        "duration": 0,
        "start_time": "2023-02-23T19:26:06.653Z"
      },
      {
        "duration": 0,
        "start_time": "2023-02-23T19:26:06.654Z"
      },
      {
        "duration": 0,
        "start_time": "2023-02-23T19:26:06.656Z"
      },
      {
        "duration": 0,
        "start_time": "2023-02-23T19:26:06.657Z"
      },
      {
        "duration": 0,
        "start_time": "2023-02-23T19:26:06.659Z"
      },
      {
        "duration": 0,
        "start_time": "2023-02-23T19:26:06.660Z"
      },
      {
        "duration": 0,
        "start_time": "2023-02-23T19:26:06.662Z"
      },
      {
        "duration": 0,
        "start_time": "2023-02-23T19:26:06.663Z"
      },
      {
        "duration": 0,
        "start_time": "2023-02-23T19:26:06.665Z"
      },
      {
        "duration": 0,
        "start_time": "2023-02-23T19:26:06.667Z"
      },
      {
        "duration": 0,
        "start_time": "2023-02-23T19:26:06.668Z"
      },
      {
        "duration": 0,
        "start_time": "2023-02-23T19:26:06.692Z"
      },
      {
        "duration": 0,
        "start_time": "2023-02-23T19:26:06.693Z"
      },
      {
        "duration": 0,
        "start_time": "2023-02-23T19:26:06.694Z"
      },
      {
        "duration": 1,
        "start_time": "2023-02-23T19:26:06.695Z"
      },
      {
        "duration": 0,
        "start_time": "2023-02-23T19:26:06.696Z"
      },
      {
        "duration": 0,
        "start_time": "2023-02-23T19:26:06.697Z"
      },
      {
        "duration": 0,
        "start_time": "2023-02-23T19:26:06.698Z"
      },
      {
        "duration": 0,
        "start_time": "2023-02-23T19:26:06.700Z"
      },
      {
        "duration": 0,
        "start_time": "2023-02-23T19:26:06.701Z"
      },
      {
        "duration": 0,
        "start_time": "2023-02-23T19:26:06.702Z"
      },
      {
        "duration": 0,
        "start_time": "2023-02-23T19:26:06.703Z"
      },
      {
        "duration": 0,
        "start_time": "2023-02-23T19:26:06.704Z"
      },
      {
        "duration": 0,
        "start_time": "2023-02-23T19:26:06.705Z"
      },
      {
        "duration": 0,
        "start_time": "2023-02-23T19:26:06.706Z"
      },
      {
        "duration": 0,
        "start_time": "2023-02-23T19:26:06.707Z"
      },
      {
        "duration": 0,
        "start_time": "2023-02-23T19:26:06.708Z"
      },
      {
        "duration": 0,
        "start_time": "2023-02-23T19:26:06.709Z"
      },
      {
        "duration": 0,
        "start_time": "2023-02-23T19:26:06.711Z"
      },
      {
        "duration": 0,
        "start_time": "2023-02-23T19:26:06.712Z"
      },
      {
        "duration": 0,
        "start_time": "2023-02-23T19:26:06.713Z"
      },
      {
        "duration": 0,
        "start_time": "2023-02-23T19:26:06.714Z"
      },
      {
        "duration": 0,
        "start_time": "2023-02-23T19:26:06.715Z"
      },
      {
        "duration": 0,
        "start_time": "2023-02-23T19:26:06.716Z"
      },
      {
        "duration": 0,
        "start_time": "2023-02-23T19:26:06.717Z"
      },
      {
        "duration": 0,
        "start_time": "2023-02-23T19:26:06.718Z"
      },
      {
        "duration": 0,
        "start_time": "2023-02-23T19:26:06.719Z"
      },
      {
        "duration": 0,
        "start_time": "2023-02-23T19:26:06.720Z"
      },
      {
        "duration": 0,
        "start_time": "2023-02-23T19:26:06.721Z"
      },
      {
        "duration": 0,
        "start_time": "2023-02-23T19:26:06.722Z"
      },
      {
        "duration": 0,
        "start_time": "2023-02-23T19:26:06.723Z"
      },
      {
        "duration": 0,
        "start_time": "2023-02-23T19:26:06.724Z"
      },
      {
        "duration": 0,
        "start_time": "2023-02-23T19:26:06.725Z"
      },
      {
        "duration": 0,
        "start_time": "2023-02-23T19:26:06.726Z"
      },
      {
        "duration": 0,
        "start_time": "2023-02-23T19:26:06.727Z"
      },
      {
        "duration": 0,
        "start_time": "2023-02-23T19:26:06.728Z"
      },
      {
        "duration": 0,
        "start_time": "2023-02-23T19:26:06.729Z"
      },
      {
        "duration": 0,
        "start_time": "2023-02-23T19:26:06.731Z"
      },
      {
        "duration": 0,
        "start_time": "2023-02-23T19:26:06.732Z"
      },
      {
        "duration": 0,
        "start_time": "2023-02-23T19:26:06.732Z"
      },
      {
        "duration": 0,
        "start_time": "2023-02-23T19:26:06.733Z"
      },
      {
        "duration": 0,
        "start_time": "2023-02-23T19:26:06.733Z"
      },
      {
        "duration": 0,
        "start_time": "2023-02-23T19:26:06.734Z"
      },
      {
        "duration": 0,
        "start_time": "2023-02-23T19:26:06.734Z"
      },
      {
        "duration": 0,
        "start_time": "2023-02-23T19:26:06.735Z"
      },
      {
        "duration": 0,
        "start_time": "2023-02-23T19:26:06.792Z"
      },
      {
        "duration": 0,
        "start_time": "2023-02-23T19:26:06.794Z"
      },
      {
        "duration": 0,
        "start_time": "2023-02-23T19:26:06.795Z"
      },
      {
        "duration": 0,
        "start_time": "2023-02-23T19:26:06.797Z"
      },
      {
        "duration": 0,
        "start_time": "2023-02-23T19:26:06.799Z"
      },
      {
        "duration": 0,
        "start_time": "2023-02-23T19:26:06.800Z"
      },
      {
        "duration": 0,
        "start_time": "2023-02-23T19:26:06.802Z"
      },
      {
        "duration": 0,
        "start_time": "2023-02-23T19:26:06.803Z"
      },
      {
        "duration": 0,
        "start_time": "2023-02-23T19:26:06.808Z"
      },
      {
        "duration": 0,
        "start_time": "2023-02-23T19:26:06.812Z"
      },
      {
        "duration": 0,
        "start_time": "2023-02-23T19:26:06.816Z"
      },
      {
        "duration": 0,
        "start_time": "2023-02-23T19:26:06.817Z"
      },
      {
        "duration": 0,
        "start_time": "2023-02-23T19:26:06.818Z"
      },
      {
        "duration": 0,
        "start_time": "2023-02-23T19:26:06.820Z"
      },
      {
        "duration": 0,
        "start_time": "2023-02-23T19:26:06.821Z"
      },
      {
        "duration": 0,
        "start_time": "2023-02-23T19:26:06.824Z"
      },
      {
        "duration": 0,
        "start_time": "2023-02-23T19:26:06.825Z"
      },
      {
        "duration": 0,
        "start_time": "2023-02-23T19:26:06.826Z"
      },
      {
        "duration": 0,
        "start_time": "2023-02-23T19:26:06.828Z"
      },
      {
        "duration": 0,
        "start_time": "2023-02-23T19:26:06.829Z"
      },
      {
        "duration": 0,
        "start_time": "2023-02-23T19:26:06.831Z"
      },
      {
        "duration": 0,
        "start_time": "2023-02-23T19:26:06.832Z"
      },
      {
        "duration": 0,
        "start_time": "2023-02-23T19:26:06.833Z"
      },
      {
        "duration": 1278,
        "start_time": "2023-02-23T19:34:25.209Z"
      },
      {
        "duration": 99,
        "start_time": "2023-02-23T19:34:27.249Z"
      },
      {
        "duration": 108,
        "start_time": "2023-02-23T19:34:28.408Z"
      },
      {
        "duration": 50,
        "start_time": "2023-02-23T19:35:11.692Z"
      },
      {
        "duration": 5,
        "start_time": "2023-02-23T19:35:13.158Z"
      },
      {
        "duration": 25,
        "start_time": "2023-02-23T19:35:31.127Z"
      },
      {
        "duration": 22,
        "start_time": "2023-02-23T19:35:32.026Z"
      },
      {
        "duration": 17,
        "start_time": "2023-02-23T19:35:32.911Z"
      },
      {
        "duration": 10,
        "start_time": "2023-02-23T19:35:33.627Z"
      },
      {
        "duration": 7,
        "start_time": "2023-02-23T19:35:34.319Z"
      },
      {
        "duration": 9,
        "start_time": "2023-02-23T19:35:34.924Z"
      },
      {
        "duration": 4,
        "start_time": "2023-02-23T19:35:36.790Z"
      },
      {
        "duration": 30,
        "start_time": "2023-02-23T19:35:37.346Z"
      },
      {
        "duration": 14,
        "start_time": "2023-02-23T19:35:37.941Z"
      },
      {
        "duration": 30,
        "start_time": "2023-02-23T19:35:39.058Z"
      },
      {
        "duration": 11,
        "start_time": "2023-02-23T19:35:40.206Z"
      },
      {
        "duration": 16,
        "start_time": "2023-02-23T19:35:40.775Z"
      },
      {
        "duration": 12,
        "start_time": "2023-02-23T19:35:41.306Z"
      },
      {
        "duration": 12,
        "start_time": "2023-02-23T19:35:41.842Z"
      },
      {
        "duration": 14,
        "start_time": "2023-02-23T19:35:42.358Z"
      },
      {
        "duration": 26,
        "start_time": "2023-02-23T19:35:42.875Z"
      },
      {
        "duration": 5,
        "start_time": "2023-02-23T19:35:43.391Z"
      },
      {
        "duration": 8,
        "start_time": "2023-02-23T19:35:45.427Z"
      },
      {
        "duration": 735,
        "start_time": "2023-02-23T19:35:45.941Z"
      },
      {
        "duration": 76,
        "start_time": "2023-02-23T19:35:46.973Z"
      },
      {
        "duration": 10,
        "start_time": "2023-02-23T19:35:47.524Z"
      },
      {
        "duration": 8,
        "start_time": "2023-02-23T19:35:48.605Z"
      },
      {
        "duration": 11,
        "start_time": "2023-02-23T19:35:49.145Z"
      },
      {
        "duration": 224,
        "start_time": "2023-02-23T19:35:49.608Z"
      },
      {
        "duration": 8,
        "start_time": "2023-02-23T19:35:50.175Z"
      },
      {
        "duration": 7,
        "start_time": "2023-02-23T19:35:50.829Z"
      },
      {
        "duration": 251,
        "start_time": "2023-02-23T19:35:51.360Z"
      },
      {
        "duration": 85,
        "start_time": "2023-02-23T19:35:51.891Z"
      },
      {
        "duration": 459,
        "start_time": "2023-02-23T19:35:52.475Z"
      },
      {
        "duration": 395,
        "start_time": "2023-02-23T19:35:53.058Z"
      },
      {
        "duration": 7,
        "start_time": "2023-02-23T19:35:53.645Z"
      },
      {
        "duration": 187,
        "start_time": "2023-02-23T19:35:54.209Z"
      },
      {
        "duration": 199,
        "start_time": "2023-02-23T19:35:54.758Z"
      },
      {
        "duration": 8,
        "start_time": "2023-02-23T19:35:55.274Z"
      },
      {
        "duration": 8,
        "start_time": "2023-02-23T19:35:55.756Z"
      },
      {
        "duration": 183,
        "start_time": "2023-02-23T19:35:56.309Z"
      },
      {
        "duration": 14,
        "start_time": "2023-02-23T19:35:57.376Z"
      },
      {
        "duration": 5,
        "start_time": "2023-02-23T19:35:57.948Z"
      },
      {
        "duration": 8,
        "start_time": "2023-02-23T19:35:58.557Z"
      },
      {
        "duration": 7,
        "start_time": "2023-02-23T19:35:59.108Z"
      },
      {
        "duration": 8,
        "start_time": "2023-02-23T19:35:59.658Z"
      },
      {
        "duration": 8,
        "start_time": "2023-02-23T19:36:00.191Z"
      },
      {
        "duration": 7,
        "start_time": "2023-02-23T19:36:00.725Z"
      },
      {
        "duration": 187,
        "start_time": "2023-02-23T19:36:01.259Z"
      },
      {
        "duration": 7,
        "start_time": "2023-02-23T19:36:01.758Z"
      },
      {
        "duration": 7,
        "start_time": "2023-02-23T19:36:02.327Z"
      },
      {
        "duration": 7,
        "start_time": "2023-02-23T19:36:02.856Z"
      },
      {
        "duration": 7,
        "start_time": "2023-02-23T19:36:03.385Z"
      },
      {
        "duration": 6,
        "start_time": "2023-02-23T19:36:03.938Z"
      },
      {
        "duration": 6,
        "start_time": "2023-02-23T19:36:05.083Z"
      },
      {
        "duration": 7,
        "start_time": "2023-02-23T19:36:05.613Z"
      },
      {
        "duration": 67,
        "start_time": "2023-02-23T19:36:06.141Z"
      },
      {
        "duration": 7,
        "start_time": "2023-02-23T19:36:06.709Z"
      },
      {
        "duration": 7,
        "start_time": "2023-02-23T19:36:07.208Z"
      },
      {
        "duration": 7,
        "start_time": "2023-02-23T19:36:07.708Z"
      },
      {
        "duration": 9,
        "start_time": "2023-02-23T19:36:08.226Z"
      },
      {
        "duration": 190,
        "start_time": "2023-02-23T19:36:08.783Z"
      },
      {
        "duration": 152,
        "start_time": "2023-02-23T19:36:09.922Z"
      },
      {
        "duration": 152,
        "start_time": "2023-02-23T19:36:10.449Z"
      },
      {
        "duration": 4,
        "start_time": "2023-02-23T19:36:10.992Z"
      },
      {
        "duration": 4,
        "start_time": "2023-02-23T19:36:11.525Z"
      },
      {
        "duration": 628,
        "start_time": "2023-02-23T19:36:12.058Z"
      },
      {
        "duration": 577,
        "start_time": "2023-02-23T19:36:12.687Z"
      },
      {
        "duration": 18,
        "start_time": "2023-02-23T19:36:13.266Z"
      },
      {
        "duration": 7,
        "start_time": "2023-02-23T19:36:13.694Z"
      },
      {
        "duration": 16,
        "start_time": "2023-02-23T19:36:14.774Z"
      },
      {
        "duration": 219,
        "start_time": "2023-02-23T19:36:15.291Z"
      },
      {
        "duration": 25,
        "start_time": "2023-02-23T19:36:17.981Z"
      },
      {
        "duration": 25,
        "start_time": "2023-02-23T19:36:19.656Z"
      },
      {
        "duration": 25,
        "start_time": "2023-02-23T19:36:21.224Z"
      },
      {
        "duration": 25,
        "start_time": "2023-02-23T19:36:23.320Z"
      },
      {
        "duration": 23,
        "start_time": "2023-02-23T19:36:24.373Z"
      },
      {
        "duration": 23,
        "start_time": "2023-02-23T19:36:25.433Z"
      },
      {
        "duration": 19,
        "start_time": "2023-02-23T19:36:27.007Z"
      },
      {
        "duration": 22,
        "start_time": "2023-02-23T19:36:27.541Z"
      },
      {
        "duration": 22,
        "start_time": "2023-02-23T19:36:28.091Z"
      },
      {
        "duration": 12,
        "start_time": "2023-02-23T19:36:31.691Z"
      },
      {
        "duration": 12,
        "start_time": "2023-02-23T19:36:33.380Z"
      },
      {
        "duration": 4,
        "start_time": "2023-02-23T19:40:06.300Z"
      },
      {
        "duration": 49,
        "start_time": "2023-02-23T19:40:07.433Z"
      },
      {
        "duration": 3,
        "start_time": "2023-02-23T19:40:07.952Z"
      },
      {
        "duration": 14,
        "start_time": "2023-02-23T19:40:09.105Z"
      },
      {
        "duration": 13,
        "start_time": "2023-02-23T19:40:09.639Z"
      },
      {
        "duration": 14,
        "start_time": "2023-02-23T19:40:10.142Z"
      },
      {
        "duration": 8,
        "start_time": "2023-02-23T19:40:10.640Z"
      },
      {
        "duration": 7,
        "start_time": "2023-02-23T19:40:11.072Z"
      },
      {
        "duration": 6,
        "start_time": "2023-02-23T19:40:11.456Z"
      },
      {
        "duration": 3,
        "start_time": "2023-02-23T19:40:12.521Z"
      },
      {
        "duration": 29,
        "start_time": "2023-02-23T19:40:12.820Z"
      },
      {
        "duration": 13,
        "start_time": "2023-02-23T19:40:13.322Z"
      },
      {
        "duration": 18,
        "start_time": "2023-02-23T19:40:13.976Z"
      },
      {
        "duration": 10,
        "start_time": "2023-02-23T19:40:14.556Z"
      },
      {
        "duration": 13,
        "start_time": "2023-02-23T19:40:14.856Z"
      },
      {
        "duration": 9,
        "start_time": "2023-02-23T19:40:15.138Z"
      },
      {
        "duration": 9,
        "start_time": "2023-02-23T19:40:15.423Z"
      },
      {
        "duration": 9,
        "start_time": "2023-02-23T19:40:15.708Z"
      },
      {
        "duration": 19,
        "start_time": "2023-02-23T19:40:15.972Z"
      },
      {
        "duration": 4,
        "start_time": "2023-02-23T19:40:16.236Z"
      },
      {
        "duration": 6,
        "start_time": "2023-02-23T19:40:18.656Z"
      },
      {
        "duration": 688,
        "start_time": "2023-02-23T19:40:19.038Z"
      },
      {
        "duration": 156,
        "start_time": "2023-02-23T19:40:19.728Z"
      },
      {
        "duration": 9,
        "start_time": "2023-02-23T19:40:19.965Z"
      },
      {
        "duration": 10,
        "start_time": "2023-02-23T19:40:20.505Z"
      },
      {
        "duration": 7,
        "start_time": "2023-02-23T19:40:20.722Z"
      },
      {
        "duration": 199,
        "start_time": "2023-02-23T19:40:20.957Z"
      },
      {
        "duration": 7,
        "start_time": "2023-02-23T19:40:21.158Z"
      },
      {
        "duration": 9,
        "start_time": "2023-02-23T19:40:21.393Z"
      },
      {
        "duration": 202,
        "start_time": "2023-02-23T19:40:21.588Z"
      },
      {
        "duration": 7,
        "start_time": "2023-02-23T19:40:21.820Z"
      },
      {
        "duration": 7,
        "start_time": "2023-02-23T19:40:22.036Z"
      },
      {
        "duration": 176,
        "start_time": "2023-02-23T19:40:22.253Z"
      },
      {
        "duration": 6,
        "start_time": "2023-02-23T19:40:22.491Z"
      },
      {
        "duration": 8,
        "start_time": "2023-02-23T19:40:22.685Z"
      },
      {
        "duration": 211,
        "start_time": "2023-02-23T19:40:22.902Z"
      },
      {
        "duration": 7,
        "start_time": "2023-02-23T19:40:23.114Z"
      },
      {
        "duration": 7,
        "start_time": "2023-02-23T19:40:23.334Z"
      },
      {
        "duration": 171,
        "start_time": "2023-02-23T19:40:23.543Z"
      },
      {
        "duration": 10,
        "start_time": "2023-02-23T19:40:23.965Z"
      },
      {
        "duration": 4,
        "start_time": "2023-02-23T19:40:24.182Z"
      },
      {
        "duration": 8,
        "start_time": "2023-02-23T19:40:24.386Z"
      },
      {
        "duration": 8,
        "start_time": "2023-02-23T19:40:24.605Z"
      },
      {
        "duration": 7,
        "start_time": "2023-02-23T19:40:24.819Z"
      },
      {
        "duration": 7,
        "start_time": "2023-02-23T19:40:25.036Z"
      },
      {
        "duration": 7,
        "start_time": "2023-02-23T19:40:25.240Z"
      },
      {
        "duration": 196,
        "start_time": "2023-02-23T19:40:25.453Z"
      },
      {
        "duration": 8,
        "start_time": "2023-02-23T19:40:25.692Z"
      },
      {
        "duration": 6,
        "start_time": "2023-02-23T19:40:25.884Z"
      },
      {
        "duration": 6,
        "start_time": "2023-02-23T19:40:26.084Z"
      },
      {
        "duration": 7,
        "start_time": "2023-02-23T19:40:26.298Z"
      },
      {
        "duration": 8,
        "start_time": "2023-02-23T19:40:26.499Z"
      },
      {
        "duration": 6,
        "start_time": "2023-02-23T19:40:26.918Z"
      },
      {
        "duration": 8,
        "start_time": "2023-02-23T19:40:27.121Z"
      },
      {
        "duration": 7,
        "start_time": "2023-02-23T19:40:27.337Z"
      },
      {
        "duration": 7,
        "start_time": "2023-02-23T19:40:27.517Z"
      },
      {
        "duration": 7,
        "start_time": "2023-02-23T19:40:27.734Z"
      },
      {
        "duration": 7,
        "start_time": "2023-02-23T19:40:27.933Z"
      },
      {
        "duration": 7,
        "start_time": "2023-02-23T19:40:28.135Z"
      },
      {
        "duration": 187,
        "start_time": "2023-02-23T19:40:28.350Z"
      },
      {
        "duration": 157,
        "start_time": "2023-02-23T19:40:28.755Z"
      },
      {
        "duration": 157,
        "start_time": "2023-02-23T19:40:28.962Z"
      },
      {
        "duration": 4,
        "start_time": "2023-02-23T19:40:29.156Z"
      },
      {
        "duration": 4,
        "start_time": "2023-02-23T19:40:29.356Z"
      },
      {
        "duration": 611,
        "start_time": "2023-02-23T19:40:29.570Z"
      },
      {
        "duration": 655,
        "start_time": "2023-02-23T19:40:30.182Z"
      },
      {
        "duration": 7,
        "start_time": "2023-02-23T19:40:30.839Z"
      },
      {
        "duration": 41,
        "start_time": "2023-02-23T19:40:30.849Z"
      },
      {
        "duration": 19,
        "start_time": "2023-02-23T19:40:30.891Z"
      },
      {
        "duration": 222,
        "start_time": "2023-02-23T19:40:30.911Z"
      },
      {
        "duration": 26,
        "start_time": "2023-02-23T19:40:33.790Z"
      },
      {
        "duration": 25,
        "start_time": "2023-02-23T19:40:35.557Z"
      },
      {
        "duration": 23,
        "start_time": "2023-02-23T19:40:37.977Z"
      },
      {
        "duration": 24,
        "start_time": "2023-02-23T19:40:40.354Z"
      },
      {
        "duration": 23,
        "start_time": "2023-02-23T19:40:41.510Z"
      },
      {
        "duration": 24,
        "start_time": "2023-02-23T19:40:42.837Z"
      },
      {
        "duration": 16,
        "start_time": "2023-02-23T19:40:44.706Z"
      },
      {
        "duration": 15,
        "start_time": "2023-02-23T19:40:45.457Z"
      },
      {
        "duration": 14,
        "start_time": "2023-02-23T19:40:46.323Z"
      },
      {
        "duration": 12,
        "start_time": "2023-02-23T19:40:50.583Z"
      },
      {
        "duration": 13,
        "start_time": "2023-02-23T19:40:53.556Z"
      },
      {
        "duration": 1293,
        "start_time": "2023-02-24T13:50:47.335Z"
      },
      {
        "duration": 55,
        "start_time": "2023-02-24T13:50:48.631Z"
      },
      {
        "duration": 6,
        "start_time": "2023-02-24T13:50:48.687Z"
      },
      {
        "duration": 24,
        "start_time": "2023-02-24T13:50:48.695Z"
      },
      {
        "duration": 19,
        "start_time": "2023-02-24T13:50:48.721Z"
      },
      {
        "duration": 16,
        "start_time": "2023-02-24T13:50:48.741Z"
      },
      {
        "duration": 10,
        "start_time": "2023-02-24T13:50:48.759Z"
      },
      {
        "duration": 15,
        "start_time": "2023-02-24T13:50:48.771Z"
      },
      {
        "duration": 19,
        "start_time": "2023-02-24T13:50:48.788Z"
      },
      {
        "duration": 4,
        "start_time": "2023-02-24T13:50:48.820Z"
      },
      {
        "duration": 32,
        "start_time": "2023-02-24T13:50:48.826Z"
      },
      {
        "duration": 15,
        "start_time": "2023-02-24T13:50:48.860Z"
      },
      {
        "duration": 44,
        "start_time": "2023-02-24T13:50:48.877Z"
      },
      {
        "duration": 10,
        "start_time": "2023-02-24T13:50:48.923Z"
      },
      {
        "duration": 14,
        "start_time": "2023-02-24T13:50:48.935Z"
      },
      {
        "duration": 11,
        "start_time": "2023-02-24T13:50:48.951Z"
      },
      {
        "duration": 14,
        "start_time": "2023-02-24T13:50:48.963Z"
      },
      {
        "duration": 14,
        "start_time": "2023-02-24T13:50:48.979Z"
      },
      {
        "duration": 47,
        "start_time": "2023-02-24T13:50:48.994Z"
      },
      {
        "duration": 3,
        "start_time": "2023-02-24T13:50:49.043Z"
      },
      {
        "duration": 9,
        "start_time": "2023-02-24T13:50:49.048Z"
      },
      {
        "duration": 817,
        "start_time": "2023-02-24T13:50:49.059Z"
      },
      {
        "duration": 97,
        "start_time": "2023-02-24T13:50:49.877Z"
      },
      {
        "duration": 10,
        "start_time": "2023-02-24T13:50:49.976Z"
      },
      {
        "duration": 13,
        "start_time": "2023-02-24T13:50:49.988Z"
      },
      {
        "duration": 28,
        "start_time": "2023-02-24T13:50:50.003Z"
      },
      {
        "duration": 227,
        "start_time": "2023-02-24T13:50:50.033Z"
      },
      {
        "duration": 7,
        "start_time": "2023-02-24T13:50:50.266Z"
      },
      {
        "duration": 10,
        "start_time": "2023-02-24T13:50:50.275Z"
      },
      {
        "duration": 242,
        "start_time": "2023-02-24T13:50:50.287Z"
      },
      {
        "duration": 6,
        "start_time": "2023-02-24T13:50:50.531Z"
      },
      {
        "duration": 19,
        "start_time": "2023-02-24T13:50:50.539Z"
      },
      {
        "duration": 215,
        "start_time": "2023-02-24T13:50:50.560Z"
      },
      {
        "duration": 7,
        "start_time": "2023-02-24T13:50:50.777Z"
      },
      {
        "duration": 8,
        "start_time": "2023-02-24T13:50:50.786Z"
      },
      {
        "duration": 220,
        "start_time": "2023-02-24T13:50:50.796Z"
      },
      {
        "duration": 6,
        "start_time": "2023-02-24T13:50:51.020Z"
      },
      {
        "duration": 10,
        "start_time": "2023-02-24T13:50:51.027Z"
      },
      {
        "duration": 213,
        "start_time": "2023-02-24T13:50:51.039Z"
      },
      {
        "duration": 11,
        "start_time": "2023-02-24T13:50:51.253Z"
      },
      {
        "duration": 25,
        "start_time": "2023-02-24T13:50:51.266Z"
      },
      {
        "duration": 26,
        "start_time": "2023-02-24T13:50:51.293Z"
      },
      {
        "duration": 12,
        "start_time": "2023-02-24T13:50:51.321Z"
      },
      {
        "duration": 19,
        "start_time": "2023-02-24T13:50:51.335Z"
      },
      {
        "duration": 11,
        "start_time": "2023-02-24T13:50:51.357Z"
      },
      {
        "duration": 23,
        "start_time": "2023-02-24T13:50:51.370Z"
      },
      {
        "duration": 213,
        "start_time": "2023-02-24T13:50:51.395Z"
      },
      {
        "duration": 15,
        "start_time": "2023-02-24T13:50:51.610Z"
      },
      {
        "duration": 32,
        "start_time": "2023-02-24T13:50:51.627Z"
      },
      {
        "duration": 35,
        "start_time": "2023-02-24T13:50:51.661Z"
      },
      {
        "duration": 21,
        "start_time": "2023-02-24T13:50:51.699Z"
      },
      {
        "duration": 11,
        "start_time": "2023-02-24T13:50:51.722Z"
      },
      {
        "duration": 31,
        "start_time": "2023-02-24T13:50:51.735Z"
      },
      {
        "duration": 101,
        "start_time": "2023-02-24T13:50:51.768Z"
      },
      {
        "duration": 21,
        "start_time": "2023-02-24T13:50:51.871Z"
      },
      {
        "duration": 58,
        "start_time": "2023-02-24T13:50:51.894Z"
      },
      {
        "duration": 19,
        "start_time": "2023-02-24T13:50:51.954Z"
      },
      {
        "duration": 22,
        "start_time": "2023-02-24T13:50:51.976Z"
      },
      {
        "duration": 16,
        "start_time": "2023-02-24T13:50:52.000Z"
      },
      {
        "duration": 236,
        "start_time": "2023-02-24T13:50:52.018Z"
      },
      {
        "duration": 197,
        "start_time": "2023-02-24T13:50:52.256Z"
      },
      {
        "duration": 197,
        "start_time": "2023-02-24T13:50:52.455Z"
      },
      {
        "duration": 5,
        "start_time": "2023-02-24T13:50:52.654Z"
      },
      {
        "duration": 10,
        "start_time": "2023-02-24T13:50:52.661Z"
      },
      {
        "duration": 740,
        "start_time": "2023-02-24T13:50:52.673Z"
      },
      {
        "duration": 661,
        "start_time": "2023-02-24T13:50:53.415Z"
      },
      {
        "duration": 9,
        "start_time": "2023-02-24T13:50:54.078Z"
      },
      {
        "duration": 15,
        "start_time": "2023-02-24T13:50:54.088Z"
      },
      {
        "duration": 18,
        "start_time": "2023-02-24T13:50:54.121Z"
      },
      {
        "duration": 266,
        "start_time": "2023-02-24T13:50:54.141Z"
      },
      {
        "duration": 36,
        "start_time": "2023-02-24T13:50:54.409Z"
      },
      {
        "duration": 38,
        "start_time": "2023-02-24T13:50:54.447Z"
      },
      {
        "duration": 55,
        "start_time": "2023-02-24T13:50:54.488Z"
      },
      {
        "duration": 33,
        "start_time": "2023-02-24T13:50:54.548Z"
      },
      {
        "duration": 49,
        "start_time": "2023-02-24T13:50:54.584Z"
      },
      {
        "duration": 32,
        "start_time": "2023-02-24T13:50:54.636Z"
      },
      {
        "duration": 32,
        "start_time": "2023-02-24T13:50:54.670Z"
      },
      {
        "duration": 25,
        "start_time": "2023-02-24T13:50:54.725Z"
      },
      {
        "duration": 26,
        "start_time": "2023-02-24T13:50:54.752Z"
      },
      {
        "duration": 44,
        "start_time": "2023-02-24T13:50:54.780Z"
      },
      {
        "duration": 21,
        "start_time": "2023-02-24T13:50:54.826Z"
      },
      {
        "duration": 1306,
        "start_time": "2023-02-25T09:25:04.646Z"
      },
      {
        "duration": 184,
        "start_time": "2023-02-25T09:25:06.883Z"
      },
      {
        "duration": 5,
        "start_time": "2023-02-25T09:25:07.844Z"
      },
      {
        "duration": 20,
        "start_time": "2023-02-25T09:25:11.514Z"
      },
      {
        "duration": 17,
        "start_time": "2023-02-25T09:25:12.566Z"
      },
      {
        "duration": 16,
        "start_time": "2023-02-25T09:25:13.896Z"
      },
      {
        "duration": 9,
        "start_time": "2023-02-25T09:25:14.929Z"
      },
      {
        "duration": 6,
        "start_time": "2023-02-25T09:25:16.752Z"
      },
      {
        "duration": 7,
        "start_time": "2023-02-25T09:25:17.505Z"
      },
      {
        "duration": 3,
        "start_time": "2023-02-25T09:25:20.026Z"
      },
      {
        "duration": 27,
        "start_time": "2023-02-25T09:25:21.005Z"
      },
      {
        "duration": 15,
        "start_time": "2023-02-25T09:25:21.996Z"
      },
      {
        "duration": 18,
        "start_time": "2023-02-25T09:25:24.486Z"
      },
      {
        "duration": 10,
        "start_time": "2023-02-25T09:25:26.924Z"
      },
      {
        "duration": 13,
        "start_time": "2023-02-25T09:25:28.035Z"
      },
      {
        "duration": 9,
        "start_time": "2023-02-25T09:25:28.753Z"
      },
      {
        "duration": 11,
        "start_time": "2023-02-25T09:25:29.338Z"
      },
      {
        "duration": 12,
        "start_time": "2023-02-25T09:25:30.394Z"
      },
      {
        "duration": 22,
        "start_time": "2023-02-25T09:25:30.882Z"
      },
      {
        "duration": 4,
        "start_time": "2023-02-25T09:25:32.100Z"
      },
      {
        "duration": 6,
        "start_time": "2023-02-25T09:25:34.637Z"
      },
      {
        "duration": 768,
        "start_time": "2023-02-25T09:25:35.131Z"
      },
      {
        "duration": 99,
        "start_time": "2023-02-25T09:25:37.830Z"
      },
      {
        "duration": 13,
        "start_time": "2023-02-25T09:25:39.328Z"
      },
      {
        "duration": 400,
        "start_time": "2023-02-25T09:25:40.409Z"
      },
      {
        "duration": 13,
        "start_time": "2023-02-25T09:25:43.500Z"
      },
      {
        "duration": 6,
        "start_time": "2023-02-25T09:25:44.410Z"
      },
      {
        "duration": 1219,
        "start_time": "2023-02-25T09:25:45.273Z"
      },
      {
        "duration": 730,
        "start_time": "2023-02-25T09:25:49.531Z"
      },
      {
        "duration": 4,
        "start_time": "2023-02-25T09:25:53.567Z"
      },
      {
        "duration": 7,
        "start_time": "2023-02-25T09:25:54.501Z"
      },
      {
        "duration": 15,
        "start_time": "2023-02-25T09:25:55.944Z"
      },
      {
        "duration": 214,
        "start_time": "2023-02-25T09:25:56.782Z"
      },
      {
        "duration": 384,
        "start_time": "2023-02-25T09:25:58.129Z"
      },
      {
        "duration": 7,
        "start_time": "2023-02-25T09:26:01.190Z"
      },
      {
        "duration": 220,
        "start_time": "2023-02-25T09:26:02.039Z"
      },
      {
        "duration": 8,
        "start_time": "2023-02-25T09:26:04.281Z"
      },
      {
        "duration": 309,
        "start_time": "2023-02-25T09:26:05.286Z"
      },
      {
        "duration": 191,
        "start_time": "2023-02-25T09:26:11.782Z"
      },
      {
        "duration": 204,
        "start_time": "2023-02-25T09:26:12.868Z"
      },
      {
        "duration": 5,
        "start_time": "2023-02-25T09:26:13.950Z"
      },
      {
        "duration": 5,
        "start_time": "2023-02-25T09:26:15.031Z"
      },
      {
        "duration": 7,
        "start_time": "2023-02-25T09:26:16.934Z"
      },
      {
        "duration": 4,
        "start_time": "2023-02-25T09:26:17.988Z"
      },
      {
        "duration": 696,
        "start_time": "2023-02-25T09:26:18.796Z"
      },
      {
        "duration": 662,
        "start_time": "2023-02-25T09:26:21.278Z"
      },
      {
        "duration": 15,
        "start_time": "2023-02-25T09:26:22.814Z"
      },
      {
        "duration": 16,
        "start_time": "2023-02-25T09:26:24.277Z"
      },
      {
        "duration": 17,
        "start_time": "2023-02-25T09:26:29.938Z"
      },
      {
        "duration": 332,
        "start_time": "2023-02-25T09:26:31.209Z"
      },
      {
        "duration": 26,
        "start_time": "2023-02-25T09:27:10.140Z"
      },
      {
        "duration": 27,
        "start_time": "2023-02-25T09:27:13.647Z"
      },
      {
        "duration": 29,
        "start_time": "2023-02-25T09:27:17.494Z"
      },
      {
        "duration": 26,
        "start_time": "2023-02-25T09:27:21.928Z"
      },
      {
        "duration": 24,
        "start_time": "2023-02-25T09:27:24.027Z"
      },
      {
        "duration": 31,
        "start_time": "2023-02-25T09:27:25.995Z"
      },
      {
        "duration": 17,
        "start_time": "2023-02-25T09:27:28.888Z"
      },
      {
        "duration": 17,
        "start_time": "2023-02-25T09:27:30.181Z"
      },
      {
        "duration": 16,
        "start_time": "2023-02-25T09:27:30.987Z"
      },
      {
        "duration": 13,
        "start_time": "2023-02-25T09:27:37.488Z"
      },
      {
        "duration": 13,
        "start_time": "2023-02-25T09:27:40.412Z"
      },
      {
        "duration": 1171,
        "start_time": "2023-02-26T08:04:52.673Z"
      },
      {
        "duration": 59,
        "start_time": "2023-02-26T08:04:53.846Z"
      },
      {
        "duration": 5,
        "start_time": "2023-02-26T08:04:53.907Z"
      },
      {
        "duration": 16,
        "start_time": "2023-02-26T08:04:53.913Z"
      },
      {
        "duration": 18,
        "start_time": "2023-02-26T08:04:53.931Z"
      },
      {
        "duration": 14,
        "start_time": "2023-02-26T08:04:53.950Z"
      },
      {
        "duration": 7,
        "start_time": "2023-02-26T08:04:53.965Z"
      },
      {
        "duration": 30,
        "start_time": "2023-02-26T08:04:53.974Z"
      },
      {
        "duration": 8,
        "start_time": "2023-02-26T08:04:54.005Z"
      },
      {
        "duration": 9,
        "start_time": "2023-02-26T08:04:54.014Z"
      },
      {
        "duration": 36,
        "start_time": "2023-02-26T08:04:54.024Z"
      },
      {
        "duration": 18,
        "start_time": "2023-02-26T08:04:54.062Z"
      },
      {
        "duration": 46,
        "start_time": "2023-02-26T08:04:54.082Z"
      },
      {
        "duration": 13,
        "start_time": "2023-02-26T08:04:54.132Z"
      },
      {
        "duration": 19,
        "start_time": "2023-02-26T08:04:54.147Z"
      },
      {
        "duration": 10,
        "start_time": "2023-02-26T08:04:54.168Z"
      },
      {
        "duration": 32,
        "start_time": "2023-02-26T08:04:54.179Z"
      },
      {
        "duration": 10,
        "start_time": "2023-02-26T08:04:54.213Z"
      },
      {
        "duration": 29,
        "start_time": "2023-02-26T08:04:54.225Z"
      },
      {
        "duration": 4,
        "start_time": "2023-02-26T08:04:54.256Z"
      },
      {
        "duration": 12,
        "start_time": "2023-02-26T08:04:54.262Z"
      },
      {
        "duration": 738,
        "start_time": "2023-02-26T08:04:54.275Z"
      },
      {
        "duration": 111,
        "start_time": "2023-02-26T08:04:55.014Z"
      },
      {
        "duration": 14,
        "start_time": "2023-02-26T08:04:55.127Z"
      },
      {
        "duration": 393,
        "start_time": "2023-02-26T08:04:55.142Z"
      },
      {
        "duration": 10,
        "start_time": "2023-02-26T08:04:55.537Z"
      },
      {
        "duration": 5,
        "start_time": "2023-02-26T08:04:55.548Z"
      },
      {
        "duration": 1037,
        "start_time": "2023-02-26T08:04:55.555Z"
      },
      {
        "duration": 143,
        "start_time": "2023-02-26T08:04:56.594Z"
      },
      {
        "duration": 3,
        "start_time": "2023-02-26T08:04:56.739Z"
      },
      {
        "duration": 9,
        "start_time": "2023-02-26T08:04:56.744Z"
      },
      {
        "duration": 13,
        "start_time": "2023-02-26T08:04:56.754Z"
      },
      {
        "duration": 230,
        "start_time": "2023-02-26T08:04:56.768Z"
      },
      {
        "duration": 434,
        "start_time": "2023-02-26T08:04:57.003Z"
      },
      {
        "duration": 6,
        "start_time": "2023-02-26T08:04:57.438Z"
      },
      {
        "duration": 203,
        "start_time": "2023-02-26T08:04:57.446Z"
      },
      {
        "duration": 7,
        "start_time": "2023-02-26T08:04:57.651Z"
      },
      {
        "duration": 308,
        "start_time": "2023-02-26T08:04:57.660Z"
      },
      {
        "duration": 191,
        "start_time": "2023-02-26T08:04:57.970Z"
      },
      {
        "duration": 197,
        "start_time": "2023-02-26T08:04:58.163Z"
      },
      {
        "duration": 4,
        "start_time": "2023-02-26T08:04:58.364Z"
      },
      {
        "duration": 7,
        "start_time": "2023-02-26T08:04:58.369Z"
      },
      {
        "duration": 9,
        "start_time": "2023-02-26T08:04:58.377Z"
      },
      {
        "duration": 18,
        "start_time": "2023-02-26T08:04:58.387Z"
      },
      {
        "duration": 679,
        "start_time": "2023-02-26T08:04:58.407Z"
      },
      {
        "duration": 648,
        "start_time": "2023-02-26T08:04:59.088Z"
      },
      {
        "duration": 14,
        "start_time": "2023-02-26T08:04:59.738Z"
      },
      {
        "duration": 14,
        "start_time": "2023-02-26T08:04:59.754Z"
      },
      {
        "duration": 34,
        "start_time": "2023-02-26T08:04:59.770Z"
      },
      {
        "duration": 325,
        "start_time": "2023-02-26T08:04:59.805Z"
      },
      {
        "duration": 28,
        "start_time": "2023-02-26T08:05:00.132Z"
      },
      {
        "duration": 44,
        "start_time": "2023-02-26T08:05:00.162Z"
      },
      {
        "duration": 26,
        "start_time": "2023-02-26T08:05:00.207Z"
      },
      {
        "duration": 45,
        "start_time": "2023-02-26T08:05:00.235Z"
      },
      {
        "duration": 77,
        "start_time": "2023-02-26T08:05:00.282Z"
      },
      {
        "duration": 59,
        "start_time": "2023-02-26T08:05:00.361Z"
      },
      {
        "duration": 29,
        "start_time": "2023-02-26T08:05:00.422Z"
      },
      {
        "duration": 43,
        "start_time": "2023-02-26T08:05:00.453Z"
      },
      {
        "duration": 41,
        "start_time": "2023-02-26T08:05:00.498Z"
      },
      {
        "duration": 33,
        "start_time": "2023-02-26T08:05:00.541Z"
      },
      {
        "duration": 34,
        "start_time": "2023-02-26T08:05:00.576Z"
      },
      {
        "duration": 22,
        "start_time": "2023-02-26T08:16:55.953Z"
      },
      {
        "duration": 22,
        "start_time": "2023-02-26T08:20:38.220Z"
      },
      {
        "duration": 1386,
        "start_time": "2023-02-26T10:02:55.280Z"
      },
      {
        "duration": 110,
        "start_time": "2023-02-26T10:02:57.018Z"
      },
      {
        "duration": 6,
        "start_time": "2023-02-26T10:02:57.778Z"
      },
      {
        "duration": 16,
        "start_time": "2023-02-26T10:02:59.605Z"
      },
      {
        "duration": 17,
        "start_time": "2023-02-26T10:03:00.133Z"
      },
      {
        "duration": 30,
        "start_time": "2023-02-26T10:03:00.671Z"
      },
      {
        "duration": 9,
        "start_time": "2023-02-26T10:03:01.184Z"
      },
      {
        "duration": 7,
        "start_time": "2023-02-26T10:03:01.705Z"
      },
      {
        "duration": 6,
        "start_time": "2023-02-26T10:03:02.203Z"
      },
      {
        "duration": 4,
        "start_time": "2023-02-26T10:03:04.104Z"
      },
      {
        "duration": 46,
        "start_time": "2023-02-26T10:03:05.054Z"
      },
      {
        "duration": 16,
        "start_time": "2023-02-26T10:03:06.043Z"
      },
      {
        "duration": 18,
        "start_time": "2023-02-26T10:03:07.524Z"
      },
      {
        "duration": 11,
        "start_time": "2023-02-26T10:03:08.483Z"
      },
      {
        "duration": 14,
        "start_time": "2023-02-26T10:03:09.459Z"
      },
      {
        "duration": 10,
        "start_time": "2023-02-26T10:03:09.922Z"
      },
      {
        "duration": 11,
        "start_time": "2023-02-26T10:03:10.362Z"
      },
      {
        "duration": 11,
        "start_time": "2023-02-26T10:03:11.232Z"
      },
      {
        "duration": 23,
        "start_time": "2023-02-26T10:03:11.666Z"
      },
      {
        "duration": 4,
        "start_time": "2023-02-26T10:03:13.051Z"
      },
      {
        "duration": 7,
        "start_time": "2023-02-26T10:03:14.397Z"
      },
      {
        "duration": 753,
        "start_time": "2023-02-26T10:03:14.848Z"
      },
      {
        "duration": 106,
        "start_time": "2023-02-26T10:03:16.900Z"
      },
      {
        "duration": 14,
        "start_time": "2023-02-26T10:03:18.245Z"
      },
      {
        "duration": 491,
        "start_time": "2023-02-26T10:03:18.680Z"
      },
      {
        "duration": 11,
        "start_time": "2023-02-26T10:03:20.441Z"
      },
      {
        "duration": 6,
        "start_time": "2023-02-26T10:03:20.875Z"
      },
      {
        "duration": 1198,
        "start_time": "2023-02-26T10:03:21.279Z"
      },
      {
        "duration": 146,
        "start_time": "2023-02-26T10:03:23.993Z"
      },
      {
        "duration": 4,
        "start_time": "2023-02-26T10:03:27.204Z"
      },
      {
        "duration": 6,
        "start_time": "2023-02-26T10:03:27.654Z"
      },
      {
        "duration": 13,
        "start_time": "2023-02-26T10:03:28.121Z"
      },
      {
        "duration": 235,
        "start_time": "2023-02-26T10:03:28.584Z"
      },
      {
        "duration": 430,
        "start_time": "2023-02-26T10:03:29.035Z"
      },
      {
        "duration": 5,
        "start_time": "2023-02-26T10:03:30.430Z"
      },
      {
        "duration": 209,
        "start_time": "2023-02-26T10:03:30.865Z"
      },
      {
        "duration": 8,
        "start_time": "2023-02-26T10:03:32.243Z"
      },
      {
        "duration": 324,
        "start_time": "2023-02-26T10:03:32.680Z"
      },
      {
        "duration": 197,
        "start_time": "2023-02-26T10:03:36.324Z"
      },
      {
        "duration": 180,
        "start_time": "2023-02-26T10:03:36.787Z"
      },
      {
        "duration": 5,
        "start_time": "2023-02-26T10:03:37.303Z"
      },
      {
        "duration": 5,
        "start_time": "2023-02-26T10:03:37.775Z"
      },
      {
        "duration": 9,
        "start_time": "2023-02-26T10:03:38.916Z"
      },
      {
        "duration": 5,
        "start_time": "2023-02-26T10:03:39.413Z"
      },
      {
        "duration": 718,
        "start_time": "2023-02-26T10:03:39.863Z"
      },
      {
        "duration": 698,
        "start_time": "2023-02-26T10:03:40.584Z"
      },
      {
        "duration": 16,
        "start_time": "2023-02-26T10:03:41.284Z"
      },
      {
        "duration": 14,
        "start_time": "2023-02-26T10:03:41.302Z"
      },
      {
        "duration": 16,
        "start_time": "2023-02-26T10:03:45.445Z"
      },
      {
        "duration": 349,
        "start_time": "2023-02-26T10:03:45.924Z"
      },
      {
        "duration": 30,
        "start_time": "2023-02-26T10:03:52.813Z"
      },
      {
        "duration": 27,
        "start_time": "2023-02-26T10:03:54.927Z"
      },
      {
        "duration": 29,
        "start_time": "2023-02-26T10:03:56.546Z"
      },
      {
        "duration": 25,
        "start_time": "2023-02-26T10:03:59.126Z"
      },
      {
        "duration": 26,
        "start_time": "2023-02-26T10:04:00.134Z"
      },
      {
        "duration": 24,
        "start_time": "2023-02-26T10:04:01.196Z"
      },
      {
        "duration": 18,
        "start_time": "2023-02-26T10:04:03.327Z"
      },
      {
        "duration": 18,
        "start_time": "2023-02-26T10:04:03.896Z"
      },
      {
        "duration": 16,
        "start_time": "2023-02-26T10:04:04.467Z"
      },
      {
        "duration": 13,
        "start_time": "2023-02-26T10:04:20.403Z"
      },
      {
        "duration": 14,
        "start_time": "2023-02-26T10:04:26.618Z"
      }
    ],
    "colab": {
      "provenance": []
    },
    "kernelspec": {
      "display_name": "Python 3 (ipykernel)",
      "language": "python",
      "name": "python3"
    },
    "language_info": {
      "codemirror_mode": {
        "name": "ipython",
        "version": 3
      },
      "file_extension": ".py",
      "mimetype": "text/x-python",
      "name": "python",
      "nbconvert_exporter": "python",
      "pygments_lexer": "ipython3",
      "version": "3.9.5"
    },
    "toc": {
      "base_numbering": 1,
      "nav_menu": {},
      "number_sections": true,
      "sideBar": true,
      "skip_h1_title": true,
      "title_cell": "Table of Contents",
      "title_sidebar": "Contents",
      "toc_cell": false,
      "toc_position": {
        "height": "calc(100% - 180px)",
        "left": "10px",
        "top": "150px",
        "width": "336px"
      },
      "toc_section_display": true,
      "toc_window_display": true
    }
  },
  "nbformat": 4,
  "nbformat_minor": 0
}